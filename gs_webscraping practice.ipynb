{
 "cells": [
  {
   "cell_type": "code",
   "execution_count": 1,
   "id": "f9d53892-5f79-4c91-96de-7103c4fcbd73",
   "metadata": {},
   "outputs": [],
   "source": [
    "url = \"https://www.girlscoutsww.org/\""
   ]
  },
  {
   "cell_type": "code",
   "execution_count": 2,
   "id": "23acafd8-7a7f-4faf-8800-1f9c764faade",
   "metadata": {},
   "outputs": [],
   "source": [
    "import flask\n",
    "from flask import request, jsonify\n",
    "import requests"
   ]
  },
  {
   "cell_type": "code",
   "execution_count": 3,
   "id": "3f00e6ca-42f2-4c16-85a2-d59ab7c8e109",
   "metadata": {},
   "outputs": [],
   "source": [
    "from bs4 import BeautifulSoup "
   ]
  },
  {
   "cell_type": "code",
   "execution_count": 4,
   "id": "35411bd8-cb4a-484a-b7a7-cc6dd180c3bb",
   "metadata": {},
   "outputs": [],
   "source": [
    "gs_data  = requests.get(url).text "
   ]
  },
  {
   "cell_type": "code",
   "execution_count": 5,
   "id": "65214824-489b-4a3e-99ed-51631dd5e777",
   "metadata": {},
   "outputs": [],
   "source": [
    "soup = BeautifulSoup(gs_data,\"html.parser\")"
   ]
  },
  {
   "cell_type": "code",
   "execution_count": 6,
   "id": "aa179e6d-0318-4d0e-bf18-5f3f8027227d",
   "metadata": {},
   "outputs": [
    {
     "name": "stdout",
     "output_type": "stream",
     "text": [
      "#m0\n",
      "/\n",
      "javascript:void(0)\n",
      "https://www.girlscoutshop.com/WESTERN-WASHINGTON-COUNCIL\n",
      "/en/support-us/ways-to-support-us/donate.html\n",
      "https://mygs.girlscouts.org/my-account\n",
      "https://www.girlscouts.org/es.html\n",
      "javascript:void(0)\n",
      "javascript:void(0)\n",
      "/en/discover.html\n",
      "/en/discover/about-girl-scouts.html\n",
      "/en/discover/about-girl-scouts/who-we-are.html\n",
      "/en/discover/about-girl-scouts/our-history.html\n",
      "/en/discover/our-council.html\n",
      "/en/discover/our-council/contact.html\n",
      "/en/discover/our-council/council-updates.html\n",
      "/en/discover/our-council/faq.html\n",
      "/en/discover/our-council/our-finances.html\n",
      "/en/discover/our-council/careers.html\n",
      "/en/discover.html\n",
      "javascript:void(0)\n",
      "/en/activities.html\n",
      "/en/activities/cookies.html\n",
      "/en/activities/cookies/find-cookies.html\n",
      "/en/activities/cookies/meet-the-cookies.html\n",
      "/en/activities/cookies/operation-cookie.html\n",
      "/en/activities/cookies/for-cookie-sellers/cookie-seller-resources.html\n",
      "/en/activities/camp.html\n",
      "/en/activities/camp/ways-to-camp.html\n",
      "/en/activities/camp/our-properties.html\n",
      "/en/activities/camp/ways-to-camp/overnight-camps.html\n",
      "/en/discover/our-council/careers/seasonal-camp-jobs.html\n",
      "/en/activities/programs.html\n",
      "/en/activities/programs/upcoming-events.html\n",
      "/en/activities/programs/council-programs.html\n",
      "/en/activities/programs/highest-awards.html\n",
      "/en/activities/programs/travel.html\n",
      "/en/activities/programs/council-programs/girl-scouts-beyond-bars.html\n",
      "/en/activities.html\n",
      "javascript:void(0)\n",
      "/en/join.html\n",
      "/en/join/become-a-girl-scout.html\n",
      "/en/join/become-a-girl-scout/ways-to-participate.html\n",
      "/en/join/become-a-volunteer.html\n",
      "/en/join/become-a-volunteer/why-volunteer.html\n",
      "/en/join/become-a-volunteer/ways-to-volunteer.html\n",
      "/en/join/lifetime-membership.html\n",
      "/en/join.html\n",
      "javascript:void(0)\n",
      "/en/support-us.html\n",
      "/en/support-us/ways-to-support-us.html\n",
      "/en/support-us/ways-to-support-us/donate.html\n",
      "/en/support-us/ways-to-support-us/employer-matching.html\n",
      "/en/support-us/ways-to-support-us/ways-to-support-camp.html\n",
      "/en/support-us/our-partners.html\n",
      "/en/support-us/our-partners/corporate-partners.html\n",
      "/en/support-us/our-partners/foundation-partners.html\n",
      "/en/support-us/our-partners/program-partners.html\n",
      "/en/support-us/events.html\n",
      "/en/support-us/events/women-in-leadership.html\n",
      "/en/support-us.html\n",
      "javascript:void(0)\n",
      "/en/members.html\n",
      "/en/members/girl-scouts-families.html\n",
      "/en/members/girl-scouts-families/renew.html\n",
      "/en/members/girl-scouts-families/individually-registered-members.html\n",
      "/en/members/girl-scouts-families/financial-assistance.html\n",
      "/en/members/volunteers.html\n",
      "/en/members/volunteers/forms-and-documents.html\n",
      "/en/members/volunteers/volunteer-toolkit.html\n",
      "/en/members/volunteers/troop-leader-blueprint.html\n",
      "/en/members/volunteers/volunteer-essentials.html\n",
      "/en/members/volunteers/volunteer-learning.html\n",
      "/en/members/alums.html\n",
      "/en/members/alums/girl-scout-network.html\n",
      "/en/members.html\n",
      "https://www.girlscoutshop.com/WESTERN-WASHINGTON-COUNCIL\n",
      "/en/support-us/ways-to-support-us/donate.html\n",
      "https://mygs.girlscouts.org/my-account\n",
      "https://www.girlscouts.org/es.html\n",
      "javascript:void(0)\n",
      "javascript:void(0)\n",
      "/en/join/become-a-girl-scout.html\n",
      "/en/join/become-a-volunteer.html\n",
      "/en/support-us/ways-to-support-us.html\n",
      "/en/join/become-a-girl-scout.html\n",
      "/en/join/become-a-volunteer.html\n",
      "/en/join/become-a-girl-scout/learn-more-youth.html\n",
      "https://www.facebook.com/GirlScoutsWW\n",
      "https://www.instagram.com/girlscoutsww/\n",
      "https://www.linkedin.com/company/girl-scouts-of-western-washington/\n",
      "https://twitter.com/GirlScoutsWW\n",
      "https://www.tiktok.com/@girlscoutsww\n",
      "https://www.youtube.com/user/GirlScoutsWW\n",
      "https://www.pinterest.com/girlscoutsww/\n",
      "http://blog.girlscoutsww.org/\n",
      "/en/discover/our-council/contact.html\n",
      "/en/discover/our-council/health-guidelines.html\n",
      "/en/discover/our-council/council-updates.html\n",
      "/en/discover/our-council/careers.html\n",
      "/en/discover/our-council/terms-and-conditions.html\n",
      "/en/discover/our-council/privacy-policy.html\n",
      "/en/join/become-a-girl-scout.html\n",
      "/en/join/become-a-volunteer.html\n",
      "/en/support-us/ways-to-support-us/donate.html\n"
     ]
    }
   ],
   "source": [
    "#scrape links\n",
    "for link in soup.find_all('a'):  # in html anchor/link is represented by the tag <a>\n",
    "    print(link.get('href'))"
   ]
  },
  {
   "cell_type": "code",
   "execution_count": 7,
   "id": "f3c8cfa5-8aa6-44ef-8ce7-0dab33544d0e",
   "metadata": {},
   "outputs": [
    {
     "name": "stdout",
     "output_type": "stream",
     "text": [
      "/content/dam/girlscoutsww-redesign/images/council-logo/girlscoutsww-white.png\n",
      "/content/dam/girlscoutsww-redesign/images/council-logo/girlscoutsww-green.png\n",
      "/content/dam/girlscoutsww-redesign/images/council-logo/girlscoutsww-green.png\n",
      "/content/dam/gsusa-redesign/GSWeb-Icons-60px_search-white.png\n",
      "/content/dam/gsusa-redesign/GSWeb-Icons-60px_search-black.png\n",
      "/content/dam/gsusa-redesign/GSWeb-Icon_MYGS-white.png\n",
      "/content/dam/gsusa-redesign/GSWeb-Icon_MYGS-black.png\n",
      "/content/dam/gsusa-redesign/GSWeb-Icons-60px_ES-white.png\n",
      "/content/dam/gsusa-redesign/GSWeb-Icons-60px_ES-black.png\n",
      "/content/dam/gsusa-redesign/GSWeb-Icons-60px_search-white.png\n",
      "/content/dam/gsusa-redesign/GSWeb-Icons-60px_search-black.png\n",
      "/content/dam/girlscoutsww-redesign/images/discover/card-discover-610x385.jpg\n",
      "/content/dam/girlscoutsww-redesign/images/activities/card-activities-610x385.jpg\n",
      "/content/dam/girlscoutsww-redesign/images/join/card-join-610x385.jpg\n",
      "/content/dam/girlscoutsww-redesign/images/support-us/card-support-us-610x385.jpg\n",
      "/content/dam/gsusa-redesign/WebNavigation_Members.png\n",
      "/content/dam/gsusa-redesign/GSWeb-Icon_MYGS-white.png\n",
      "/content/dam/gsusa-redesign/GSWeb-Icon_MYGS-black.png\n",
      "/content/dam/gsusa-redesign/GSWeb-Icons-60px_ES-white.png\n",
      "/content/dam/gsusa-redesign/GSWeb-Icons-60px_ES-black.png\n",
      "/content/dam/gsusa-redesign/GSWeb-Icons-60px_search-white.png\n",
      "/content/dam/gsusa-redesign/GSWeb-Icons-60px_search-black.png\n",
      "/content/dam/gsusa-redesign/close.png\n",
      "/content/dam/gsusa-redesign/GSWeb-Icons-60px_close-white.png\n",
      "/content/dam/gsusa-redesign/social-icon-facebook-D.png\n",
      "/content/dam/gsusa-redesign/social-icon-instagram-D.png\n",
      "/content/dam/gsusa-redesign/social-icon-LinkedIn-D.png\n",
      "/content/dam/gsusa-redesign/social-icon-twitter-D.png\n",
      "/content/dam/gsusa-redesign/GSWeb-Icons-60px-tiktok-green.png\n",
      "/content/dam/gsusa-redesign/social-icon-youtube-D.png\n",
      "/content/dam/gsusa-redesign/social-icon-pinterest-D.png\n",
      "/content/dam/girlscoutsww-redesign/images/header-footer/logo_wordpress-60x60.png\n",
      "/content/dam/gsusa-redesign/green-cross.png\n"
     ]
    }
   ],
   "source": [
    "#scrape images\n",
    "for link in soup.find_all('img'):# in html image is represented by the tag <img>\n",
    "    print(link.get('src'))"
   ]
  },
  {
   "cell_type": "code",
   "execution_count": null,
   "id": "9c86b372-cb20-4604-9056-e665b9f18c85",
   "metadata": {},
   "outputs": [],
   "source": []
  }
 ],
 "metadata": {
  "kernelspec": {
   "display_name": "Python",
   "language": "python",
   "name": "conda-env-python-py"
  },
  "language_info": {
   "codemirror_mode": {
    "name": "ipython",
    "version": 3
   },
   "file_extension": ".py",
   "mimetype": "text/x-python",
   "name": "python",
   "nbconvert_exporter": "python",
   "pygments_lexer": "ipython3",
   "version": "3.7.12"
  }
 },
 "nbformat": 4,
 "nbformat_minor": 5
}
