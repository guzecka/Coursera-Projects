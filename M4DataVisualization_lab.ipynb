{
  "cells": [
    {
      "cell_type": "markdown",
      "metadata": {
        "id": "JXRbE-olT1f4"
      },
      "source": [
        "<p style=\"text-align:center\">\n",
        "    <a href=\"https://skills.network/?utm_medium=Exinfluencer&utm_source=Exinfluencer&utm_content=000026UJ&utm_term=10006555&utm_id=NA-SkillsNetwork-Channel-SkillsNetworkCoursesIBMDA0321ENSkillsNetwork21426264-2022-01-01\" target=\"_blank\">\n",
        "    <img src=\"https://cf-courses-data.s3.us.cloud-object-storage.appdomain.cloud/assets/logos/SN_web_lightmode.png\" width=\"200\" alt=\"Skills Network Logo\"  />\n",
        "    </a>\n",
        "</p>\n"
      ]
    },
    {
      "cell_type": "markdown",
      "metadata": {
        "id": "asmAErwvT1f6"
      },
      "source": [
        "# **Data Visualization Lab**\n"
      ]
    },
    {
      "cell_type": "markdown",
      "metadata": {
        "id": "cQgrxtqJT1f6"
      },
      "source": [
        "Estimated time needed: **45 to 60** minutes\n"
      ]
    },
    {
      "cell_type": "markdown",
      "metadata": {
        "id": "axQhihYOT1f6"
      },
      "source": [
        "In this assignment you will be focusing on the visualization of data.\n",
        "\n",
        "The data set will be presented to you in the form of a RDBMS.\n",
        "\n",
        "You will have to use SQL queries to extract the data.\n"
      ]
    },
    {
      "cell_type": "markdown",
      "metadata": {
        "id": "9ur-pB0UT1f6"
      },
      "source": [
        "## Objectives\n"
      ]
    },
    {
      "cell_type": "markdown",
      "metadata": {
        "id": "Q4692LNnT1f7"
      },
      "source": [
        "In this lab you will perform the following:\n"
      ]
    },
    {
      "cell_type": "markdown",
      "metadata": {
        "id": "YKjqnRJdT1f7"
      },
      "source": [
        "*   Visualize the distribution of data.\n",
        "\n",
        "*   Visualize the relationship between two features.\n",
        "\n",
        "*   Visualize composition of data.\n",
        "\n",
        "*   Visualize comparison of data.\n"
      ]
    },
    {
      "cell_type": "markdown",
      "metadata": {
        "id": "AKD_Bku7T1f7"
      },
      "source": [
        "<hr>\n"
      ]
    },
    {
      "cell_type": "markdown",
      "metadata": {
        "id": "I9lZUZxtT1f7"
      },
      "source": [
        "## Demo: How to work with database\n"
      ]
    },
    {
      "cell_type": "markdown",
      "metadata": {
        "id": "S7cPHTC9T1f7"
      },
      "source": [
        "Download database file.\n"
      ]
    },
    {
      "cell_type": "code",
      "execution_count": 1,
      "metadata": {
        "colab": {
          "base_uri": "https://localhost:8080/"
        },
        "id": "KjzCrwqDT1f8",
        "outputId": "16862caf-2430-4f6e-ad7a-4d4845de76d4"
      },
      "outputs": [
        {
          "output_type": "stream",
          "name": "stdout",
          "text": [
            "--2023-03-22 16:48:35--  https://cf-courses-data.s3.us.cloud-object-storage.appdomain.cloud/IBM-DA0321EN-SkillsNetwork/LargeData/m4_survey_data.sqlite\n",
            "Resolving cf-courses-data.s3.us.cloud-object-storage.appdomain.cloud (cf-courses-data.s3.us.cloud-object-storage.appdomain.cloud)... 169.63.118.104\n",
            "Connecting to cf-courses-data.s3.us.cloud-object-storage.appdomain.cloud (cf-courses-data.s3.us.cloud-object-storage.appdomain.cloud)|169.63.118.104|:443... connected.\n",
            "HTTP request sent, awaiting response... 200 OK\n",
            "Length: 36679680 (35M) [application/octet-stream]\n",
            "Saving to: ‘m4_survey_data.sqlite’\n",
            "\n",
            "m4_survey_data.sqli 100%[===================>]  34.98M  30.0MB/s    in 1.2s    \n",
            "\n",
            "2023-03-22 16:48:37 (30.0 MB/s) - ‘m4_survey_data.sqlite’ saved [36679680/36679680]\n",
            "\n"
          ]
        }
      ],
      "source": [
        "!wget https://cf-courses-data.s3.us.cloud-object-storage.appdomain.cloud/IBM-DA0321EN-SkillsNetwork/LargeData/m4_survey_data.sqlite"
      ]
    },
    {
      "cell_type": "markdown",
      "metadata": {
        "id": "CnNyaOm-T1f8"
      },
      "source": [
        "Connect to the database.\n"
      ]
    },
    {
      "cell_type": "code",
      "execution_count": 2,
      "metadata": {
        "id": "uPXpF93zT1f8"
      },
      "outputs": [],
      "source": [
        "import sqlite3\n",
        "conn = sqlite3.connect(\"m4_survey_data.sqlite\") # open a database connection"
      ]
    },
    {
      "cell_type": "markdown",
      "metadata": {
        "id": "V-EJSMeaT1f9"
      },
      "source": [
        "Import pandas module.\n"
      ]
    },
    {
      "cell_type": "code",
      "execution_count": 3,
      "metadata": {
        "id": "-ewFTAN3T1f9"
      },
      "outputs": [],
      "source": [
        "import pandas as pd"
      ]
    },
    {
      "cell_type": "markdown",
      "metadata": {
        "id": "svv2RvbZT1f9"
      },
      "source": [
        "## Demo: How to run an sql query\n"
      ]
    },
    {
      "cell_type": "code",
      "execution_count": 4,
      "metadata": {
        "colab": {
          "base_uri": "https://localhost:8080/",
          "height": 81
        },
        "id": "CILiOgIkT1f9",
        "outputId": "fa7facd9-d145-451b-cd05-7b6b68db53c6"
      },
      "outputs": [
        {
          "output_type": "execute_result",
          "data": {
            "text/plain": [
              "   COUNT(*)\n",
              "0     11398"
            ],
            "text/html": [
              "\n",
              "  <div id=\"df-f7a1f110-a3a5-4da6-afcf-a3e7382ce21d\">\n",
              "    <div class=\"colab-df-container\">\n",
              "      <div>\n",
              "<style scoped>\n",
              "    .dataframe tbody tr th:only-of-type {\n",
              "        vertical-align: middle;\n",
              "    }\n",
              "\n",
              "    .dataframe tbody tr th {\n",
              "        vertical-align: top;\n",
              "    }\n",
              "\n",
              "    .dataframe thead th {\n",
              "        text-align: right;\n",
              "    }\n",
              "</style>\n",
              "<table border=\"1\" class=\"dataframe\">\n",
              "  <thead>\n",
              "    <tr style=\"text-align: right;\">\n",
              "      <th></th>\n",
              "      <th>COUNT(*)</th>\n",
              "    </tr>\n",
              "  </thead>\n",
              "  <tbody>\n",
              "    <tr>\n",
              "      <th>0</th>\n",
              "      <td>11398</td>\n",
              "    </tr>\n",
              "  </tbody>\n",
              "</table>\n",
              "</div>\n",
              "      <button class=\"colab-df-convert\" onclick=\"convertToInteractive('df-f7a1f110-a3a5-4da6-afcf-a3e7382ce21d')\"\n",
              "              title=\"Convert this dataframe to an interactive table.\"\n",
              "              style=\"display:none;\">\n",
              "        \n",
              "  <svg xmlns=\"http://www.w3.org/2000/svg\" height=\"24px\"viewBox=\"0 0 24 24\"\n",
              "       width=\"24px\">\n",
              "    <path d=\"M0 0h24v24H0V0z\" fill=\"none\"/>\n",
              "    <path d=\"M18.56 5.44l.94 2.06.94-2.06 2.06-.94-2.06-.94-.94-2.06-.94 2.06-2.06.94zm-11 1L8.5 8.5l.94-2.06 2.06-.94-2.06-.94L8.5 2.5l-.94 2.06-2.06.94zm10 10l.94 2.06.94-2.06 2.06-.94-2.06-.94-.94-2.06-.94 2.06-2.06.94z\"/><path d=\"M17.41 7.96l-1.37-1.37c-.4-.4-.92-.59-1.43-.59-.52 0-1.04.2-1.43.59L10.3 9.45l-7.72 7.72c-.78.78-.78 2.05 0 2.83L4 21.41c.39.39.9.59 1.41.59.51 0 1.02-.2 1.41-.59l7.78-7.78 2.81-2.81c.8-.78.8-2.07 0-2.86zM5.41 20L4 18.59l7.72-7.72 1.47 1.35L5.41 20z\"/>\n",
              "  </svg>\n",
              "      </button>\n",
              "      \n",
              "  <style>\n",
              "    .colab-df-container {\n",
              "      display:flex;\n",
              "      flex-wrap:wrap;\n",
              "      gap: 12px;\n",
              "    }\n",
              "\n",
              "    .colab-df-convert {\n",
              "      background-color: #E8F0FE;\n",
              "      border: none;\n",
              "      border-radius: 50%;\n",
              "      cursor: pointer;\n",
              "      display: none;\n",
              "      fill: #1967D2;\n",
              "      height: 32px;\n",
              "      padding: 0 0 0 0;\n",
              "      width: 32px;\n",
              "    }\n",
              "\n",
              "    .colab-df-convert:hover {\n",
              "      background-color: #E2EBFA;\n",
              "      box-shadow: 0px 1px 2px rgba(60, 64, 67, 0.3), 0px 1px 3px 1px rgba(60, 64, 67, 0.15);\n",
              "      fill: #174EA6;\n",
              "    }\n",
              "\n",
              "    [theme=dark] .colab-df-convert {\n",
              "      background-color: #3B4455;\n",
              "      fill: #D2E3FC;\n",
              "    }\n",
              "\n",
              "    [theme=dark] .colab-df-convert:hover {\n",
              "      background-color: #434B5C;\n",
              "      box-shadow: 0px 1px 3px 1px rgba(0, 0, 0, 0.15);\n",
              "      filter: drop-shadow(0px 1px 2px rgba(0, 0, 0, 0.3));\n",
              "      fill: #FFFFFF;\n",
              "    }\n",
              "  </style>\n",
              "\n",
              "      <script>\n",
              "        const buttonEl =\n",
              "          document.querySelector('#df-f7a1f110-a3a5-4da6-afcf-a3e7382ce21d button.colab-df-convert');\n",
              "        buttonEl.style.display =\n",
              "          google.colab.kernel.accessAllowed ? 'block' : 'none';\n",
              "\n",
              "        async function convertToInteractive(key) {\n",
              "          const element = document.querySelector('#df-f7a1f110-a3a5-4da6-afcf-a3e7382ce21d');\n",
              "          const dataTable =\n",
              "            await google.colab.kernel.invokeFunction('convertToInteractive',\n",
              "                                                     [key], {});\n",
              "          if (!dataTable) return;\n",
              "\n",
              "          const docLinkHtml = 'Like what you see? Visit the ' +\n",
              "            '<a target=\"_blank\" href=https://colab.research.google.com/notebooks/data_table.ipynb>data table notebook</a>'\n",
              "            + ' to learn more about interactive tables.';\n",
              "          element.innerHTML = '';\n",
              "          dataTable['output_type'] = 'display_data';\n",
              "          await google.colab.output.renderOutput(dataTable, element);\n",
              "          const docLink = document.createElement('div');\n",
              "          docLink.innerHTML = docLinkHtml;\n",
              "          element.appendChild(docLink);\n",
              "        }\n",
              "      </script>\n",
              "    </div>\n",
              "  </div>\n",
              "  "
            ]
          },
          "metadata": {},
          "execution_count": 4
        }
      ],
      "source": [
        "# print how many rows are there in the table named 'master'\n",
        "QUERY = \"\"\"\n",
        "SELECT COUNT(*)\n",
        "FROM master\n",
        "\"\"\"\n",
        "\n",
        "# the read_sql_query runs the sql query and returns the data as a dataframe\n",
        "df = pd.read_sql_query(QUERY,conn)\n",
        "df.head()"
      ]
    },
    {
      "cell_type": "markdown",
      "metadata": {
        "id": "3EnQ8-VGT1f9"
      },
      "source": [
        "## Demo: How to list all tables\n"
      ]
    },
    {
      "cell_type": "code",
      "execution_count": 5,
      "metadata": {
        "scrolled": true,
        "colab": {
          "base_uri": "https://localhost:8080/",
          "height": 802
        },
        "id": "z4GTPY-3T1f9",
        "outputId": "16f6ae30-939c-4fd2-98c1-42b941121dfd"
      },
      "outputs": [
        {
          "output_type": "execute_result",
          "data": {
            "text/plain": [
              "                Table_Name\n",
              "0                 EduOther\n",
              "1                  DevType\n",
              "2                  LastInt\n",
              "3               JobFactors\n",
              "4                 WorkPlan\n",
              "5            WorkChallenge\n",
              "6       LanguageWorkedWith\n",
              "7   LanguageDesireNextYear\n",
              "8       DatabaseWorkedWith\n",
              "9   DatabaseDesireNextYear\n",
              "10      PlatformWorkedWith\n",
              "11  PlatformDesireNextYear\n",
              "12      WebFrameWorkedWith\n",
              "13  WebFrameDesireNextYear\n",
              "14      MiscTechWorkedWith\n",
              "15  MiscTechDesireNextYear\n",
              "16              DevEnviron\n",
              "17              Containers\n",
              "18               SOVisitTo\n",
              "19            SONewContent\n",
              "20                  Gender\n",
              "21               Sexuality\n",
              "22               Ethnicity\n",
              "23                  master"
            ],
            "text/html": [
              "\n",
              "  <div id=\"df-cc096d87-0b85-4912-853b-129fd4e7c7c4\">\n",
              "    <div class=\"colab-df-container\">\n",
              "      <div>\n",
              "<style scoped>\n",
              "    .dataframe tbody tr th:only-of-type {\n",
              "        vertical-align: middle;\n",
              "    }\n",
              "\n",
              "    .dataframe tbody tr th {\n",
              "        vertical-align: top;\n",
              "    }\n",
              "\n",
              "    .dataframe thead th {\n",
              "        text-align: right;\n",
              "    }\n",
              "</style>\n",
              "<table border=\"1\" class=\"dataframe\">\n",
              "  <thead>\n",
              "    <tr style=\"text-align: right;\">\n",
              "      <th></th>\n",
              "      <th>Table_Name</th>\n",
              "    </tr>\n",
              "  </thead>\n",
              "  <tbody>\n",
              "    <tr>\n",
              "      <th>0</th>\n",
              "      <td>EduOther</td>\n",
              "    </tr>\n",
              "    <tr>\n",
              "      <th>1</th>\n",
              "      <td>DevType</td>\n",
              "    </tr>\n",
              "    <tr>\n",
              "      <th>2</th>\n",
              "      <td>LastInt</td>\n",
              "    </tr>\n",
              "    <tr>\n",
              "      <th>3</th>\n",
              "      <td>JobFactors</td>\n",
              "    </tr>\n",
              "    <tr>\n",
              "      <th>4</th>\n",
              "      <td>WorkPlan</td>\n",
              "    </tr>\n",
              "    <tr>\n",
              "      <th>5</th>\n",
              "      <td>WorkChallenge</td>\n",
              "    </tr>\n",
              "    <tr>\n",
              "      <th>6</th>\n",
              "      <td>LanguageWorkedWith</td>\n",
              "    </tr>\n",
              "    <tr>\n",
              "      <th>7</th>\n",
              "      <td>LanguageDesireNextYear</td>\n",
              "    </tr>\n",
              "    <tr>\n",
              "      <th>8</th>\n",
              "      <td>DatabaseWorkedWith</td>\n",
              "    </tr>\n",
              "    <tr>\n",
              "      <th>9</th>\n",
              "      <td>DatabaseDesireNextYear</td>\n",
              "    </tr>\n",
              "    <tr>\n",
              "      <th>10</th>\n",
              "      <td>PlatformWorkedWith</td>\n",
              "    </tr>\n",
              "    <tr>\n",
              "      <th>11</th>\n",
              "      <td>PlatformDesireNextYear</td>\n",
              "    </tr>\n",
              "    <tr>\n",
              "      <th>12</th>\n",
              "      <td>WebFrameWorkedWith</td>\n",
              "    </tr>\n",
              "    <tr>\n",
              "      <th>13</th>\n",
              "      <td>WebFrameDesireNextYear</td>\n",
              "    </tr>\n",
              "    <tr>\n",
              "      <th>14</th>\n",
              "      <td>MiscTechWorkedWith</td>\n",
              "    </tr>\n",
              "    <tr>\n",
              "      <th>15</th>\n",
              "      <td>MiscTechDesireNextYear</td>\n",
              "    </tr>\n",
              "    <tr>\n",
              "      <th>16</th>\n",
              "      <td>DevEnviron</td>\n",
              "    </tr>\n",
              "    <tr>\n",
              "      <th>17</th>\n",
              "      <td>Containers</td>\n",
              "    </tr>\n",
              "    <tr>\n",
              "      <th>18</th>\n",
              "      <td>SOVisitTo</td>\n",
              "    </tr>\n",
              "    <tr>\n",
              "      <th>19</th>\n",
              "      <td>SONewContent</td>\n",
              "    </tr>\n",
              "    <tr>\n",
              "      <th>20</th>\n",
              "      <td>Gender</td>\n",
              "    </tr>\n",
              "    <tr>\n",
              "      <th>21</th>\n",
              "      <td>Sexuality</td>\n",
              "    </tr>\n",
              "    <tr>\n",
              "      <th>22</th>\n",
              "      <td>Ethnicity</td>\n",
              "    </tr>\n",
              "    <tr>\n",
              "      <th>23</th>\n",
              "      <td>master</td>\n",
              "    </tr>\n",
              "  </tbody>\n",
              "</table>\n",
              "</div>\n",
              "      <button class=\"colab-df-convert\" onclick=\"convertToInteractive('df-cc096d87-0b85-4912-853b-129fd4e7c7c4')\"\n",
              "              title=\"Convert this dataframe to an interactive table.\"\n",
              "              style=\"display:none;\">\n",
              "        \n",
              "  <svg xmlns=\"http://www.w3.org/2000/svg\" height=\"24px\"viewBox=\"0 0 24 24\"\n",
              "       width=\"24px\">\n",
              "    <path d=\"M0 0h24v24H0V0z\" fill=\"none\"/>\n",
              "    <path d=\"M18.56 5.44l.94 2.06.94-2.06 2.06-.94-2.06-.94-.94-2.06-.94 2.06-2.06.94zm-11 1L8.5 8.5l.94-2.06 2.06-.94-2.06-.94L8.5 2.5l-.94 2.06-2.06.94zm10 10l.94 2.06.94-2.06 2.06-.94-2.06-.94-.94-2.06-.94 2.06-2.06.94z\"/><path d=\"M17.41 7.96l-1.37-1.37c-.4-.4-.92-.59-1.43-.59-.52 0-1.04.2-1.43.59L10.3 9.45l-7.72 7.72c-.78.78-.78 2.05 0 2.83L4 21.41c.39.39.9.59 1.41.59.51 0 1.02-.2 1.41-.59l7.78-7.78 2.81-2.81c.8-.78.8-2.07 0-2.86zM5.41 20L4 18.59l7.72-7.72 1.47 1.35L5.41 20z\"/>\n",
              "  </svg>\n",
              "      </button>\n",
              "      \n",
              "  <style>\n",
              "    .colab-df-container {\n",
              "      display:flex;\n",
              "      flex-wrap:wrap;\n",
              "      gap: 12px;\n",
              "    }\n",
              "\n",
              "    .colab-df-convert {\n",
              "      background-color: #E8F0FE;\n",
              "      border: none;\n",
              "      border-radius: 50%;\n",
              "      cursor: pointer;\n",
              "      display: none;\n",
              "      fill: #1967D2;\n",
              "      height: 32px;\n",
              "      padding: 0 0 0 0;\n",
              "      width: 32px;\n",
              "    }\n",
              "\n",
              "    .colab-df-convert:hover {\n",
              "      background-color: #E2EBFA;\n",
              "      box-shadow: 0px 1px 2px rgba(60, 64, 67, 0.3), 0px 1px 3px 1px rgba(60, 64, 67, 0.15);\n",
              "      fill: #174EA6;\n",
              "    }\n",
              "\n",
              "    [theme=dark] .colab-df-convert {\n",
              "      background-color: #3B4455;\n",
              "      fill: #D2E3FC;\n",
              "    }\n",
              "\n",
              "    [theme=dark] .colab-df-convert:hover {\n",
              "      background-color: #434B5C;\n",
              "      box-shadow: 0px 1px 3px 1px rgba(0, 0, 0, 0.15);\n",
              "      filter: drop-shadow(0px 1px 2px rgba(0, 0, 0, 0.3));\n",
              "      fill: #FFFFFF;\n",
              "    }\n",
              "  </style>\n",
              "\n",
              "      <script>\n",
              "        const buttonEl =\n",
              "          document.querySelector('#df-cc096d87-0b85-4912-853b-129fd4e7c7c4 button.colab-df-convert');\n",
              "        buttonEl.style.display =\n",
              "          google.colab.kernel.accessAllowed ? 'block' : 'none';\n",
              "\n",
              "        async function convertToInteractive(key) {\n",
              "          const element = document.querySelector('#df-cc096d87-0b85-4912-853b-129fd4e7c7c4');\n",
              "          const dataTable =\n",
              "            await google.colab.kernel.invokeFunction('convertToInteractive',\n",
              "                                                     [key], {});\n",
              "          if (!dataTable) return;\n",
              "\n",
              "          const docLinkHtml = 'Like what you see? Visit the ' +\n",
              "            '<a target=\"_blank\" href=https://colab.research.google.com/notebooks/data_table.ipynb>data table notebook</a>'\n",
              "            + ' to learn more about interactive tables.';\n",
              "          element.innerHTML = '';\n",
              "          dataTable['output_type'] = 'display_data';\n",
              "          await google.colab.output.renderOutput(dataTable, element);\n",
              "          const docLink = document.createElement('div');\n",
              "          docLink.innerHTML = docLinkHtml;\n",
              "          element.appendChild(docLink);\n",
              "        }\n",
              "      </script>\n",
              "    </div>\n",
              "  </div>\n",
              "  "
            ]
          },
          "metadata": {},
          "execution_count": 5
        }
      ],
      "source": [
        "# print all the tables names in the database\n",
        "QUERY = \"\"\"\n",
        "SELECT name as Table_Name FROM\n",
        "sqlite_master WHERE\n",
        "type = 'table'\n",
        "\"\"\"\n",
        "# the read_sql_query runs the sql query and returns the data as a dataframe\n",
        "pd.read_sql_query(QUERY,conn)\n"
      ]
    },
    {
      "cell_type": "markdown",
      "metadata": {
        "id": "_i7ZTGbVT1f-"
      },
      "source": [
        "## Demo: How to run a group by query\n"
      ]
    },
    {
      "cell_type": "code",
      "execution_count": 6,
      "metadata": {
        "colab": {
          "base_uri": "https://localhost:8080/",
          "height": 1000
        },
        "id": "ak4LeeMYT1f-",
        "outputId": "89820200-01ef-4531-b475-3b0546804b83"
      },
      "outputs": [
        {
          "output_type": "execute_result",
          "data": {
            "text/plain": [
              "     Age  count\n",
              "0    NaN    287\n",
              "1   16.0      3\n",
              "2   17.0      6\n",
              "3   18.0     29\n",
              "4   19.0     78\n",
              "5   20.0    109\n",
              "6   21.0    203\n",
              "7   22.0    406\n",
              "8   23.0    581\n",
              "9   24.0    679\n",
              "10  25.0    738\n",
              "11  26.0    720\n",
              "12  27.0    724\n",
              "13  28.0    787\n",
              "14  29.0    697\n",
              "15  30.0    651\n",
              "16  31.0    531\n",
              "17  32.0    489\n",
              "18  33.0    483\n",
              "19  34.0    395\n",
              "20  35.0    393\n",
              "21  36.0    308\n",
              "22  37.0    280\n",
              "23  38.0    279\n",
              "24  39.0    232\n",
              "25  40.0    187\n",
              "26  41.0    136\n",
              "27  42.0    162\n",
              "28  43.0    100\n",
              "29  44.0     95\n",
              "30  45.0     85\n",
              "31  46.0     66\n",
              "32  47.0     68\n",
              "33  48.0     64\n",
              "34  49.0     66\n",
              "35  50.0     57\n",
              "36  51.0     29\n",
              "37  52.0     41\n",
              "38  53.0     32\n",
              "39  54.0     26\n",
              "40  55.0     13\n",
              "41  56.0     16\n",
              "42  57.0     11\n",
              "43  58.0     12\n",
              "44  59.0     11\n",
              "45  60.0      2\n",
              "46  61.0     10\n",
              "47  62.0      5\n",
              "48  63.0      7\n",
              "49  65.0      2\n",
              "50  66.0      1\n",
              "51  67.0      1\n",
              "52  69.0      1\n",
              "53  71.0      2\n",
              "54  72.0      1\n",
              "55  99.0      1"
            ],
            "text/html": [
              "\n",
              "  <div id=\"df-5a9482d6-f9f7-47a2-b1a0-b201744a0b5b\">\n",
              "    <div class=\"colab-df-container\">\n",
              "      <div>\n",
              "<style scoped>\n",
              "    .dataframe tbody tr th:only-of-type {\n",
              "        vertical-align: middle;\n",
              "    }\n",
              "\n",
              "    .dataframe tbody tr th {\n",
              "        vertical-align: top;\n",
              "    }\n",
              "\n",
              "    .dataframe thead th {\n",
              "        text-align: right;\n",
              "    }\n",
              "</style>\n",
              "<table border=\"1\" class=\"dataframe\">\n",
              "  <thead>\n",
              "    <tr style=\"text-align: right;\">\n",
              "      <th></th>\n",
              "      <th>Age</th>\n",
              "      <th>count</th>\n",
              "    </tr>\n",
              "  </thead>\n",
              "  <tbody>\n",
              "    <tr>\n",
              "      <th>0</th>\n",
              "      <td>NaN</td>\n",
              "      <td>287</td>\n",
              "    </tr>\n",
              "    <tr>\n",
              "      <th>1</th>\n",
              "      <td>16.0</td>\n",
              "      <td>3</td>\n",
              "    </tr>\n",
              "    <tr>\n",
              "      <th>2</th>\n",
              "      <td>17.0</td>\n",
              "      <td>6</td>\n",
              "    </tr>\n",
              "    <tr>\n",
              "      <th>3</th>\n",
              "      <td>18.0</td>\n",
              "      <td>29</td>\n",
              "    </tr>\n",
              "    <tr>\n",
              "      <th>4</th>\n",
              "      <td>19.0</td>\n",
              "      <td>78</td>\n",
              "    </tr>\n",
              "    <tr>\n",
              "      <th>5</th>\n",
              "      <td>20.0</td>\n",
              "      <td>109</td>\n",
              "    </tr>\n",
              "    <tr>\n",
              "      <th>6</th>\n",
              "      <td>21.0</td>\n",
              "      <td>203</td>\n",
              "    </tr>\n",
              "    <tr>\n",
              "      <th>7</th>\n",
              "      <td>22.0</td>\n",
              "      <td>406</td>\n",
              "    </tr>\n",
              "    <tr>\n",
              "      <th>8</th>\n",
              "      <td>23.0</td>\n",
              "      <td>581</td>\n",
              "    </tr>\n",
              "    <tr>\n",
              "      <th>9</th>\n",
              "      <td>24.0</td>\n",
              "      <td>679</td>\n",
              "    </tr>\n",
              "    <tr>\n",
              "      <th>10</th>\n",
              "      <td>25.0</td>\n",
              "      <td>738</td>\n",
              "    </tr>\n",
              "    <tr>\n",
              "      <th>11</th>\n",
              "      <td>26.0</td>\n",
              "      <td>720</td>\n",
              "    </tr>\n",
              "    <tr>\n",
              "      <th>12</th>\n",
              "      <td>27.0</td>\n",
              "      <td>724</td>\n",
              "    </tr>\n",
              "    <tr>\n",
              "      <th>13</th>\n",
              "      <td>28.0</td>\n",
              "      <td>787</td>\n",
              "    </tr>\n",
              "    <tr>\n",
              "      <th>14</th>\n",
              "      <td>29.0</td>\n",
              "      <td>697</td>\n",
              "    </tr>\n",
              "    <tr>\n",
              "      <th>15</th>\n",
              "      <td>30.0</td>\n",
              "      <td>651</td>\n",
              "    </tr>\n",
              "    <tr>\n",
              "      <th>16</th>\n",
              "      <td>31.0</td>\n",
              "      <td>531</td>\n",
              "    </tr>\n",
              "    <tr>\n",
              "      <th>17</th>\n",
              "      <td>32.0</td>\n",
              "      <td>489</td>\n",
              "    </tr>\n",
              "    <tr>\n",
              "      <th>18</th>\n",
              "      <td>33.0</td>\n",
              "      <td>483</td>\n",
              "    </tr>\n",
              "    <tr>\n",
              "      <th>19</th>\n",
              "      <td>34.0</td>\n",
              "      <td>395</td>\n",
              "    </tr>\n",
              "    <tr>\n",
              "      <th>20</th>\n",
              "      <td>35.0</td>\n",
              "      <td>393</td>\n",
              "    </tr>\n",
              "    <tr>\n",
              "      <th>21</th>\n",
              "      <td>36.0</td>\n",
              "      <td>308</td>\n",
              "    </tr>\n",
              "    <tr>\n",
              "      <th>22</th>\n",
              "      <td>37.0</td>\n",
              "      <td>280</td>\n",
              "    </tr>\n",
              "    <tr>\n",
              "      <th>23</th>\n",
              "      <td>38.0</td>\n",
              "      <td>279</td>\n",
              "    </tr>\n",
              "    <tr>\n",
              "      <th>24</th>\n",
              "      <td>39.0</td>\n",
              "      <td>232</td>\n",
              "    </tr>\n",
              "    <tr>\n",
              "      <th>25</th>\n",
              "      <td>40.0</td>\n",
              "      <td>187</td>\n",
              "    </tr>\n",
              "    <tr>\n",
              "      <th>26</th>\n",
              "      <td>41.0</td>\n",
              "      <td>136</td>\n",
              "    </tr>\n",
              "    <tr>\n",
              "      <th>27</th>\n",
              "      <td>42.0</td>\n",
              "      <td>162</td>\n",
              "    </tr>\n",
              "    <tr>\n",
              "      <th>28</th>\n",
              "      <td>43.0</td>\n",
              "      <td>100</td>\n",
              "    </tr>\n",
              "    <tr>\n",
              "      <th>29</th>\n",
              "      <td>44.0</td>\n",
              "      <td>95</td>\n",
              "    </tr>\n",
              "    <tr>\n",
              "      <th>30</th>\n",
              "      <td>45.0</td>\n",
              "      <td>85</td>\n",
              "    </tr>\n",
              "    <tr>\n",
              "      <th>31</th>\n",
              "      <td>46.0</td>\n",
              "      <td>66</td>\n",
              "    </tr>\n",
              "    <tr>\n",
              "      <th>32</th>\n",
              "      <td>47.0</td>\n",
              "      <td>68</td>\n",
              "    </tr>\n",
              "    <tr>\n",
              "      <th>33</th>\n",
              "      <td>48.0</td>\n",
              "      <td>64</td>\n",
              "    </tr>\n",
              "    <tr>\n",
              "      <th>34</th>\n",
              "      <td>49.0</td>\n",
              "      <td>66</td>\n",
              "    </tr>\n",
              "    <tr>\n",
              "      <th>35</th>\n",
              "      <td>50.0</td>\n",
              "      <td>57</td>\n",
              "    </tr>\n",
              "    <tr>\n",
              "      <th>36</th>\n",
              "      <td>51.0</td>\n",
              "      <td>29</td>\n",
              "    </tr>\n",
              "    <tr>\n",
              "      <th>37</th>\n",
              "      <td>52.0</td>\n",
              "      <td>41</td>\n",
              "    </tr>\n",
              "    <tr>\n",
              "      <th>38</th>\n",
              "      <td>53.0</td>\n",
              "      <td>32</td>\n",
              "    </tr>\n",
              "    <tr>\n",
              "      <th>39</th>\n",
              "      <td>54.0</td>\n",
              "      <td>26</td>\n",
              "    </tr>\n",
              "    <tr>\n",
              "      <th>40</th>\n",
              "      <td>55.0</td>\n",
              "      <td>13</td>\n",
              "    </tr>\n",
              "    <tr>\n",
              "      <th>41</th>\n",
              "      <td>56.0</td>\n",
              "      <td>16</td>\n",
              "    </tr>\n",
              "    <tr>\n",
              "      <th>42</th>\n",
              "      <td>57.0</td>\n",
              "      <td>11</td>\n",
              "    </tr>\n",
              "    <tr>\n",
              "      <th>43</th>\n",
              "      <td>58.0</td>\n",
              "      <td>12</td>\n",
              "    </tr>\n",
              "    <tr>\n",
              "      <th>44</th>\n",
              "      <td>59.0</td>\n",
              "      <td>11</td>\n",
              "    </tr>\n",
              "    <tr>\n",
              "      <th>45</th>\n",
              "      <td>60.0</td>\n",
              "      <td>2</td>\n",
              "    </tr>\n",
              "    <tr>\n",
              "      <th>46</th>\n",
              "      <td>61.0</td>\n",
              "      <td>10</td>\n",
              "    </tr>\n",
              "    <tr>\n",
              "      <th>47</th>\n",
              "      <td>62.0</td>\n",
              "      <td>5</td>\n",
              "    </tr>\n",
              "    <tr>\n",
              "      <th>48</th>\n",
              "      <td>63.0</td>\n",
              "      <td>7</td>\n",
              "    </tr>\n",
              "    <tr>\n",
              "      <th>49</th>\n",
              "      <td>65.0</td>\n",
              "      <td>2</td>\n",
              "    </tr>\n",
              "    <tr>\n",
              "      <th>50</th>\n",
              "      <td>66.0</td>\n",
              "      <td>1</td>\n",
              "    </tr>\n",
              "    <tr>\n",
              "      <th>51</th>\n",
              "      <td>67.0</td>\n",
              "      <td>1</td>\n",
              "    </tr>\n",
              "    <tr>\n",
              "      <th>52</th>\n",
              "      <td>69.0</td>\n",
              "      <td>1</td>\n",
              "    </tr>\n",
              "    <tr>\n",
              "      <th>53</th>\n",
              "      <td>71.0</td>\n",
              "      <td>2</td>\n",
              "    </tr>\n",
              "    <tr>\n",
              "      <th>54</th>\n",
              "      <td>72.0</td>\n",
              "      <td>1</td>\n",
              "    </tr>\n",
              "    <tr>\n",
              "      <th>55</th>\n",
              "      <td>99.0</td>\n",
              "      <td>1</td>\n",
              "    </tr>\n",
              "  </tbody>\n",
              "</table>\n",
              "</div>\n",
              "      <button class=\"colab-df-convert\" onclick=\"convertToInteractive('df-5a9482d6-f9f7-47a2-b1a0-b201744a0b5b')\"\n",
              "              title=\"Convert this dataframe to an interactive table.\"\n",
              "              style=\"display:none;\">\n",
              "        \n",
              "  <svg xmlns=\"http://www.w3.org/2000/svg\" height=\"24px\"viewBox=\"0 0 24 24\"\n",
              "       width=\"24px\">\n",
              "    <path d=\"M0 0h24v24H0V0z\" fill=\"none\"/>\n",
              "    <path d=\"M18.56 5.44l.94 2.06.94-2.06 2.06-.94-2.06-.94-.94-2.06-.94 2.06-2.06.94zm-11 1L8.5 8.5l.94-2.06 2.06-.94-2.06-.94L8.5 2.5l-.94 2.06-2.06.94zm10 10l.94 2.06.94-2.06 2.06-.94-2.06-.94-.94-2.06-.94 2.06-2.06.94z\"/><path d=\"M17.41 7.96l-1.37-1.37c-.4-.4-.92-.59-1.43-.59-.52 0-1.04.2-1.43.59L10.3 9.45l-7.72 7.72c-.78.78-.78 2.05 0 2.83L4 21.41c.39.39.9.59 1.41.59.51 0 1.02-.2 1.41-.59l7.78-7.78 2.81-2.81c.8-.78.8-2.07 0-2.86zM5.41 20L4 18.59l7.72-7.72 1.47 1.35L5.41 20z\"/>\n",
              "  </svg>\n",
              "      </button>\n",
              "      \n",
              "  <style>\n",
              "    .colab-df-container {\n",
              "      display:flex;\n",
              "      flex-wrap:wrap;\n",
              "      gap: 12px;\n",
              "    }\n",
              "\n",
              "    .colab-df-convert {\n",
              "      background-color: #E8F0FE;\n",
              "      border: none;\n",
              "      border-radius: 50%;\n",
              "      cursor: pointer;\n",
              "      display: none;\n",
              "      fill: #1967D2;\n",
              "      height: 32px;\n",
              "      padding: 0 0 0 0;\n",
              "      width: 32px;\n",
              "    }\n",
              "\n",
              "    .colab-df-convert:hover {\n",
              "      background-color: #E2EBFA;\n",
              "      box-shadow: 0px 1px 2px rgba(60, 64, 67, 0.3), 0px 1px 3px 1px rgba(60, 64, 67, 0.15);\n",
              "      fill: #174EA6;\n",
              "    }\n",
              "\n",
              "    [theme=dark] .colab-df-convert {\n",
              "      background-color: #3B4455;\n",
              "      fill: #D2E3FC;\n",
              "    }\n",
              "\n",
              "    [theme=dark] .colab-df-convert:hover {\n",
              "      background-color: #434B5C;\n",
              "      box-shadow: 0px 1px 3px 1px rgba(0, 0, 0, 0.15);\n",
              "      filter: drop-shadow(0px 1px 2px rgba(0, 0, 0, 0.3));\n",
              "      fill: #FFFFFF;\n",
              "    }\n",
              "  </style>\n",
              "\n",
              "      <script>\n",
              "        const buttonEl =\n",
              "          document.querySelector('#df-5a9482d6-f9f7-47a2-b1a0-b201744a0b5b button.colab-df-convert');\n",
              "        buttonEl.style.display =\n",
              "          google.colab.kernel.accessAllowed ? 'block' : 'none';\n",
              "\n",
              "        async function convertToInteractive(key) {\n",
              "          const element = document.querySelector('#df-5a9482d6-f9f7-47a2-b1a0-b201744a0b5b');\n",
              "          const dataTable =\n",
              "            await google.colab.kernel.invokeFunction('convertToInteractive',\n",
              "                                                     [key], {});\n",
              "          if (!dataTable) return;\n",
              "\n",
              "          const docLinkHtml = 'Like what you see? Visit the ' +\n",
              "            '<a target=\"_blank\" href=https://colab.research.google.com/notebooks/data_table.ipynb>data table notebook</a>'\n",
              "            + ' to learn more about interactive tables.';\n",
              "          element.innerHTML = '';\n",
              "          dataTable['output_type'] = 'display_data';\n",
              "          await google.colab.output.renderOutput(dataTable, element);\n",
              "          const docLink = document.createElement('div');\n",
              "          docLink.innerHTML = docLinkHtml;\n",
              "          element.appendChild(docLink);\n",
              "        }\n",
              "      </script>\n",
              "    </div>\n",
              "  </div>\n",
              "  "
            ]
          },
          "metadata": {},
          "execution_count": 6
        }
      ],
      "source": [
        "QUERY = \"\"\"\n",
        "SELECT Age,COUNT(*) as count\n",
        "FROM master\n",
        "group by age\n",
        "order by age\n",
        "\"\"\"\n",
        "pd.read_sql_query(QUERY,conn)"
      ]
    },
    {
      "cell_type": "markdown",
      "metadata": {
        "id": "rQESgOfMT1f-"
      },
      "source": [
        "## Demo: How to describe a table\n"
      ]
    },
    {
      "cell_type": "code",
      "execution_count": 7,
      "metadata": {
        "colab": {
          "base_uri": "https://localhost:8080/"
        },
        "id": "YnqK4o9NT1f-",
        "outputId": "104a1032-dabd-4be8-d488-6820a64a8164"
      },
      "outputs": [
        {
          "output_type": "stream",
          "name": "stdout",
          "text": [
            "CREATE TABLE \"master\" (\n",
            "\"index\" INTEGER,\n",
            "  \"Respondent\" INTEGER,\n",
            "  \"MainBranch\" TEXT,\n",
            "  \"Hobbyist\" TEXT,\n",
            "  \"OpenSourcer\" TEXT,\n",
            "  \"OpenSource\" TEXT,\n",
            "  \"Employment\" TEXT,\n",
            "  \"Country\" TEXT,\n",
            "  \"Student\" TEXT,\n",
            "  \"EdLevel\" TEXT,\n",
            "  \"UndergradMajor\" TEXT,\n",
            "  \"OrgSize\" TEXT,\n",
            "  \"YearsCode\" TEXT,\n",
            "  \"Age1stCode\" TEXT,\n",
            "  \"YearsCodePro\" TEXT,\n",
            "  \"CareerSat\" TEXT,\n",
            "  \"JobSat\" TEXT,\n",
            "  \"MgrIdiot\" TEXT,\n",
            "  \"MgrMoney\" TEXT,\n",
            "  \"MgrWant\" TEXT,\n",
            "  \"JobSeek\" TEXT,\n",
            "  \"LastHireDate\" TEXT,\n",
            "  \"FizzBuzz\" TEXT,\n",
            "  \"ResumeUpdate\" TEXT,\n",
            "  \"CurrencySymbol\" TEXT,\n",
            "  \"CurrencyDesc\" TEXT,\n",
            "  \"CompTotal\" REAL,\n",
            "  \"CompFreq\" TEXT,\n",
            "  \"ConvertedComp\" REAL,\n",
            "  \"WorkWeekHrs\" REAL,\n",
            "  \"WorkRemote\" TEXT,\n",
            "  \"WorkLoc\" TEXT,\n",
            "  \"ImpSyn\" TEXT,\n",
            "  \"CodeRev\" TEXT,\n",
            "  \"CodeRevHrs\" REAL,\n",
            "  \"UnitTests\" TEXT,\n",
            "  \"PurchaseHow\" TEXT,\n",
            "  \"PurchaseWhat\" TEXT,\n",
            "  \"OpSys\" TEXT,\n",
            "  \"BlockchainOrg\" TEXT,\n",
            "  \"BlockchainIs\" TEXT,\n",
            "  \"BetterLife\" TEXT,\n",
            "  \"ITperson\" TEXT,\n",
            "  \"OffOn\" TEXT,\n",
            "  \"SocialMedia\" TEXT,\n",
            "  \"Extraversion\" TEXT,\n",
            "  \"ScreenName\" TEXT,\n",
            "  \"SOVisit1st\" TEXT,\n",
            "  \"SOVisitFreq\" TEXT,\n",
            "  \"SOFindAnswer\" TEXT,\n",
            "  \"SOTimeSaved\" TEXT,\n",
            "  \"SOHowMuchTime\" TEXT,\n",
            "  \"SOAccount\" TEXT,\n",
            "  \"SOPartFreq\" TEXT,\n",
            "  \"SOJobs\" TEXT,\n",
            "  \"EntTeams\" TEXT,\n",
            "  \"SOComm\" TEXT,\n",
            "  \"WelcomeChange\" TEXT,\n",
            "  \"Age\" REAL,\n",
            "  \"Trans\" TEXT,\n",
            "  \"Dependents\" TEXT,\n",
            "  \"SurveyLength\" TEXT,\n",
            "  \"SurveyEase\" TEXT\n",
            ")\n"
          ]
        }
      ],
      "source": [
        "table_name = 'master'  # the table you wish to describe\n",
        "\n",
        "QUERY = \"\"\"\n",
        "SELECT sql FROM sqlite_master\n",
        "WHERE name= '{}'\n",
        "\"\"\".format(table_name)\n",
        "\n",
        "df = pd.read_sql_query(QUERY,conn)\n",
        "print(df.iat[0,0])"
      ]
    },
    {
      "cell_type": "markdown",
      "metadata": {
        "id": "nbKwBd2wT1f-"
      },
      "source": [
        "# Hands-on Lab\n"
      ]
    },
    {
      "cell_type": "markdown",
      "metadata": {
        "id": "kXzLhjWUT1f_"
      },
      "source": [
        "## Visualizing distribution of data\n"
      ]
    },
    {
      "cell_type": "markdown",
      "metadata": {
        "id": "8KM7Lfa6T1f_"
      },
      "source": [
        "### Histograms\n"
      ]
    },
    {
      "cell_type": "markdown",
      "metadata": {
        "id": "cb8ko0R7T1f_"
      },
      "source": [
        "Plot a histogram of `ConvertedComp.`\n"
      ]
    },
    {
      "cell_type": "code",
      "source": [
        "import seaborn as sns"
      ],
      "metadata": {
        "id": "Dq-AW_HPWjLU"
      },
      "execution_count": 8,
      "outputs": []
    },
    {
      "cell_type": "code",
      "execution_count": 9,
      "metadata": {
        "id": "JpiDQmwVT1f_",
        "colab": {
          "base_uri": "https://localhost:8080/",
          "height": 282
        },
        "outputId": "bade07d5-8945-4a4b-9b9f-1cca2debd059"
      },
      "outputs": [
        {
          "output_type": "execute_result",
          "data": {
            "text/plain": [
              "<Axes: ylabel='Frequency'>"
            ]
          },
          "metadata": {},
          "execution_count": 9
        },
        {
          "output_type": "display_data",
          "data": {
            "text/plain": [
              "<Figure size 432x288 with 1 Axes>"
            ],
            "image/png": "[encoded data removed]"
          },
          "metadata": {
            "needs_background": "light"
          }
        }
      ],
      "source": [
        "# your code goes here\n",
        "df = pd.read_sql_query(\"SELECT * FROM master\" ,conn)  \n",
        "\n",
        "df['Age'].plot(kind = 'hist', bins = 10, grid=False)  "
      ]
    },
    {
      "cell_type": "code",
      "source": [
        "# another way from discussion board\n",
        "#import matplotlib.pyplot as plot\n",
        "#df = pd.read_sql_query(\"SELECT * FROM master\", conn)\n",
        "#df.plot.hist(column=[\"ConvertedComp\"])\n",
        "#plot.hist(df['ConvertedComp'])"
      ],
      "metadata": {
        "id": "JcDSJ35BdYQ8"
      },
      "execution_count": null,
      "outputs": []
    },
    {
      "cell_type": "markdown",
      "metadata": {
        "id": "bi8-2qxGT1f_"
      },
      "source": [
        "### Box Plots\n"
      ]
    },
    {
      "cell_type": "markdown",
      "metadata": {
        "id": "N3LpqeZBT1f_"
      },
      "source": [
        "Plot a box plot of `Age.`\n"
      ]
    },
    {
      "cell_type": "code",
      "execution_count": 10,
      "metadata": {
        "id": "UA0KNaqMT1f_",
        "colab": {
          "base_uri": "https://localhost:8080/",
          "height": 282
        },
        "outputId": "7713f557-5f62-4124-b261-40e13fcb1bf8"
      },
      "outputs": [
        {
          "output_type": "execute_result",
          "data": {
            "text/plain": [
              "<Axes: >"
            ]
          },
          "metadata": {},
          "execution_count": 10
        },
        {
          "output_type": "display_data",
          "data": {
            "text/plain": [
              "<Figure size 432x288 with 1 Axes>"
            ],
            "image/png": "[encoded data removed]"
          },
          "metadata": {
            "needs_background": "light"
          }
        }
      ],
      "source": [
        "# your code goes here\n",
        "# from discussion forums:\n",
        "df = pd.read_sql_query(\"SELECT * FROM master\" ,conn)  \n",
        "\n",
        "df.boxplot(column =['Age'],grid=False)   \n"
      ]
    },
    {
      "cell_type": "markdown",
      "metadata": {
        "id": "SCCRyf7WT1gA"
      },
      "source": [
        "## Visualizing relationships in data\n"
      ]
    },
    {
      "cell_type": "markdown",
      "metadata": {
        "id": "Zk1prq5XT1gA"
      },
      "source": [
        "### Scatter Plots\n"
      ]
    },
    {
      "cell_type": "markdown",
      "metadata": {
        "id": "mhB_YemOT1gA"
      },
      "source": [
        "Create a scatter plot of `Age` and `WorkWeekHrs.`\n"
      ]
    },
    {
      "cell_type": "code",
      "execution_count": 11,
      "metadata": {
        "id": "CJPh5kSRT1gA",
        "colab": {
          "base_uri": "https://localhost:8080/",
          "height": 440
        },
        "outputId": "6ded3326-ae05-451b-c958-f074f456d0f9"
      },
      "outputs": [
        {
          "output_type": "stream",
          "name": "stderr",
          "text": [
            "/usr/local/lib/python3.9/dist-packages/pandas/plotting/_matplotlib/core.py:1114: UserWarning: No data for colormapping provided via 'c'. Parameters 'cmap' will be ignored\n",
            "  scatter = ax.scatter(\n"
          ]
        },
        {
          "output_type": "execute_result",
          "data": {
            "text/plain": [
              "<Axes: xlabel='Age', ylabel='WorkWeekHrs'>"
            ]
          },
          "metadata": {},
          "execution_count": 11
        },
        {
          "output_type": "display_data",
          "data": {
            "text/plain": [
              "<Figure size 720x432 with 1 Axes>"
            ],
            "image/png": "[encoded data removed]"
          },
          "metadata": {
            "needs_background": "light"
          }
        }
      ],
      "source": [
        "QUERY = \"\"\"\n",
        "SELECT Age, WorkWeekHrs FROM master\n",
        "\"\"\"\n",
        "df=pd.read_sql_query(QUERY,conn)\n",
        "df\n",
        "df.plot(kind='scatter', x='Age', y='WorkWeekHrs', figsize=(10,6), color = 'purple')"
      ]
    },
    {
      "cell_type": "markdown",
      "metadata": {
        "id": "OWuZkdWMT1gA"
      },
      "source": [
        "### Bubble Plots\n"
      ]
    },
    {
      "cell_type": "code",
      "source": [],
      "metadata": {
        "id": "IaiTOGPEqCB4"
      },
      "execution_count": null,
      "outputs": []
    },
    {
      "cell_type": "markdown",
      "metadata": {
        "id": "Eol6OH40T1gA"
      },
      "source": [
        "Create a bubble plot of `WorkWeekHrs` and `CodeRevHrs`, use `Age` column as bubble size.\n"
      ]
    },
    {
      "cell_type": "code",
      "source": [
        "#note section matplotlib\n",
        "#df = pd.read_sql_query(QUERY, conn)\n",
        "#plt.scatter(data = df, y='CodeRevHrs', x = 'WorkWeekHrs', s=\"Age\", log_x=True, size_max=60)\n",
        "#plt.xlabel(\"WorkWeekHrs\")\n",
        "#plt.ylabel(\"CodeRevHrs\")\n",
        "#plt.show()\n"
      ],
      "metadata": {
        "id": "5OqK68X7hbe_"
      },
      "execution_count": 12,
      "outputs": []
    },
    {
      "cell_type": "code",
      "source": [
        "import matplotlib.pyplot as plt\n",
        "import plotly.express as px\n",
        "%matplotlib inline\n",
        "\n",
        "QUERY = \"\"\"\n",
        "SELECT Age, WorkWeekHrs, CodeRevHrs FROM master\n",
        "\"\"\"\n",
        "norm_age = (df['Age'] - df['Age'].min()) / (df['Age'].max() - df['Age'].min())\n",
        "\n",
        "bubble_df= pd.read_sql_query(QUERY, conn)\n",
        "fig = px.scatter(bubble_df,x='WorkWeekHrs',y='CodeRevHrs', log_x=True, size_max=60)\n",
        "fig.show()"
      ],
      "metadata": {
        "colab": {
          "base_uri": "https://localhost:8080/",
          "height": 542
        },
        "id": "oh19_0ZnovJV",
        "outputId": "7d890d24-3aa2-4f76-bbe4-c2a42cdd3119"
      },
      "execution_count": 13,
      "outputs": [
        {
          "output_type": "display_data",
          "data": {
            "text/html": [
              "<html>\n",
              "<head><meta charset=\"utf-8\" /></head>\n",
              "<body>\n",
              "    <div>            <script src=\"https://cdnjs.cloudflare.com/ajax/libs/mathjax/2.7.5/MathJax.js?config=TeX-AMS-MML_SVG\"></script><script type=\"text/javascript\">if (window.MathJax && window.MathJax.Hub && window.MathJax.Hub.Config) {window.MathJax.Hub.Config({SVG: {font: \"STIX-Web\"}});}</script>                <script type=\"text/javascript\">window.PlotlyConfig = {MathJaxConfig: 'local'};</script>\n",
              "        <script src=\"https://cdn.plot.ly/plotly-2.18.2.min.js\"></script>                <div id=\"1680c93c-2d26-4198-ac97-dd1ba9302310\" class=\"plotly-graph-div\" style=\"height:525px; width:100%;\"></div>            <script type=\"text/javascript\">                                    window.PLOTLYENV=window.PLOTLYENV || {};                                    if (document.getElementById(\"1680c93c-2d26-4198-ac97-dd1ba9302310\")) {                    Plotly.newPlot(                        \"1680c93c-2d26-4198-ac97-dd1ba9302310\",                        [{\"hovertemplate\":\"WorkWeekHrs=%{x}<br>CodeRevHrs=%{y}<extra></extra>\",\"legendgroup\":\"\",\"marker\":{\"color\":\"#636efa\",\"symbol\":\"circle\"},\"mode\":\"markers\",\"name\":\"\",\"showlegend\":false,\"x\":[80.0,32.0,40.0,40.0,45.0,8.0,140.0,40.0,40.0,50.0,45.0,40.0,40.0,37.0,39.0,50.0,40.0,39.0,42.0,7.0,42.0,40.0,40.0,40.0,46.0,40.0,45.0,40.0,70.0,40.0,8.0,40.0,50.0,40.0,40.0,50.0,45.0,40.0,50.0,40.0,50.0,38.0,44.0,40.0,45.0,35.0,40.0,6.0,40.0,45.0,null,45.0,40.0,45.0,45.0,40.0,35.0,40.0,40.0,40.0,50.0,50.0,75.0,40.0,42.0,48.0,35.0,45.0,40.0,160.0,40.0,40.0,40.0,40.0,50.0,38.0,45.0,44.0,45.0,40.0,45.0,40.0,40.0,40.0,40.0,42.0,40.0,45.0,40.0,40.0,40.0,37.0,30.0,40.0,45.0,40.0,40.0,32.0,40.0,40.0,36.0,45.0,45.0,40.0,40.0,40.0,34.0,45.0,37.0,98.0,40.0,40.0,45.0,40.0,40.0,35.0,40.0,45.0,36.0,37.0,40.0,42.0,9.0,40.0,50.0,48.0,40.0,38.0,50.0,40.0,37.5,38.0,40.0,40.0,40.0,40.0,40.0,32.0,40.0,50.0,40.0,40.0,48.0,45.0,40.0,35.0,45.0,40.0,40.0,45.0,38.0,45.0,null,40.0,40.0,40.0,42.0,40.0,40.0,40.0,39.0,40.0,45.0,45.0,45.0,60.0,35.0,40.0,35.0,40.0,50.0,37.5,40.0,35.0,80.0,38.0,40.0,40.0,44.0,45.0,40.0,44.0,32.0,40.0,42.0,40.0,40.0,40.0,40.0,40.0,50.0,40.0,40.0,35.0,38.0,42.0,40.0,37.5,40.0,35.0,40.0,40.0,40.0,45.0,40.0,40.0,40.0,44.0,40.0,40.0,40.0,40.0,40.0,40.0,45.0,40.0,40.0,40.0,60.0,45.0,37.0,40.0,160.0,35.0,40.0,38.0,35.0,40.0,40.0,40.0,45.0,45.0,20.0,40.0,40.0,24.0,40.0,50.0,55.0,50.0,40.0,40.0,40.0,40.0,40.0,40.0,45.0,null,40.0,70.0,60.0,40.0,50.0,40.0,20.0,40.0,60.0,36.0,100.0,48.0,8.0,40.0,40.0,40.0,45.0,40.0,null,40.0,40.0,37.0,20.0,42.0,43.0,45.0,40.0,50.0,40.0,44.0,375.0,40.0,45.0,45.0,40.0,45.0,40.0,50.0,40.0,40.0,40.0,36.0,40.0,35.0,40.0,null,60.0,40.0,50.0,40.0,40.0,40.0,40.0,null,45.0,30.0,40.0,35.0,40.0,40.0,43.0,40.0,40.0,40.0,40.0,40.0,50.0,35.0,42.0,41.0,40.0,40.0,45.0,40.0,40.0,40.0,40.0,50.0,40.0,37.5,38.0,45.0,36.0,40.0,40.0,38.0,50.0,48.0,40.0,40.0,40.0,40.0,40.0,45.0,60.0,40.0,50.0,40.0,40.0,40.0,48.0,45.0,40.0,35.0,40.0,40.0,40.0,40.0,39.0,50.0,38.0,40.0,30.0,40.0,35.0,42.0,36.0,40.0,40.0,45.0,40.0,40.0,40.0,40.0,null,35.0,30.0,42.0,40.0,40.0,37.0,42.0,38.5,48.0,40.0,40.0,40.0,9.0,45.0,40.0,40.0,42.5,38.0,40.0,45.0,40.0,37.5,60.0,37.0,37.5,45.0,40.0,45.0,40.0,40.0,40.0,null,40.0,40.0,80.0,35.0,40.0,40.0,40.0,40.0,40.0,40.0,70.0,36.75,44.0,45.0,45.0,20.0,40.0,40.0,37.5,40.0,40.0,40.0,40.0,50.0,40.0,38.0,50.0,45.0,40.0,40.0,45.0,40.0,40.0,40.0,55.0,40.0,40.0,38.0,37.5,37.5,40.0,40.0,45.0,38.0,30.0,40.0,40.0,40.0,37.5,37.5,40.0,40.0,40.0,40.0,45.0,40.0,40.0,40.0,40.0,40.0,40.0,41.0,40.0,32.0,40.0,45.0,40.0,40.0,44.0,40.0,32.0,40.0,40.0,50.0,40.0,38.5,40.0,40.0,40.0,40.0,40.0,45.0,55.0,40.0,45.0,50.0,45.0,42.0,45.0,16.0,40.0,48.0,40.0,40.0,40.0,38.0,45.0,40.0,40.0,45.0,40.0,40.0,40.0,35.0,48.0,44.0,40.0,40.0,40.0,10.0,40.0,40.0,37.5,40.0,40.0,50.0,40.0,40.0,40.0,35.0,40.0,40.0,20.0,40.0,40.0,38.0,37.0,45.0,40.0,35.0,38.0,40.0,42.0,45.0,35.0,44.0,42.0,50.0,40.0,40.0,40.0,40.0,38.0,40.0,60.0,45.0,60.0,40.0,37.5,40.0,40.0,45.0,40.0,44.0,40.0,50.0,37.0,40.0,40.0,40.0,35.0,40.0,40.0,52.0,40.0,40.0,45.0,40.0,15.0,42.5,60.0,37.5,30.0,60.0,40.0,45.0,40.0,40.0,37.0,45.0,8.5,40.0,40.0,40.0,30.0,40.0,40.0,40.0,40.0,45.0,55.0,40.0,40.0,45.0,45.0,40.0,45.0,40.0,40.0,36.0,40.0,37.0,null,40.0,40.0,60.0,38.0,40.0,40.0,45.0,60.0,8.0,null,40.0,40.0,32.0,40.0,40.0,50.0,37.5,36.0,35.0,40.0,20.0,12.0,40.0,37.5,35.0,40.0,40.0,40.0,40.0,40.0,50.0,40.0,40.0,45.0,42.0,40.0,55.0,40.0,35.0,38.5,40.0,38.0,45.0,30.0,40.0,45.0,40.0,40.0,40.0,40.0,40.0,40.0,40.0,55.0,35.0,40.0,40.0,42.5,40.0,35.0,10.0,40.0,50.0,40.0,40.0,40.0,null,40.0,40.0,35.0,40.0,40.0,30.0,50.0,40.0,45.0,40.0,40.0,40.0,40.0,40.0,42.0,38.0,39.0,33.0,50.0,40.0,50.0,40.0,40.0,40.0,40.0,45.0,null,38.0,40.0,40.0,40.0,50.0,60.0,40.0,160.0,40.0,40.0,36.2,35.0,40.0,40.0,35.0,40.0,37.0,40.0,40.0,40.0,60.0,44.0,45.0,40.0,39.0,36.0,40.0,36.0,40.0,35.0,37.5,40.0,37.5,44.0,40.0,40.0,null,45.0,40.0,40.0,40.0,55.0,40.0,40.0,45.0,60.0,60.0,40.0,45.0,42.0,40.0,40.0,37.5,40.0,50.0,46.0,40.0,35.0,50.0,60.0,38.0,40.0,35.0,40.0,50.0,40.0,40.0,48.0,36.0,20.0,40.0,40.0,55.0,45.0,40.0,38.0,40.0,44.0,37.0,60.0,60.0,40.0,45.0,35.0,45.0,35.0,35.0,40.0,40.0,40.0,40.0,44.0,385.0,35.0,45.0,50.0,40.0,40.0,40.0,40.0,38.0,80.0,40.0,40.0,40.0,40.0,50.0,45.0,40.0,45.0,40.0,37.5,40.0,40.0,null,35.0,40.0,35.0,34.0,32.0,37.0,45.0,40.0,40.0,40.0,160.0,9.0,37.5,35.0,8.5,48.0,40.0,38.0,40.0,40.0,45.0,50.0,45.0,55.0,37.0,45.0,40.0,40.0,40.0,42.0,40.0,40.0,375.0,40.0,47.0,40.0,40.0,50.0,45.0,40.0,45.0,35.0,43.0,45.0,50.0,40.0,40.0,40.0,37.5,35.0,40.0,40.0,48.0,37.0,40.0,40.0,48.0,35.0,40.0,7.0,40.0,40.0,40.0,40.0,49.0,50.0,48.0,60.0,40.0,48.0,40.0,35.0,40.0,45.0,35.0,45.0,42.0,40.0,45.0,40.0,36.0,40.0,40.0,40.0,45.0,40.0,40.0,40.0,40.0,45.0,50.0,40.0,40.0,40.0,40.0,40.0,40.0,10.0,50.0,40.0,45.0,40.0,50.0,38.5,40.0,40.0,45.0,40.0,40.0,38.0,8.0,40.0,45.0,40.0,null,38.0,40.0,40.0,40.0,40.0,48.0,42.0,40.0,35.0,40.0,40.0,20.0,40.0,40.0,44.0,40.0,40.0,40.0,50.0,40.0,40.0,45.0,40.0,40.0,45.0,40.0,168.0,40.0,35.0,40.0,45.0,35.0,40.0,140.0,36.0,40.0,40.0,40.0,8.0,40.0,50.0,40.0,40.0,40.0,45.0,40.0,null,40.0,40.0,40.0,40.0,40.0,40.0,60.0,45.0,20.0,50.0,40.0,40.0,40.0,40.0,45.0,65.0,40.0,40.0,40.0,45.0,40.0,40.0,475.0,50.0,null,35.0,40.0,40.0,40.0,40.0,38.0,35.0,45.0,40.0,35.0,41.0,40.0,30.0,50.0,44.0,60.0,40.0,40.0,38.0,35.0,50.0,50.0,35.0,7.25,40.0,8.0,37.5,40.0,46.0,42.0,33.5,168.0,40.0,40.0,40.0,50.0,40.0,40.0,35.0,375.0,20.0,45.0,40.0,40.0,40.0,35.0,40.0,40.0,168.0,40.0,50.0,40.0,58.0,55.0,40.0,45.0,50.0,40.0,45.0,37.0,20.0,45.0,40.0,70.0,35.0,40.0,70.0,8.0,40.0,41.0,40.0,36.0,45.0,42.0,45.0,40.0,45.0,40.0,45.0,40.0,40.0,40.0,40.0,40.0,40.0,46.0,40.0,46.0,12.0,8.5,35.0,43.0,9.0,40.0,38.5,40.0,40.0,40.0,40.0,45.0,50.0,40.0,45.0,45.0,40.0,40.0,39.0,37.5,40.0,50.0,37.5,40.0,45.0,37.5,50.0,40.0,37.0,45.0,41.0,40.0,40.0,37.5,35.0,40.0,40.0,40.0,60.0,45.0,40.0,30.0,40.0,37.5,45.0,50.0,38.0,30.0,45.0,50.0,40.0,40.0,50.0,40.0,45.0,40.0,40.0,38.0,60.0,null,30.0,40.0,4.0,40.0,50.0,35.0,40.0,40.0,40.0,40.0,40.0,28.0,40.0,40.0,45.0,45.0,55.0,40.0,40.0,55.0,null,37.5,55.0,40.0,35.0,36.0,50.0,35.0,40.0,40.0,9.0,50.0,45.0,40.0,40.0,20.0,45.0,40.0,45.0,38.0,40.0,40.0,40.0,50.0,40.0,40.0,42.0,25.0,44.0,40.0,40.0,42.0,40.0,9.0,40.0,45.0,40.0,160.0,40.0,52.0,40.0,40.0,42.0,60.0,9.0,40.0,38.0,40.0,40.0,40.0,80.0,37.5,40.0,60.0,40.0,40.0,40.0,35.0,37.5,40.0,40.0,45.0,45.0,36.25,40.0,40.0,40.0,40.0,40.0,40.0,40.0,40.0,37.0,40.0,42.0,40.0,35.0,38.0,40.0,40.0,40.0,35.0,40.0,45.0,35.0,40.0,40.0,50.0,40.0,37.5,35.0,40.0,70.0,45.0,40.0,45.0,35.0,36.0,20.0,40.0,40.0,40.0,47.0,50.0,40.0,40.0,40.0,40.0,36.75,5.0,9.0,40.0,45.0,40.0,40.0,40.0,9.0,40.0,60.0,30.0,42.0,45.0,35.0,40.0,40.0,40.0,20.0,40.0,45.0,42.0,40.0,40.0,35.0,42.0,45.0,45.0,40.0,45.0,40.0,60.0,50.0,null,44.0,60.0,50.0,40.0,40.0,37.0,40.0,30.0,40.0,45.0,40.0,45.0,60.0,40.0,40.0,40.0,40.0,35.0,40.0,30.0,40.0,45.0,40.0,40.0,40.0,9.25,40.0,40.0,40.0,40.0,40.0,32.0,40.0,48.0,40.0,45.0,40.0,40.0,70.0,44.0,40.0,40.0,39.0,37.0,40.0,48.0,45.0,45.0,45.0,40.0,40.0,40.0,50.0,50.0,49.0,40.0,40.0,40.0,38.0,40.0,40.0,40.0,35.0,40.0,40.0,35.0,40.0,40.0,37.5,35.0,40.0,40.0,9.0,42.0,55.0,39.0,40.0,24.0,37.0,375.0,37.5,37.5,40.0,40.0,40.0,45.0,35.0,40.0,40.0,40.0,40.0,40.0,37.5,11.0,40.0,40.0,9.0,40.0,76.0,40.0,375.0,40.0,40.0,40.0,40.0,42.0,40.0,45.0,40.0,37.0,40.0,45.0,48.0,30.0,44.0,38.0,32.0,50.0,45.0,55.0,40.0,41.0,50.0,40.0,40.0,45.0,40.0,40.0,40.0,40.0,42.0,44.0,70.0,40.0,40.0,40.0,15.0,40.0,35.0,40.0,8.0,45.0,50.0,50.0,50.0,37.0,35.0,45.0,45.0,null,40.0,40.0,40.0,40.0,40.0,40.0,40.0,38.5,40.0,40.0,40.0,40.0,40.0,32.0,35.0,40.0,40.0,37.5,40.0,35.0,40.0,40.0,40.0,40.0,35.0,45.0,38.0,36.5,40.0,40.0,42.0,8.0,48.0,50.0,40.0,40.0,40.0,50.0,40.0,40.0,40.0,37.0,40.0,40.0,40.0,8.0,80.0,40.0,45.0,40.0,40.0,35.0,50.0,45.0,45.0,50.0,40.0,null,60.0,40.0,44.0,30.0,40.0,45.0,45.0,40.0,40.0,40.0,40.0,50.0,37.5,37.0,45.0,25.0,40.0,40.0,40.0,40.0,56.0,40.0,43.0,35.0,40.0,40.0,40.0,40.0,37.0,37.0,30.0,37.0,40.0,40.0,47.0,40.0,8.0,40.0,40.0,45.0,50.0,38.0,30.0,45.0,40.0,40.0,40.0,40.0,45.0,30.0,40.0,50.0,40.0,40.0,37.0,40.0,50.0,45.0,40.0,37.0,37.5,40.0,40.0,40.0,40.0,40.0,40.0,40.0,40.0,37.5,40.0,50.0,25.0,45.0,40.0,40.0,42.0,43.0,50.0,45.0,40.0,40.0,38.0,36.0,45.0,40.0,38.0,40.0,44.0,40.0,40.0,40.0,40.0,40.0,9.0,45.0,42.0,40.0,42.0,35.0,40.0,42.0,50.0,35.0,35.0,37.5,38.0,40.0,35.0,40.0,40.0,60.0,20.0,35.0,65.0,35.0,40.0,50.0,37.5,40.0,37.5,55.0,40.0,40.0,35.0,32.0,40.0,24.0,45.0,35.0,40.0,35.0,40.0,50.0,40.0,33.0,40.0,40.0,40.0,50.0,38.0,37.5,50.0,38.0,40.0,40.0,55.0,40.0,40.0,40.0,35.0,40.0,40.0,45.0,38.0,40.0,40.0,40.0,37.0,40.0,50.0,40.0,40.0,40.0,40.0,52.0,40.0,40.0,40.0,40.0,45.0,45.0,20.0,40.0,37.5,30.0,40.0,40.0,41.0,40.0,45.0,40.0,50.0,40.0,35.0,35.0,45.0,40.0,12.0,62.0,70.0,45.0,45.0,50.0,40.0,40.0,40.0,42.0,40.0,40.0,40.0,37.5,40.0,50.0,35.0,40.0,50.0,45.0,40.0,40.0,40.0,43.0,45.0,40.0,60.0,45.0,50.0,40.0,40.0,45.0,45.0,37.0,null,40.0,40.0,35.0,50.0,40.0,35.0,32.0,38.0,37.0,55.0,40.0,37.5,50.0,45.0,40.0,45.0,44.0,40.0,36.0,40.0,40.0,48.0,40.0,45.0,40.0,40.0,40.0,35.0,35.0,40.0,null,38.0,40.0,45.0,35.0,40.0,40.0,40.0,40.0,37.5,9.0,40.0,40.0,40.0,40.0,40.0,40.0,37.0,60.0,8.0,35.0,38.0,40.0,42.0,40.0,45.0,385.0,40.0,40.0,40.0,44.0,40.0,50.0,50.0,45.0,40.0,37.5,40.0,50.0,45.0,40.0,50.0,37.5,36.5,50.0,40.0,40.0,41.0,46.0,40.0,40.0,40.0,41.0,32.0,40.0,30.0,40.0,10.0,35.0,40.0,40.0,50.0,40.0,45.0,35.0,40.0,40.0,40.0,null,35.0,40.0,40.0,40.0,39.0,55.0,40.0,60.0,35.0,40.0,32.0,45.0,45.0,40.0,40.0,45.0,41.5,45.0,75.0,40.0,50.0,40.0,45.0,40.0,39.0,12.0,40.0,40.0,40.0,40.0,50.0,32.0,38.0,40.0,45.0,50.0,40.0,45.0,40.0,40.0,42.0,63.0,43.0,40.0,40.0,32.0,60.0,40.0,385.0,40.0,60.0,40.0,38.0,40.0,48.0,44.0,37.5,21.0,40.0,40.0,37.5,50.0,40.0,38.0,41.0,35.0,50.0,45.0,40.0,35.0,40.0,45.0,40.0,40.0,45.0,44.0,55.0,40.0,45.0,40.0,50.0,40.0,40.0,40.0,30.0,40.0,40.0,45.0,8.0,60.0,45.0,45.0,35.0,40.0,40.0,40.0,40.0,40.0,40.0,40.0,40.0,40.0,40.0,40.0,44.0,40.0,45.0,40.0,40.0,60.0,40.0,40.0,25.0,37.0,40.0,40.0,6.0,35.0,40.0,40.0,40.0,40.0,30.0,40.0,20.0,40.0,40.0,40.0,20.0,42.0,50.0,32.0,40.0,40.0,40.0,40.0,40.0,45.0,40.0,45.0,39.0,40.0,35.0,38.0,40.0,40.0,40.0,45.0,160.0,40.0,44.0,40.0,42.0,48.0,40.0,40.0,40.0,40.0,40.0,40.0,40.0,37.0,37.5,40.0,40.0,40.0,40.0,40.0,50.0,50.0,40.0,38.0,45.0,6.0,40.0,40.0,8.0,40.0,45.0,9.0,35.0,35.0,null,35.0,42.0,40.0,46.0,45.0,45.0,40.0,50.0,40.0,40.0,40.0,35.0,40.0,48.0,50.0,36.0,42.0,40.0,40.0,43.0,38.0,40.0,40.0,24.0,40.0,40.0,37.0,40.0,40.0,42.0,8.0,37.0,45.0,35.0,45.0,72.0,40.0,40.0,40.0,42.0,40.0,40.0,40.0,50.0,60.0,30.0,45.0,40.0,40.0,51.0,40.0,40.0,40.0,51.0,42.0,40.0,40.0,50.0,40.0,38.0,9.0,39.0,9.0,40.0,45.0,40.0,40.0,38.0,40.0,35.0,43.0,33.0,43.0,33.0,40.0,40.0,42.0,40.0,47.0,40.0,40.0,37.0,50.0,150.0,45.0,40.0,50.0,40.0,40.0,45.0,37.5,36.5,40.0,37.5,90.0,null,41.0,54.0,15.0,40.0,40.0,50.0,56.0,40.0,40.0,44.0,40.0,40.0,45.0,40.0,40.0,45.0,50.0,45.0,40.0,40.0,45.0,42.0,37.5,40.0,35.0,50.0,47.0,40.0,35.0,45.0,40.0,36.0,40.0,40.0,40.0,40.0,40.0,40.0,40.0,40.0,40.0,40.0,35.0,35.0,40.0,45.0,40.0,40.0,40.0,35.0,12.0,40.0,55.0,40.0,37.5,40.0,60.0,50.0,40.0,40.0,37.0,7.0,40.0,45.0,40.0,40.0,40.0,40.0,42.0,45.0,20.0,32.0,40.0,35.0,40.0,41.0,40.0,20.0,40.0,50.0,40.0,50.0,40.0,43.0,37.5,40.0,46.0,40.0,39.0,35.0,43.0,45.0,38.0,40.0,50.0,40.0,35.0,40.0,35.0,40.0,40.0,null,40.0,40.0,35.0,37.0,35.0,40.0,42.0,40.0,37.5,40.0,40.0,43.0,38.0,60.0,40.0,44.0,60.0,35.0,40.0,40.0,42.0,40.0,40.0,45.0,37.0,40.0,35.0,40.0,42.0,40.0,45.0,45.0,40.0,50.0,50.0,40.0,40.0,40.0,42.0,38.0,35.0,40.0,50.0,40.0,40.0,40.0,40.0,45.0,20.0,40.0,40.0,40.0,40.0,32.0,40.0,45.0,40.0,40.0,40.0,40.0,40.0,null,40.0,45.0,40.0,36.0,37.5,50.0,30.0,10.0,35.0,43.0,30.0,40.0,40.0,40.0,24.0,42.0,40.0,42.0,40.0,35.0,35.0,40.0,40.0,40.0,40.0,40.0,50.0,42.0,35.0,45.0,40.0,45.0,60.0,55.0,43.5,37.0,40.0,45.0,40.0,40.0,60.0,40.0,48.0,50.0,40.0,40.0,40.0,40.0,40.0,45.0,40.0,46.0,40.0,40.0,42.0,48.0,50.0,45.0,10.0,40.0,38.0,35.0,40.0,30.0,40.0,40.0,40.0,20.0,43.0,40.0,50.0,30.0,45.0,50.0,37.0,40.0,50.0,65.0,45.0,40.0,50.0,45.0,50.0,50.0,40.0,40.0,32.0,44.0,40.0,40.0,40.0,37.0,42.0,40.0,50.0,40.0,42.5,40.0,37.5,37.5,40.0,45.0,37.5,9.0,35.0,40.0,40.0,40.0,40.0,38.0,40.0,39.0,44.0,50.0,40.0,40.0,60.0,40.0,48.0,40.0,17.0,50.0,14.0,45.0,40.0,37.0,12.0,40.0,45.0,45.0,45.0,40.0,8.0,16.0,40.0,34.0,40.0,40.0,40.0,40.0,50.0,35.0,45.0,40.0,40.0,40.0,35.0,38.5,40.0,42.0,9.0,168.0,40.0,40.0,40.0,22.0,45.0,39.0,60.0,40.0,40.0,40.0,40.0,40.0,40.0,40.0,37.5,40.0,45.0,45.0,40.0,40.0,40.0,40.0,45.0,40.0,37.0,45.0,40.0,55.0,40.0,60.0,40.0,40.0,38.5,50.0,45.0,72.0,45.0,35.0,40.0,37.5,44.0,50.0,40.0,40.0,40.0,30.0,40.0,40.0,35.0,40.0,35.0,38.0,40.0,25.0,40.0,40.0,45.0,35.0,40.0,40.0,40.0,35.0,40.0,40.0,40.0,35.0,50.0,39.0,35.0,35.0,45.0,45.0,40.0,40.0,40.0,45.0,40.0,40.0,40.0,45.0,375.0,40.0,40.0,35.0,40.0,7.5,40.0,37.5,55.0,40.0,40.0,65.0,40.0,37.5,43.0,6.0,40.0,35.0,40.0,40.0,40.0,40.0,41.0,10.0,20.0,40.0,40.0,40.0,50.0,45.0,8.0,40.0,45.0,40.0,44.0,40.0,40.0,24.0,40.0,60.0,40.0,46.0,40.0,40.0,20.0,45.0,43.0,50.0,50.0,40.0,35.0,9.0,42.0,50.0,40.0,37.5,40.0,42.0,42.0,40.0,40.0,45.0,48.0,50.0,35.0,40.0,40.0,35.0,11.0,40.0,40.0,46.0,37.5,40.0,50.0,45.0,35.0,44.0,42.0,50.0,1012.0,50.0,37.0,50.0,40.0,40.0,40.0,40.0,16.0,44.0,50.0,40.0,65.0,40.0,40.0,45.0,50.0,40.0,40.0,40.0,50.0,36.5,40.0,40.0,40.0,40.0,20.0,42.0,40.0,30.0,6.0,40.0,40.0,38.0,45.0,42.0,40.0,40.0,6.0,40.0,40.0,40.0,40.0,40.0,45.0,35.0,40.0,37.5,50.0,40.0,40.0,50.0,54.0,40.0,45.0,40.0,5.0,37.5,40.0,40.0,42.0,40.0,40.0,40.0,44.0,50.0,40.0,40.0,40.0,38.0,40.0,40.0,null,40.0,38.0,36.0,40.0,40.0,37.5,40.0,40.0,40.0,160.0,40.0,40.0,42.0,45.0,50.0,30.0,45.0,40.0,40.0,40.0,40.0,40.0,50.0,40.0,40.0,45.0,40.0,45.0,37.0,45.0,50.0,32.0,37.5,40.0,60.0,40.0,8.0,47.5,44.0,40.0,40.0,40.0,40.0,40.0,50.0,40.0,40.0,25.0,40.0,40.0,45.0,40.0,40.0,null,42.0,40.0,40.0,40.0,40.0,45.0,39.0,40.0,50.0,40.0,45.0,40.0,40.0,40.0,40.0,40.0,50.0,40.0,40.0,40.0,40.0,40.0,40.0,45.0,40.0,40.0,40.0,36.0,38.0,40.0,45.0,50.0,40.0,37.0,40.0,40.0,38.5,40.0,35.0,40.0,45.0,50.0,40.0,40.0,40.0,null,40.0,40.0,43.0,20.0,37.5,40.0,20.0,45.0,35.0,40.0,40.0,40.0,40.0,35.0,40.0,40.0,60.0,9.0,38.0,40.0,45.0,45.0,40.0,40.0,35.0,40.0,40.0,40.0,40.0,35.0,40.0,40.0,7.0,39.0,375.0,40.0,55.0,38.0,40.0,50.0,45.0,32.0,52.0,40.0,40.0,37.0,60.0,37.0,40.0,40.0,40.0,42.5,50.0,50.0,38.0,40.0,40.0,37.5,40.0,37.5,90.0,40.0,29.0,null,50.0,40.0,40.0,44.0,45.0,50.0,40.0,168.0,44.0,45.0,38.0,40.0,40.0,40.0,40.0,null,42.0,40.0,50.0,40.0,40.0,45.0,35.0,40.0,40.0,40.0,39.0,40.0,35.0,60.0,40.0,45.0,35.0,40.0,10.0,8.0,43.0,40.0,40.0,45.0,45.0,40.0,40.0,45.0,44.0,32.0,40.0,40.0,50.0,25.0,35.0,40.0,20.0,40.0,46.0,54.0,50.0,40.0,40.0,45.0,35.0,55.0,40.0,8.5,40.0,40.0,113.0,37.5,40.0,37.5,45.0,40.0,40.0,40.0,50.0,40.0,45.0,40.0,37.0,40.0,40.0,45.0,40.0,35.0,30.0,40.0,40.0,40.0,45.5,35.0,40.0,39.0,35.0,36.0,40.0,45.0,40.0,45.0,10.0,40.0,35.0,8.0,32.0,null,40.0,40.0,40.0,40.0,40.0,35.0,40.0,60.0,45.0,35.0,48.0,50.0,42.5,45.0,45.0,40.0,60.0,null,40.0,40.0,40.0,40.0,20.0,50.0,35.0,35.0,40.0,42.0,40.0,40.0,40.0,50.0,40.0,10.0,40.0,15.0,40.0,40.0,45.0,40.0,40.0,37.5,38.0,40.0,40.0,8.0,40.0,32.0,70.0,40.0,40.0,40.0,40.0,40.0,40.0,40.0,49.0,40.0,50.0,40.0,40.0,36.5,40.0,35.0,45.0,60.0,50.0,40.0,40.0,37.5,40.0,42.0,45.0,40.0,40.0,45.0,40.0,40.0,42.0,40.0,44.0,40.0,50.0,40.0,40.0,40.0,40.0,40.0,40.0,40.0,35.0,40.0,45.0,45.0,45.0,42.0,60.0,40.0,38.0,32.0,40.0,40.0,40.0,40.0,null,40.0,40.0,40.0,45.0,45.0,45.0,40.0,75.0,40.0,40.0,40.0,40.0,40.0,40.0,40.0,42.0,40.0,42.0,40.0,42.0,50.0,39.0,40.0,40.0,35.0,40.0,40.0,35.0,50.0,40.0,40.0,40.0,37.5,40.0,30.0,45.0,25.0,40.0,50.0,40.0,40.0,45.0,40.0,40.0,60.0,45.0,42.5,40.0,37.5,30.0,43.0,40.0,40.0,44.0,40.0,40.0,40.0,40.0,32.0,42.0,42.0,37.5,40.0,60.0,35.0,37.5,40.0,40.0,50.0,38.0,37.5,40.0,40.0,38.0,40.0,50.0,11.0,40.0,40.0,40.0,8.0,85.0,45.0,45.0,37.0,40.0,null,45.0,44.0,40.0,40.0,22.0,40.0,40.0,30.0,32.0,40.0,50.0,15.0,38.5,40.0,45.0,null,40.0,40.0,40.0,37.0,48.0,40.0,40.0,42.0,9.0,40.0,25.0,40.0,50.0,40.0,40.0,40.0,40.0,40.0,37.5,50.0,40.0,40.0,40.0,65.0,20.0,42.0,40.0,50.0,40.0,39.0,40.0,385.0,40.0,40.0,40.0,70.0,40.0,37.0,40.0,40.0,50.0,35.0,45.0,40.0,40.0,44.0,40.0,37.5,45.0,45.0,43.0,40.0,40.0,40.0,35.0,40.0,50.0,40.0,40.0,32.0,40.0,44.0,30.0,47.0,45.0,40.0,42.5,40.0,40.0,40.0,8.5,50.0,38.0,40.0,45.0,40.0,40.0,40.0,40.0,50.0,40.0,40.0,40.0,40.0,38.0,50.0,40.0,45.0,38.0,46.0,35.0,55.0,40.0,40.0,40.0,40.0,40.0,40.0,7.0,50.0,40.0,40.0,40.0,35.0,40.0,40.0,40.0,40.0,40.0,40.0,45.0,40.0,60.0,37.0,40.0,40.0,40.0,40.0,35.0,38.0,60.0,40.0,40.0,40.0,40.0,40.0,40.0,40.0,45.0,35.0,45.0,40.0,40.0,45.0,45.0,39.0,50.0,9.0,40.0,45.0,40.0,60.0,40.0,38.0,45.0,37.5,45.0,35.0,40.0,40.0,40.0,39.0,45.0,40.0,9.0,40.0,40.0,45.0,50.0,40.0,35.0,9.0,35.0,40.0,42.0,32.5,37.5,40.0,40.0,40.0,40.0,38.0,35.0,40.0,38.0,40.0,40.0,40.0,40.0,40.0,39.0,15.0,40.0,37.5,40.0,37.0,48.0,40.0,40.0,40.0,40.0,45.0,50.0,40.0,40.0,55.0,80.0,45.0,40.0,40.0,40.0,40.0,50.0,38.0,40.0,45.0,40.0,35.0,50.0,40.0,36.5,40.0,40.0,40.0,45.0,40.0,40.0,20.0,45.0,42.0,45.0,40.0,48.0,42.0,375.0,10.0,40.0,50.0,20.0,60.0,56.0,40.0,35.0,40.0,40.0,30.0,40.0,40.0,45.0,50.0,40.0,43.0,40.0,20.0,40.0,40.0,60.0,38.0,45.0,37.5,45.0,38.0,40.0,20.0,50.0,40.0,45.0,37.0,40.0,38.0,60.0,160.0,8.0,40.0,40.0,40.0,35.0,38.0,45.0,40.0,40.0,40.0,35.0,45.0,40.0,36.0,40.0,40.0,84.0,40.0,40.0,35.0,37.5,40.0,42.0,38.0,38.0,45.0,40.0,40.0,40.0,35.0,41.0,44.0,45.0,40.0,45.0,40.0,18.0,40.0,38.0,40.0,50.0,40.0,60.0,40.0,36.0,37.0,45.0,40.0,8.0,50.0,40.0,40.0,40.0,40.0,40.0,32.0,7.0,20.0,40.0,37.5,40.0,40.0,40.0,45.0,50.0,50.0,40.0,40.0,55.0,35.0,40.0,66.0,35.0,40.0,40.0,40.0,40.0,40.0,38.0,40.0,40.0,35.0,45.0,45.0,40.0,40.0,40.0,40.0,36.0,35.0,50.0,50.0,60.0,40.0,40.0,39.0,60.0,40.0,40.0,45.0,37.0,40.0,40.0,44.0,45.0,35.0,50.0,40.0,40.0,32.0,35.0,40.0,40.0,40.0,36.5,50.0,42.0,36.0,8.0,50.0,37.0,45.0,40.0,54.0,43.0,8.0,50.0,40.0,40.0,45.0,42.0,42.0,40.0,40.0,42.5,40.0,40.0,35.0,40.0,44.0,40.0,null,40.0,45.0,40.0,40.0,60.0,40.0,null,45.0,35.0,40.0,40.0,37.5,44.0,40.0,35.0,40.0,40.0,45.0,40.0,20.0,40.0,80.0,40.0,41.0,40.0,39.0,46.0,40.0,40.0,50.0,70.0,48.0,42.0,40.0,40.0,45.0,40.0,40.0,30.0,47.0,45.0,null,45.0,44.0,44.0,40.0,40.0,40.0,38.0,45.0,40.0,40.0,45.0,40.0,null,50.0,40.0,40.0,40.0,40.0,40.0,40.0,45.0,50.0,50.0,42.0,35.0,40.0,32.0,40.0,35.0,50.0,35.0,40.0,40.0,35.0,42.0,50.0,38.0,54.0,50.0,40.0,48.0,42.0,57.0,40.0,8.0,36.0,40.0,40.0,40.0,50.0,40.0,45.0,44.0,45.0,35.0,44.0,40.0,40.0,40.0,40.0,40.0,40.0,40.0,41.0,40.0,45.0,40.0,50.0,40.0,44.0,40.0,40.0,40.0,40.0,40.0,45.0,36.0,37.5,37.5,40.0,45.0,45.0,36.0,45.0,40.0,40.0,45.0,40.0,40.0,45.0,50.0,40.0,40.0,40.0,40.0,40.0,40.0,28.0,40.0,40.0,40.0,48.0,45.0,40.0,45.0,40.0,44.0,50.0,40.0,65.0,60.0,40.0,40.0,48.0,40.0,40.0,8.0,40.0,45.0,45.0,40.0,40.0,40.0,40.0,40.0,40.0,40.0,38.0,null,40.0,40.0,37.0,42.0,40.0,35.0,40.0,40.0,35.0,40.0,40.0,40.0,40.0,37.5,8.0,40.0,55.0,40.0,40.0,40.0,40.0,40.0,39.0,42.0,64.0,45.0,65.0,38.0,38.0,45.0,40.0,40.0,44.0,70.0,52.0,40.0,35.0,30.0,40.0,35.0,40.0,40.0,37.5,38.0,40.0,15.0,40.0,40.0,40.0,40.0,40.0,40.0,40.0,50.0,40.0,37.5,10.0,40.0,41.0,50.0,40.0,45.0,6.0,40.0,50.0,40.0,38.0,45.0,40.0,7.0,38.0,40.0,40.0,30.0,42.5,40.0,40.0,375.0,50.0,40.0,40.0,20.0,40.0,38.5,40.0,40.0,40.0,40.0,40.0,45.0,45.0,40.0,40.0,44.0,35.0,375.0,40.0,35.0,40.0,35.0,39.0,42.0,24.0,50.0,50.0,40.0,40.0,40.0,40.0,40.0,null,60.0,45.0,40.0,40.0,40.0,15.0,40.0,45.0,39.0,45.0,45.0,40.0,38.0,40.0,50.0,43.0,35.0,40.0,40.0,40.0,40.0,40.0,45.0,35.0,40.0,7.0,40.0,40.0,48.0,40.0,60.0,45.0,40.0,40.0,null,40.0,50.0,40.0,40.0,45.0,60.0,35.0,40.0,45.0,40.0,40.0,35.0,39.0,40.0,42.0,20.0,35.0,50.0,40.0,35.0,40.0,40.0,52.0,44.0,37.5,37.0,36.0,40.0,43.0,45.0,35.0,37.0,42.0,40.0,40.0,40.0,30.0,45.0,40.0,40.0,40.0,40.0,40.0,40.0,40.0,40.0,40.0,42.5,40.0,40.0,45.0,10.0,40.0,40.0,45.0,52.0,9.0,40.0,40.0,40.0,40.0,40.0,40.0,40.0,40.0,40.0,48.0,40.0,40.0,40.0,40.0,45.0,40.0,35.0,41.2,39.0,40.0,50.0,45.0,35.0,38.0,40.0,45.0,40.0,40.0,37.0,40.0,40.0,40.0,40.0,45.0,35.0,40.0,40.0,40.0,40.0,37.0,40.0,30.0,45.0,44.0,40.0,40.0,34.0,37.5,40.0,45.0,45.0,375.0,25.0,35.0,30.0,40.0,45.0,40.0,40.0,40.0,60.0,41.0,50.0,42.0,45.0,40.0,30.0,30.0,40.0,40.0,40.0,42.0,40.0,45.0,44.0,45.0,null,40.0,40.0,45.0,40.0,40.0,40.0,45.0,40.0,40.0,40.0,36.0,40.0,45.0,40.0,45.0,40.0,45.0,35.0,40.0,40.0,50.0,40.0,30.0,40.0,50.0,40.0,35.0,42.0,40.0,40.0,40.0,70.0,50.0,43.0,50.0,9.0,375.0,null,25.0,50.0,50.0,40.0,40.0,37.5,8.0,35.0,40.0,8.0,40.0,40.0,40.0,57.0,35.0,40.0,48.0,44.0,50.0,40.0,40.0,12.0,45.0,40.0,40.0,32.0,30.0,38.5,37.5,40.0,40.0,40.0,40.0,44.0,40.0,40.0,60.0,40.0,20.0,40.0,null,40.0,50.0,40.0,20.0,40.0,40.0,35.0,168.0,35.0,50.0,50.0,35.0,50.0,40.0,36.0,38.0,40.0,60.0,40.0,40.0,50.0,30.0,40.0,40.0,40.0,40.0,45.0,40.0,40.0,40.0,40.0,55.0,40.0,50.0,40.0,45.0,40.0,40.0,40.0,40.0,38.0,40.0,25.0,45.0,50.0,45.0,37.5,40.0,30.0,30.0,30.0,40.0,40.0,40.0,40.0,45.0,35.0,45.0,35.0,40.0,45.0,38.0,45.0,37.5,8.0,40.0,40.0,8.0,40.0,40.0,38.0,37.5,40.0,40.0,40.0,40.0,6.0,9.0,40.0,45.0,40.0,50.0,48.0,42.0,37.5,40.0,45.0,50.0,40.0,40.0,48.0,40.0,40.0,40.0,30.0,80.0,60.0,45.0,40.0,44.0,43.0,40.0,40.0,45.0,40.0,30.0,40.0,45.0,42.0,37.0,40.0,80.0,40.0,40.0,40.0,40.0,45.0,60.0,35.0,38.0,355.0,40.0,null,40.0,40.0,40.0,null,40.0,40.0,40.0,40.0,40.0,50.0,38.0,37.0,40.0,40.0,35.0,40.0,40.0,40.0,48.0,45.0,40.0,41.0,50.0,40.0,50.0,50.0,30.0,40.0,8.0,40.0,40.0,40.0,40.0,35.0,50.0,32.0,20.0,40.0,37.5,40.0,45.0,50.0,40.0,40.0,8.0,45.0,50.0,40.0,40.0,40.0,40.0,40.0,30.0,50.0,50.0,46.0,35.0,8.0,45.0,50.0,40.0,60.0,40.0,45.0,7.0,37.0,40.0,38.0,38.0,60.0,45.0,45.0,50.0,37.0,40.0,40.0,35.0,40.0,40.0,30.0,39.0,40.0,45.0,38.0,50.0,50.0,60.0,42.0,45.0,42.0,50.0,40.0,40.0,50.0,60.0,35.0,40.0,42.0,50.0,45.0,42.0,40.0,40.0,35.0,40.0,40.0,40.0,45.0,42.0,40.0,40.0,40.0,40.0,38.0,45.0,40.0,7.0,50.0,35.0,40.0,44.0,38.0,40.0,40.0,40.0,40.0,50.0,37.5,45.0,40.0,40.0,45.0,40.0,40.0,60.0,60.0,40.0,43.0,50.0,35.0,45.0,45.0,46.0,40.0,40.0,42.0,40.0,40.0,40.0,42.0,40.0,40.0,45.0,40.0,40.0,45.0,48.0,40.0,45.0,50.0,40.0,45.0,44.0,45.0,45.0,70.0,40.0,40.0,40.0,45.0,375.0,40.0,40.0,38.0,40.0,50.0,36.0,40.0,45.0,40.0,55.0,40.0,40.0,null,45.0,40.0,40.0,45.0,50.0,40.0,48.0,37.0,40.0,35.0,45.0,46.0,45.0,40.0,40.0,45.0,40.0,8.0,40.0,40.0,24.0,40.0,40.0,40.0,null,40.0,45.0,80.0,40.0,40.0,40.0,40.0,45.0,47.5,45.0,40.0,40.0,42.0,48.0,8.0,45.0,38.0,30.0,40.0,40.0,45.0,45.0,40.0,40.0,37.5,40.0,6.0,39.0,50.0,50.0,30.0,32.0,38.0,37.5,40.0,375.0,40.0,40.0,40.0,40.0,40.0,37.5,38.0,45.0,40.0,35.0,40.0,40.0,40.0,50.0,40.0,40.0,8.0,40.0,50.0,40.0,45.0,40.0,40.0,35.0,33.0,40.0,40.0,44.0,40.0,55.0,37.5,40.0,35.0,45.0,40.0,28.0,40.0,38.0,48.0,35.0,40.0,40.0,32.0,40.0,10.0,40.0,40.0,45.0,42.0,30.0,50.0,35.0,45.0,70.0,45.0,40.0,40.0,43.0,40.0,40.0,null,35.0,8.0,45.0,50.0,35.0,40.0,35.0,40.0,80.0,50.0,40.0,55.0,48.0,45.0,40.0,40.0,45.0,60.0,35.0,40.0,35.0,40.0,40.0,40.0,45.0,40.0,50.0,50.0,45.0,45.0,40.0,40.0,35.0,45.0,48.0,35.0,null,40.0,50.0,40.0,40.0,42.0,35.0,40.0,40.0,45.0,40.0,45.0,50.0,null,40.0,37.0,40.0,45.0,40.0,50.0,40.0,40.0,40.0,40.0,40.0,40.0,60.0,37.0,40.0,null,40.0,40.0,40.0,40.0,null,32.0,42.0,36.0,40.0,40.0,40.0,40.0,35.0,40.0,38.0,45.0,35.0,40.0,48.0,40.0,40.0,45.0,40.0,45.0,40.0,40.0,47.5,30.0,40.0,36.0,32.0,37.5,13.0,37.5,40.0,42.0,45.0,50.0,37.5,35.0,39.0,40.0,45.0,30.0,45.0,40.0,40.0,60.0,50.0,40.0,40.0,30.0,50.0,50.0,40.0,42.0,37.5,40.0,35.0,40.0,40.0,40.0,37.5,40.0,37.5,40.0,40.0,45.0,40.0,40.0,39.0,40.0,40.0,44.0,44.0,35.0,44.0,60.0,null,40.0,45.0,40.0,39.0,42.0,40.0,40.0,35.0,40.0,40.0,37.0,52.0,40.0,40.0,10.0,40.0,44.0,40.0,8.0,40.0,37.5,12.0,32.0,40.0,50.0,45.0,40.0,40.0,40.0,50.0,37.0,45.0,40.0,40.0,45.0,45.0,45.0,50.0,6.0,40.0,45.0,40.0,30.0,44.0,40.0,40.0,43.0,40.0,40.0,35.0,45.0,45.0,40.0,40.0,50.0,45.0,37.0,40.0,35.0,40.0,40.0,40.0,60.0,45.0,45.0,39.0,40.0,37.0,40.0,40.0,45.0,37.5,40.0,40.0,35.0,45.0,40.0,40.0,40.0,40.0,47.5,40.0,40.0,40.0,40.0,40.0,40.0,40.0,55.0,37.5,40.0,42.0,40.0,45.0,8.0,20.0,55.0,40.0,40.0,50.0,40.0,36.0,40.0,41.0,24.0,40.0,38.0,40.0,42.0,45.0,40.0,50.0,40.0,40.0,40.0,40.0,10.0,40.0,40.0,40.0,40.0,40.0,80.0,54.0,42.0,35.0,38.0,50.0,45.0,45.0,9.0,45.0,45.0,45.0,40.0,45.0,40.0,40.0,40.0,40.0,35.0,40.0,40.0,40.0,40.0,40.0,null,40.0,45.0,40.0,12.0,45.0,37.0,40.0,37.0,50.0,40.0,50.0,38.0,40.0,21.0,40.0,35.0,40.0,35.0,40.0,42.0,40.0,32.5,40.0,45.0,35.0,40.0,42.0,80.0,40.0,40.0,56.0,38.0,37.5,38.0,8.0,40.0,40.0,50.0,40.0,40.0,40.0,40.0,40.0,40.0,40.0,100.0,8.0,45.0,35.0,40.0,40.0,40.0,40.0,38.0,40.0,10.0,40.0,12.0,null,40.0,37.5,40.0,40.0,40.0,40.0,40.0,40.0,50.0,50.0,40.0,40.0,40.0,60.0,60.0,35.0,35.0,40.0,null,null,40.0,40.0,44.0,30.0,168.0,40.0,40.0,45.0,8.0,50.0,45.0,40.0,42.0,40.0,45.0,40.0,45.0,40.0,40.0,9.0,35.0,40.0,40.0,40.0,42.0,40.0,40.0,42.0,37.5,37.5,54.0,46.0,45.0,40.0,54.0,44.0,45.0,35.0,30.0,40.0,40.0,45.0,40.0,40.0,40.0,40.0,40.0,40.0,40.0,null,40.0,37.5,10.0,44.0,44.0,50.0,40.0,45.0,40.0,40.0,31.5,40.0,40.0,50.0,45.0,45.0,40.0,60.0,37.5,40.0,60.0,40.0,55.0,40.0,80.0,9.0,40.0,40.0,40.0,50.0,8.0,35.0,46.0,30.0,8.0,40.0,37.5,45.0,50.0,45.0,60.0,25.0,40.0,40.0,37.5,40.0,null,40.0,40.0,9.0,40.0,40.0,40.0,42.5,48.0,40.0,40.0,45.0,40.0,35.0,40.0,8.0,40.0,36.0,45.0,40.0,40.0,40.0,37.0,45.0,79.0,40.0,49.0,45.0,38.0,40.0,50.0,45.0,40.0,50.0,40.0,36.0,41.0,45.0,40.0,35.0,35.0,40.0,40.0,40.0,35.0,50.0,45.0,40.0,20.0,55.0,40.0,38.0,40.0,38.0,50.0,45.0,39.0,40.0,40.0,40.0,40.0,42.0,4.0,40.0,40.0,40.0,42.0,60.0,40.0,37.0,55.0,50.0,37.0,38.0,40.0,40.0,40.0,40.0,40.0,50.0,30.0,50.0,35.0,50.0,45.0,40.0,40.0,40.0,40.0,39.0,32.0,160.0,40.0,50.0,40.0,9.0,37.0,40.0,40.0,38.0,45.0,60.0,40.0,20.0,45.0,30.0,39.0,32.0,40.0,40.0,40.0,38.0,40.0,44.0,40.0,40.0,40.0,45.0,40.0,40.0,40.0,40.0,40.0,45.0,50.0,38.0,30.0,40.0,40.0,32.0,40.0,45.0,50.0,44.0,45.0,50.0,40.0,40.0,40.0,40.0,37.5,40.0,16.0,40.0,40.0,37.0,50.0,37.5,40.0,40.0,40.0,40.0,40.0,40.0,39.0,46.0,40.0,40.0,45.0,48.0,45.0,40.0,40.0,37.5,45.0,55.0,40.0,48.0,38.5,40.0,44.0,40.0,35.0,40.0,40.0,40.0,40.0,null,45.0,40.0,33.0,37.5,40.0,37.5,45.0,37.5,40.0,40.0,40.0,45.0,40.0,40.0,20.0,null,40.0,45.0,40.0,37.5,40.0,40.0,40.0,40.0,45.0,45.0,9.0,37.0,40.0,40.0,35.0,56.0,48.0,40.0,40.0,45.0,40.0,40.0,55.0,38.0,55.0,40.0,50.0,37.0,375.0,8.0,40.0,40.0,40.0,40.0,25.0,50.0,29.0,40.0,45.0,40.0,50.0,40.0,72.0,37.5,30.0,40.0,40.0,40.0,37.0,40.0,40.0,42.0,40.0,40.0,45.0,40.0,40.0,84.0,42.0,40.0,40.0,37.5,40.0,40.0,40.0,null,40.0,40.0,40.0,40.0,145.0,42.5,50.0,46.0,40.0,37.0,50.0,40.0,40.0,45.0,45.0,45.0,40.0,35.0,40.0,40.0,40.0,45.0,40.0,45.0,40.0,40.0,35.0,40.0,40.0,40.0,40.0,65.0,40.0,45.0,40.0,40.0,40.0,8.0,40.0,40.0,50.0,10.0,50.0,40.0,65.0,37.0,60.0,40.0,30.0,50.0,48.0,35.0,40.0,40.0,40.0,40.0,36.0,45.0,40.0,37.5,40.0,42.0,50.0,40.0,40.0,40.0,8.0,40.0,50.0,36.0,40.0,40.0,37.5,40.0,40.0,40.0,40.0,40.0,45.0,40.0,8.0,32.0,40.0,45.0,37.0,40.0,40.0,8.5,40.0,40.0,45.0,48.0,40.0,40.0,40.0,39.0,40.0,40.0,44.0,36.0,50.0,42.5,45.0,45.0,40.0,35.0,35.0,40.0,40.0,40.0,45.0,39.0,50.0,40.0,40.0,40.0,40.0,40.0,40.0,40.0,40.0,40.0,40.0,44.0,37.5,40.0,40.0,45.0,36.0,40.0,50.0,56.0,38.0,168.0,40.0,38.0,50.0,40.0,60.0,40.0,37.0,40.0,40.0,35.0,35.0,40.0,35.0,40.0,40.0,37.5,40.0,40.0,40.0,40.0,40.0,50.0,45.0,40.0,45.0,40.0,40.0,40.0,40.0,45.0,40.0,37.0,8.0,40.0,56.0,45.0,32.0,40.0,35.0,44.0,45.0,7.5,40.0,40.0,40.0,50.0,35.0,45.0,40.0,40.0,40.0,48.0,37.5,40.0,40.0,52.0,48.0,52.0,45.0,45.0,40.0,40.0,40.0,43.0,40.0,46.0,40.0,40.0,40.0,40.0,40.0,40.0,50.0,40.0,45.0,null,40.0,35.0,40.0,40.0,40.0,40.0,20.0,38.0,40.0,38.0,40.0,60.0,35.0,30.0,40.0,40.0,40.0,40.0,40.0,50.0,40.0,40.0,45.0,35.0,50.0,40.0,40.0,37.5,40.0,37.0,37.0,45.0,40.0,40.0,40.0,40.0,37.5,40.0,40.0,40.0,40.0,40.0,37.0,50.0,40.0,35.0,40.0,50.0,42.0,40.0,60.0,45.0,45.0,40.0,40.0,40.0,38.0,20.0,40.0,37.5,8.0,37.5,40.0,45.0,40.0,40.0,8.0,40.0,35.0,40.0,43.0,35.0,45.0,45.0,35.0,42.0,40.0,40.0,32.0,42.0,40.0,50.0,45.0,40.0,37.5,40.0,36.0,40.0,42.0,40.0,38.5,36.5,40.0,24.0,37.5,40.0,45.0,40.0,40.0,45.0,70.0,40.0,50.0,45.0,40.0,35.0,40.0,16.0,40.0,35.0,20.0,45.0,40.0,40.0,45.0,40.0,40.0,40.0,40.0,35.0,40.0,40.0,40.0,37.0,40.0,30.0,40.0,55.0,35.0,45.0,40.0,40.0,41.0,null,37.5,40.0,40.0,40.0,45.0,40.0,40.0,10.0,40.0,40.0,40.0,375.0,48.0,40.0,40.0,40.0,40.0,40.0,40.0,50.0,56.0,30.0,40.0,40.0,40.0,40.0,45.0,50.0,56.0,42.0,40.0,40.0,50.0,50.0,40.0,42.0,45.0,65.0,40.0,40.0,25.0,45.0,20.0,30.0,50.0,39.0,40.0,40.0,40.0,40.0,40.0,40.0,40.0,40.0,40.0,40.0,35.0,45.0,40.0,45.0,150.0,40.0,40.0,40.0,50.0,40.0,40.0,39.0,42.0,45.0,50.0,40.0,8.0,40.0,40.0,40.0,40.0,40.0,24.0,44.0,70.0,40.0,40.0,40.0,40.0,35.0,50.0,39.0,42.0,40.0,40.0,42.0,40.0,null,40.0,45.0,35.0,42.0,40.0,40.0,60.0,40.0,40.0,52.0,40.0,45.0,40.0,45.0,40.0,30.0,40.0,50.0,55.0,35.0,40.0,45.0,40.0,30.0,21.0,37.5,45.0,43.0,40.0,40.0,40.0,40.0,44.0,45.0,40.0,40.0,40.0,35.0,50.0,35.0,50.0,42.0,40.0,40.0,40.0,30.0,45.0,50.0,375.0,40.0,55.0,40.0,30.0,40.0,35.0,42.0,40.0,47.0,40.0,40.0,50.0,40.0,40.0,45.0,40.0,40.0,16.0,40.0,22.0,40.0,40.0,40.0,40.0,37.0,40.0,44.0,40.0,40.0,40.0,40.0,40.0,8.0,50.0,44.0,375.0,40.0,42.0,25.0,40.0,45.0,37.5,40.0,40.0,40.0,40.0,20.0,40.0,45.0,45.0,30.0,41.0,40.0,40.0,45.0,40.0,45.0,35.0,42.0,40.0,44.0,47.0,40.0,35.0,40.0,40.0,38.0,37.0,40.0,65.0,40.0,40.0,40.0,40.0,40.0,40.0,40.0,40.0,40.0,50.0,40.0,40.0,35.0,37.0,40.0,40.0,37.0,60.0,32.0,40.0,45.0,50.0,38.0,31.0,50.0,35.0,35.0,40.0,40.0,40.0,37.0,50.0,37.5,40.0,50.0,40.0,40.0,35.0,43.0,38.0,40.0,40.0,40.0,42.0,37.5,375.0,42.0,40.0,40.0,40.0,40.0,45.0,40.0,30.0,35.0,40.0,40.0,32.0,40.0,40.0,50.0,40.0,40.0,35.0,40.0,8.0,38.0,40.0,40.0,40.0,40.0,30.0,40.0,null,40.0,42.0,40.0,null,45.0,50.0,11.0,40.0,45.0,60.0,40.0,40.0,40.0,40.0,35.0,20.0,39.0,40.0,40.0,37.5,40.0,45.0,35.0,37.5,35.0,60.0,40.0,35.0,50.0,40.0,35.0,45.0,40.0,39.0,37.5,40.0,41.0,40.0,40.0,40.0,50.0,40.0,40.0,40.0,40.0,38.0,60.0,40.0,40.0,40.0,40.0,40.0,43.0,40.0,37.0,40.0,null,37.5,45.0,40.0,36.0,40.0,40.0,8.0,42.0,40.0,40.0,40.0,40.0,35.0,44.0,40.0,40.0,45.0,47.0,40.0,40.0,42.0,40.0,6.0,40.0,40.0,38.0,50.0,32.0,40.0,8.0,45.0,36.0,40.0,40.0,35.0,45.0,7.0,40.0,40.0,40.0,48.0,32.0,38.0,50.0,40.0,40.0,35.0,35.0,null,40.0,35.0,37.0,47.0,40.0,40.0,45.0,40.0,40.0,40.0,40.0,40.0,40.0,42.5,40.0,40.0,48.0,65.0,40.0,45.0,40.0,40.0,38.0,40.0,28.0,40.0,45.0,17.0,30.0,45.0,37.0,40.0,37.5,40.0,45.0,65.0,40.0,40.0,40.0,40.0,45.0,45.0,37.0,40.0,40.0,8.0,41.0,45.0,50.0,40.0,39.0,40.0,40.0,40.0,40.0,40.0,40.0,40.0,90.0,40.0,20.0,40.0,60.0,40.0,37.5,42.5,40.0,40.0,40.0,40.0,40.0,20.0,40.0,40.0,50.0,50.0,44.0,40.0,42.0,40.0,40.0,44.0,40.0,41.0,40.0,40.0,42.0,45.0,35.0,37.5,8.0,45.0,40.0,40.0,40.0,40.0,30.0,40.0,37.0,35.0,45.0,40.0,40.0,37.0,40.0,40.0,40.0,40.0,40.0,50.0,45.0,42.0,35.0,40.0,50.0,40.0,40.0,38.0,40.0,60.0,45.0,40.0,40.0,39.0,160.0,38.0,40.0,8.0,40.0,50.0,37.0,40.0,37.0,150.0,42.0,40.0,40.0,37.5,40.0,45.0,35.0,40.0,42.0,40.0,40.0,40.0,40.0,38.0,40.0,10.0,40.0,45.0,40.0,40.0,35.0,40.0,7.0,40.0,50.0,30.0,40.0,40.0,40.0,40.0,40.0,70.0,45.0,50.0,40.0,47.0,37.0,36.0,50.0,40.0,40.0,37.0,35.0,45.0,40.0,40.0,38.0,42.0,40.0,40.0,48.0,40.0,9.0,50.0,45.0,40.0,37.5,40.0,8.0,40.0,40.0,40.0,80.0,50.0,160.0,37.5,40.0,40.0,35.0,42.0,45.0,40.0,40.0,40.0,43.0,41.0,160.0,40.0,40.0,40.0,40.0,40.0,40.0,10.0,40.0,40.0,38.0,40.0,40.0,40.0,40.0,40.0,40.0,38.0,30.0,16.0,40.0,40.0,40.0,160.0,42.0,44.0,40.0,40.0,35.0,30.0,40.0,43.0,40.0,38.0,40.0,30.0,40.0,70.0,42.0,40.0,40.0,39.5,46.0,40.0,40.0,40.0,80.0,40.0,8.0,40.0,37.5,50.0,45.0,40.0,32.0,45.0,40.0,32.0,45.0,17.0,41.0,100.0,40.0,38.0,8.0,60.0,40.0,40.0,15.0,48.0,8.0,45.0,35.0,40.0,40.0,41.0,45.0,46.0,40.0,40.0,40.0,45.0,40.0,40.0,45.0,42.0,40.0,48.0,40.0,40.0,40.0,30.0,44.0,45.0,40.0,40.0,42.0,40.0,45.0,38.0,40.0,40.0,40.0,37.5,40.0,40.0,38.0,20.0,42.0,37.5,45.0,40.0,35.0,60.0,45.0,55.0,40.0,42.0,40.0,45.0,40.0,40.0,45.0,75.0,50.0,39.0,40.0,60.0,43.0,40.0,55.0,35.0,40.0,39.0,40.0,40.0,40.0,40.0,40.0,40.0,35.0,54.0,40.0,8.5,40.0,38.0,40.0,20.0,50.0,35.0,40.0,40.0,40.0,40.0,45.0,50.0,40.0,45.0,65.0,40.0,50.0,45.0,50.0,40.0,37.5,35.0,40.0,42.0,40.0,50.0,6.0,45.0,40.0,22.0,9.0,35.0,40.0,40.0,40.0,25.0,40.0,40.0,42.0,45.0,38.0,37.0,40.0,40.0,40.0,36.0,50.0,40.0,35.0,40.0,48.0,40.0,8.0,40.0,37.0,40.0,40.0,40.0,40.0,40.0,40.0,40.0,45.0,60.0,50.0,40.0,40.0,40.0,40.0,40.0,40.0,null,40.0,45.0,36.0,45.0,45.0,40.0,40.0,40.0,40.0,40.0,8.0,40.0,40.0,40.0,40.0,35.0,40.0,40.0,40.0,40.0,35.0,45.0,8.0,40.0,40.0,40.0,38.0,20.0,35.0,40.0,35.0,48.0,null,45.0,36.0,40.0,35.0,40.0,36.5,50.0,40.0,37.0,40.0,40.0,35.0,45.0,22.0,48.0,50.0,40.0,40.0,50.0,40.0,40.0,40.0,39.0,40.0,40.0,40.0,40.0,40.0,40.0,7.0,35.0,36.0,44.0,40.0,45.0,35.0,40.0,50.0,37.0,40.0,40.0,37.5,45.0,40.0,38.5,38.0,40.0,40.0,45.0,40.0,37.0,40.0,40.0,9.0,40.0,50.0,37.0,45.0,40.0,40.0,40.0,40.0,40.0,42.0,50.0,36.0,48.0,40.0,40.0,40.0,47.5,40.0,40.0,35.0,40.0,null,40.0,40.0,40.0,40.0,37.5,40.0,45.0,8.0,40.0,40.0,50.0,35.0,40.0,45.0,50.0,40.0,40.0,40.0,38.0,40.0,45.0,20.0,30.0,40.0,40.0,35.0,35.0,60.0,48.0,40.0,40.0,40.0,40.0,40.0,null,36.0,40.0,40.0,60.0,30.0,40.0,40.0,45.0,38.0,40.0,42.0,38.0,40.0,40.0,50.0,40.0,40.0,37.0,40.0,40.0,35.0,8.0,168.0,45.0,45.0,42.0,21.0,40.0,50.0,38.0,44.0,40.0,35.0,40.0,40.0,40.0,40.0,20.0,40.0,40.0,40.0,50.0,40.0,40.0,40.0,40.0,null,40.0,40.0,40.0,40.0,45.0,40.0,50.0,38.0,44.0,60.0,45.0,43.0,40.0,40.0,45.0,40.0,43.0,50.0,40.0,45.0,24.0,40.0,37.0,60.0,40.0,44.0,35.0,40.0,42.0,40.0,40.0,42.0,40.0,5.0,40.0,50.0,375.0,40.0,45.0,40.0,40.0,45.0,40.0,40.0,40.0,60.0,48.0,50.0,40.0,40.0,50.0,40.0,38.0,40.0,40.0,45.0,40.0,40.0,60.0,40.0,37.5,37.5,45.0,40.0,50.0,45.0,40.0,50.0,45.0,40.0,40.0,40.0,35.0,40.0,40.0,42.5,60.0,47.0,45.0,40.0,40.0,37.5,50.0,40.0,25.0,40.0,45.0,40.0,45.0,40.0,30.0,55.0,45.0,40.0,42.0,9.0,40.0,40.0,40.0,45.0,48.0,40.0,42.0,35.0,37.0,46.0,40.0,40.0,40.0,40.0,40.0,40.0,42.0,40.0,44.0,40.0,40.0,40.0,42.5,45.0,43.0,45.0,40.0,6.3,40.0,40.0,40.0,40.0,36.0,37.0,40.0,40.0,null,38.0,40.0,40.0,40.0,20.0,40.0,40.0,40.0,40.0,168.0,42.0,40.0,40.0,40.0,40.0,40.0,37.5,40.0,48.0,38.0,40.0,32.0,35.0,38.0,42.0,40.0,30.0,32.0,50.0,41.0,46.0,40.0,40.0,40.0,60.0,40.0,40.0,60.0,11.0,60.0,10.0,55.0,37.0,36.5,40.0,32.0,40.0,40.0,40.0,40.0,160.0,45.0,40.0,38.0,45.0,40.0,37.5,40.0,37.5,37.5,60.0,50.0,45.0,40.0,15.0,40.0,40.0,40.0,55.0,50.0,40.0,30.0,9.0,47.0,40.0,40.0,40.0,40.0,37.0,45.0,8.0,40.0,40.0,40.0,37.5,8.0,40.0,8.0,38.0,40.0,35.0,20.0,40.0,45.0,35.0,40.0,35.0,44.0,40.0,40.0,60.0,40.0,40.0,40.0,40.0,40.0,37.5,40.0,60.0,40.0,40.0,40.0,54.0,24.0,40.0,40.0,40.0,40.0,30.0,45.0,40.0,40.0,42.0,50.0,40.0,40.0,40.0,40.0,40.0,40.0,40.0,40.0,42.0,45.0,45.0,40.0,40.0,38.0,40.0,40.0,40.0,40.0,40.0,10.0,38.0,40.0,35.0,50.0,40.0,40.0,40.0,40.0,40.0,40.0,9.0,40.0,9.0,40.0,40.0,40.0,35.0,40.0,38.0,40.0,50.0,50.0,40.0,37.5,40.0,40.0,41.0,37.5,40.0,40.0,40.0,40.0,60.0,40.0,40.0,44.0,40.0,40.0,40.0,40.0,40.0,45.0,40.0,45.0,55.0,40.0,45.0,40.0,42.0,30.0,50.0,25.0,40.0,40.0,40.0,15.0,35.0,35.0,60.0,40.0,50.0,50.0,40.0,35.0,35.0,35.0,40.0,42.0,40.0,40.0,40.0,40.0,36.0,30.0,45.0,40.0,40.0,37.5,42.0,40.0,40.0,45.0,35.0,41.0,40.0,43.0,45.0,40.0,40.0,40.0,54.0,40.0,40.0,60.0,45.0,40.0,8.0,45.0,40.0,40.0,40.0,38.0,45.0,50.0,48.0,50.0,40.0,40.0,48.0,40.0,42.0,37.0,30.0,42.0,42.0,45.0,40.0,44.0,50.0,40.0,40.0,80.0,42.0,8.5,40.0,42.0,40.0,40.0,40.0,8.0,45.0,40.0,40.0,40.0,43.0,45.0,34.0,40.0,null,32.0,45.0,40.0,40.0,40.0,40.0,40.0,45.0,40.0,168.0,45.0,37.5,40.0,24.0,40.0,40.0,40.0,45.0,40.0,40.0,40.0,40.0,45.0,37.5,40.0,35.0,40.0,40.0,42.0,24.0,40.0,40.0,100.0,48.0,39.0,35.0,55.0,40.0,40.0,8.0,40.0,45.0,7.0,50.0,40.0,45.0,45.0,37.5,40.0,40.0,null,38.0,40.0,60.0,40.0,8.0,40.0,40.0,39.0,42.0,45.0,40.0,40.0,42.0,40.0,37.0,40.0,40.0,40.0,35.0,null,40.0,9.0,37.0,40.0,50.0,44.0,40.0,40.0,30.0,40.0,35.0,60.0,40.0,40.0,37.0,42.0,40.0,40.0,35.0,45.0,168.0,40.0,9.0,45.0,40.0,40.0,40.0,40.0,40.0,40.0,45.0,40.0,38.0,40.0,40.0,6.0,20.0,40.0,37.5,40.0,8.0,40.0,40.0,50.0,40.0,40.0,7.0,42.0,40.0,40.0,40.0,48.0,40.0,35.0,30.0,40.0,45.0,40.0,40.0,40.0,40.0,40.0,40.0,40.0,40.0,40.0,50.0,40.0,10.0,40.0,40.0,40.0,7.0,45.0,60.0,40.0,40.0,40.0,45.0,37.0,30.0,38.0,38.0,20.0,37.5,20.0,40.0,40.0,40.0,45.0,38.0,8.0,54.0,36.0,40.0,40.0,40.0,45.0,40.0,23.0,40.0,60.0,60.0,40.0,38.5,40.0,45.0,40.0,40.0,40.0,45.0,50.0,40.0,50.0,40.0,50.0,40.0,50.0,40.0,40.0,40.0,40.0,37.5,40.0,15.0,40.0,40.0,45.0,55.0,30.0,45.0,40.0,40.0,40.0,42.0,40.0,40.0,40.0,40.0,168.0,45.0,40.0,48.0,45.0,40.0,30.0,40.0,50.0,40.0,8.0,42.0,38.0,40.0,40.0,36.0,35.0,40.0,40.0,45.0,45.0,7.5,7.5,40.0,40.0,40.0,45.0,50.0,60.0,40.0,40.0,40.0,55.0,38.0,40.0,40.0,40.0,21.0,40.0,40.0,43.0,41.0,40.0,40.0,50.0,50.0,40.0,37.0,50.0,42.0,16.0,32.0,50.0,42.0,36.0,40.0,40.0,40.0,50.0,45.0,40.0,45.0,40.0,35.0,48.0,40.0,40.0,37.0,35.0,30.0,40.0,40.0,40.0,50.0,45.0,37.0,35.0,45.0,40.0,60.0,40.0,20.0,41.0,35.0,45.0,35.0,40.0,48.0,40.0,40.0,40.0,8.0,40.0,40.0,40.0,40.0,37.0,8.0,44.0,40.0,50.0,44.0,40.0,40.0,40.0,40.0,40.0,40.0,40.0,40.0,35.0,40.0,45.0,40.0,40.0,8.0,40.0,45.0,45.0,37.5,40.0,45.0,40.0,40.0,35.0,50.0,40.0,40.0,40.0,40.0,40.0,37.0,45.0,35.0,47.0,60.0,45.0,40.0,35.0,40.0,35.0,40.0,40.0,40.0,40.0,40.0,38.0,35.0,40.0,8.0,43.0,40.0,40.0,8.0,15.0,40.0,40.0,50.0,40.0,40.0,50.0,41.0,40.0,40.0,55.0,40.0,40.0,42.0,40.0,40.0,40.0,45.0,35.0,40.0,40.0,40.0,40.0,40.0,50.0,40.0,40.0,40.0,40.0,37.0,40.0,40.0,20.0,38.0,39.0,40.0,40.0,41.0,40.0,40.0,45.0,40.0,40.0,12.0,8.0,40.0,40.0,40.0,40.0,40.0,50.0,40.0,40.0,80.0,40.0,40.0,45.0,45.0,40.0,46.0,40.0,45.0,48.0,50.0,null,40.0,50.0,40.0,40.0,80.0,35.0,45.0,40.0,40.0,40.0,60.0,50.0,40.0,45.0,40.0,45.0,40.0,37.75,40.0,40.0,30.0,50.0,40.0,40.0,40.0,40.0,50.0,45.0,40.0,40.0,37.5,8.0,40.0,37.0,50.0,40.0,40.0,45.0,35.0,37.5,40.0,40.0,45.0,37.0,40.0,38.0,44.0,45.0,40.0,50.0,50.0,40.0,40.0,60.0,40.0,48.0,40.0,40.0,40.0,35.0,50.0,50.0,40.0,37.5,40.0,35.0,45.0,35.0,50.0,40.0,40.0,40.0,50.0,40.0,40.0,40.0,40.0,40.0,37.5,40.0,45.0,50.0,35.0,40.0,37.0,40.0,38.0,50.0,40.0,40.0,40.0,48.0,35.0,45.0,40.0,40.0,60.0,45.0,40.0,40.0,40.0,40.0,50.0,40.0,45.0,40.0,45.0,40.0,8.0,40.0,37.5,40.0,42.0,40.0,45.0,40.0,42.0,40.0,7.0,45.0,40.0,40.0,40.0,40.0,37.0,37.5,45.0,40.0,40.0,36.0,40.0,40.0,40.0,36.0,40.0,40.0,40.0,45.0,40.0,40.0,45.0,50.0,40.0,45.0,70.0,40.0,8.5,40.0,9.0,48.0,40.0,35.0,40.0,58.0,40.0,42.5,40.0,45.0,8.0,40.0,30.0,37.0,40.0,40.0,40.0,40.0,35.0,50.0,40.0,40.0,40.0,40.0,40.0,15.0,40.0,6.0,40.0,48.0,40.0,40.0,40.0,40.0,50.0,50.0,45.0,40.0,35.0,45.0,40.0,null,35.0,32.0,40.0,37.5,40.0,40.0,40.0,50.0,55.0,40.0,45.0,40.0,38.0,40.0,42.0,38.0,55.0,40.0,40.0,40.0,50.0,19.0,40.0,40.0,40.0,40.0,37.5,45.0,40.0,40.0,40.0,30.0,38.0,40.0,50.0,40.0,40.0,40.0,45.0,40.0,40.0,42.0,40.0,35.0,40.0,60.0,50.0,45.0,32.0,40.0,40.0,35.0,45.0,40.0,null,42.0,36.0,35.0,40.0,50.0,42.0,40.0,40.0,40.0,35.0,37.0,40.0,40.0,30.0,40.0,40.0,38.5,40.0,40.0,40.0,40.0,60.0,50.0,40.0,42.0,40.0,50.0,42.5,42.0,40.0,40.0,38.0,45.0,45.0,35.0,40.0,40.0,40.0,40.0,40.0,40.0,48.0,30.0,40.0,40.0,46.0,35.0,40.0,40.0,44.0,37.5,40.0,45.0,40.0,40.0,40.0,50.0,48.0,38.0,40.0,40.0,12.0,40.0,40.0,40.0,40.0,40.0,40.0,40.0,40.0,45.0,40.0,40.0,45.0,35.0,38.0,40.0,45.0,40.0,35.0,45.0,40.0,40.0,40.0,40.0,35.0,40.0,42.0,35.0,35.0,20.0,40.0,45.0,40.0,385.0,30.0,40.0,7.0,40.0,38.0,45.0,40.0,40.0,54.0,45.0,38.0,40.0,45.0,40.0,40.0,37.0,40.0,40.0,45.0,45.0,40.0,48.0,24.0,40.0,40.0,55.0,40.0,32.0,37.0,45.0,40.0,60.0,40.0,55.0,80.0,30.0,40.0,null,30.0,168.0,40.0,30.0,40.0,38.0,40.0,38.0,35.0,40.0,48.0,45.0,50.0,48.0,50.0,37.0,40.0,40.0,40.0,40.0,39.0,40.0,375.0,40.0,40.0,55.0,40.0,40.0,35.0,5.0,45.0,40.0,35.0,43.0,45.0,35.0,60.0,30.0,40.0,42.0,40.0,45.0,52.0,40.0,40.0,40.0,44.0,40.0,40.0,35.0,40.0,40.0,42.0,40.0,40.0,42.0,55.0,40.0,24.0,40.0,34.5,35.0,40.0,50.0,385.0,60.0,40.0,40.0,40.0,35.0,40.0,50.0,60.0,40.0,40.0,40.0,16.0,60.0,40.0,42.0,40.0,9.0,40.0,40.0,45.0,50.0,40.0,40.0,30.0,40.0,40.0,45.0,40.0,20.0,34.0,52.0,40.0,160.0,45.0,38.0,40.0,40.0,40.0,40.0,41.0,40.0,40.0,40.0,35.0,40.0,42.0,40.0,37.5,40.0,50.0,10.0,40.0,37.0,40.0,38.0,35.0,38.0,40.0,40.0,50.0,45.0,40.0,70.0,40.0,50.0,40.0,40.0,60.0,40.0,45.0,45.0,36.0,48.0,36.0,45.0,40.0,40.0,40.0,45.0,36.0,50.0,42.0,45.0,40.0,35.0,40.0,40.0,35.0,40.0,42.0,40.0,39.0,40.0,45.0,40.0,47.5,40.0,30.0,47.5,40.0,40.0,44.0,35.0,40.0,8.0,40.0,48.0,40.0,40.0,45.0,30.0,40.0,40.0,55.0,50.0,42.0,50.0,40.0,30.0,37.5,42.5,40.0,40.0,50.0,44.0,42.0,40.0,38.0,40.0,40.0,8.5,40.0,40.0,37.5,48.0,50.0,40.0,30.0,40.0,50.0,37.5,45.0,44.0,44.0,45.0,40.0,9.0,49.0,40.0,50.0,50.0,40.0,45.0,8.0,50.0,40.0,55.0,40.0,40.0,40.0,40.0,40.0,37.5,40.0,40.0,40.0,35.0,38.0,40.0,60.0,40.0,24.0,40.0,32.0,9.0,40.0,40.0,50.0,40.0,40.0,40.0,40.0,43.0,40.0,40.0,50.0,40.0,37.5,40.0,50.0,40.0,40.0,42.0,40.0,9.0,45.0,54.0,50.0,8.0,40.0,40.0,42.5,40.0,42.5,60.0,55.0,40.0,40.0,45.0,50.0,45.0,45.0,40.0,35.0,40.0,50.0,47.5,60.0,42.0,32.0,9.0,40.0,40.0,40.0,37.5,40.0,35.0,40.0,40.0,40.0,40.0,60.0,40.0,40.0,38.0,10.0,30.0,40.0,38.0,37.5,32.0,40.0,40.0,40.0,37.5,40.0,40.0,40.0,45.0,46.0,40.0,45.0,40.0,40.0,45.0,45.0,20.0,40.0,null,37.5,40.0,40.0,35.0,37.5,56.0,45.0,50.0,40.0,40.0,50.0,50.0,50.0,40.0,30.0,40.0,40.0,40.0,55.0,45.0,40.0,32.0,40.0,48.0,42.5,37.5,35.0,40.0,40.0,42.0,40.0,40.0,50.0,40.0,40.0,37.0,50.0,40.0,45.0,50.0,40.0,40.0,40.0,40.0,44.0,40.0,40.0,40.0,36.0,40.0,42.0,50.0,40.0,35.0,38.0,44.0,40.0,40.0,40.0,40.0,40.0,40.0,38.0,null,40.0,32.0,52.0,20.0,43.0,50.0,42.0,40.0,35.0,10.0,40.0,40.0,40.0,40.0,40.0,50.0,40.0,40.0,40.0,40.0,35.0,40.0,39.0,32.0,15.0,30.0,50.0,40.0,40.0,40.0,40.0,32.0,50.0,15.0,40.0,40.0,40.0,40.0,37.0,35.0,40.0,42.0,47.0,30.0,40.0,null,48.0,50.0,38.5,40.0,40.0,45.0,40.0,40.0,40.0,40.0,40.0,55.0,20.0,35.0,null,47.0,40.0,40.0,40.0,40.0,40.0,40.0,40.0,50.0,37.5,40.0,35.0,55.0,40.0,42.0,40.0,60.0,44.0,40.0,37.5,40.0,42.0,42.5,40.0,35.0,39.0,40.0,40.0,40.0,35.0,48.0,40.0,40.0,48.0,39.0,40.0,37.5,40.0,40.0,null,null,50.0,40.0,40.0,40.0,20.0,null,40.0,37.5,40.0,40.0,36.0,50.0,40.0,45.0,60.0,40.0,40.0,45.0,40.0,50.0,40.0,null,24.0,40.0,40.0,40.0,40.0,15.0,10.0,40.0,40.0,39.0,40.0,40.0,40.0,39.0,40.0,40.0,30.0,40.0,40.0,35.0,37.5,48.0,40.0,37.5,70.0,40.0,40.0,50.0,38.0,40.0,40.0,40.0,40.0,60.0,30.0,40.0,40.0,50.0,50.0,8.0,50.0,37.5,45.0,50.0,50.0,40.0,50.0,35.0,40.0,45.0,40.0,42.0,15.0,40.0,45.0,40.0,40.0,45.0,40.0,40.0,40.0,37.5,37.5,44.0,40.0,40.0,40.0,45.0,40.0,40.0,8.0,35.0,40.0,40.0,40.0,37.0,60.0,40.0,37.5,40.0,40.0,45.0,40.0,37.0,37.5,42.0,40.0,50.0,38.0,40.0,38.0,44.0,40.0,40.0,50.0,35.0,null,35.0,38.0,40.0,30.0,30.0,40.0,40.0,40.0,40.0,40.0,40.0,40.0,40.0,40.0,43.0,37.0,30.0,38.0,40.0,55.0,40.0,10.0,45.0,10.0,40.0,40.0,40.0,40.0,40.0,42.0,40.0,42.0,40.0,40.0,45.5,45.0,40.0,40.0,40.0,40.0,40.0,45.0,35.0,45.0,40.0,40.0,32.0,40.0,44.0,47.0,40.0,40.0,50.0,38.0,30.0,40.0,40.0,40.0,50.0,40.0,40.0,40.0,40.0,45.0,42.0,40.0,40.0,40.0,38.0,40.0,40.0,null,50.0,50.0,50.0,50.0,40.0,42.0,54.0,45.0,40.0,40.0,40.0,30.0,30.0,40.0,385.0,40.0,40.0,36.0,40.0,40.0,37.0,40.0,50.0,40.0,null,37.5,40.0,50.0,40.0,8.0,40.0,30.0,8.0,null,36.0,3.0,40.0,40.0,30.0,45.0,55.0,40.0,50.0,40.0,40.0,40.0,50.0,40.0,40.0,37.0,50.0,40.0,40.0,40.0,40.0,30.0,45.0,40.0,45.0,40.0,60.0,40.0,40.0,40.0,40.0,74.0,40.0,60.0,40.0,40.0,40.0,40.0,45.0,42.0,40.0,30.0,40.0,50.0,50.0,38.0,40.0,40.0,50.0,40.0,50.0,44.0,40.0,36.0,40.0,40.0,40.0,45.0,37.5,40.0,8.0,40.0,40.0,40.0,45.0,40.0,60.0,48.0,40.0,40.0,45.0,48.0,60.0,45.0,50.0,40.0,40.0,8.0,40.0,40.0,44.0,37.5,45.0,40.0,40.0,40.0,45.0,45.0,40.0,42.0,40.0,40.0,40.0,40.0,40.0,40.0,40.0,40.0,40.0,60.0,40.0,45.0,40.0,40.0,40.0,60.0,40.0,8.0,40.0,45.0,40.0,42.0,40.0,35.0,40.0,50.0,35.0,40.0,42.0,18.0,40.0,40.0,40.0,38.0,35.0,50.0,60.0,40.0,40.0,45.0,40.0,40.0,50.0,45.0,40.0,null,43.0,40.0,37.0,45.0,65.0,40.0,40.0,40.0,50.0,40.0,40.0,45.0,40.0,40.0,9.0,45.0,40.0,40.0,40.0,40.0,40.0,40.0,40.0,40.0,40.0,40.0,50.0,45.0,40.0,40.0,55.0,39.0,48.0,40.0,40.0,44.0,35.0,45.0,40.0,40.0,40.0,45.0,40.0,32.0,21.0,40.0,40.0,38.0,45.0,40.0,41.0,42.0,36.5,40.0,43.0,40.0,25.0,40.0,45.0,40.0,40.0,45.0,9.0,40.0,55.0,47.5,40.0,40.0,37.5,35.0,40.0,70.0,375.0,40.0,40.0,40.0,40.0,50.0,22.0,40.0,45.0,40.0,40.0,55.0,40.0,32.0,30.0,40.0,40.0,40.0,40.0,40.0,40.0,37.5,50.0,40.0,40.0,50.0,50.0,35.0,40.0,37.0,50.0,40.0,40.0,30.0,32.0,39.0,40.0,40.0,48.0,40.0,60.0,38.0,40.0,40.0,45.0,40.0,45.0,40.0,40.0,37.0,35.0,40.0,50.0,50.0,36.0,40.0,33.0,40.0,30.0,40.0,35.0,40.0,40.0,45.0,40.0,60.0,40.0,9.0,40.0,46.0,8.0,40.0,45.0,40.0,35.0,40.0,40.0,50.0,40.0,38.0,38.0,45.0,45.0,45.0,42.0,38.0,50.0,36.0,38.0,50.0,60.0,40.0,45.0,35.0,9.0,50.0,40.0,40.0,37.5,40.0,45.0,35.0,45.0,40.0,40.0,30.0,42.0,36.0,44.0,40.0,37.0,40.0,45.0,32.0,40.0,40.0,38.0,36.0,40.0,48.0,60.0,40.0,40.0,40.0,40.0,43.0,35.0,40.0,37.0,40.0,50.0,50.0,40.0,45.0,40.0,40.0,40.0,40.0,30.0,40.0,38.0,43.0,37.5,40.0,40.0,40.0,40.0,40.0,40.0,40.0,44.0,25.0,40.0,45.0,40.0,38.0,40.0,40.0,28.0,40.0,40.0,50.0,55.0,40.0,40.0,40.0,50.0,40.0,56.0,45.0,8.0,56.0,40.0,45.0,45.0,55.0,40.0,42.0,37.5,41.0,36.0,40.0,40.0,40.0,40.0,40.0,40.0,40.0,40.0,48.0,40.0,45.0,37.0,45.0,42.0,37.0,37.0,44.0,45.0,37.5,40.0,30.0,40.0,45.0,40.0,40.0,45.0,40.0,30.0,35.0,38.0,40.0,40.0,36.0,40.0,38.0,45.0,40.0,37.5,80.0,38.0,40.0,40.0,40.0,null,40.0,40.0,45.0,28.0,30.0,40.0,40.0,40.0,24.0,375.0,45.0,45.0,40.0,45.0,35.0,40.0,40.0,40.0,40.0,40.0,40.0,40.0,40.0,60.0,36.0,40.0,38.0,40.0,45.0,50.0,41.0,38.0,50.0,375.0,40.0,45.0,40.0,30.0,37.5,35.0,50.0,37.5,42.0,50.0,37.0,50.0,40.0,40.0,40.0,40.0,44.0,40.0,50.0,45.0,40.0,40.0,40.0,40.0,40.0,40.0,40.0,40.0,40.0,40.0,40.0,40.0,45.0,40.0,40.0,40.0,40.0,40.0,40.0,50.0,40.0,40.0,30.0,55.0,40.0,40.0,40.0,54.0,40.0,42.5,45.0,40.0,40.0,37.5,47.0,40.0,8.0,40.0,38.0,40.0,40.0,9.0,40.0,40.0,40.0,40.0,40.0,48.0,50.0,45.0,50.0,56.0,45.0,40.0,50.0,130.0,null,40.0,50.0,45.0,38.0,40.0,40.0,40.0,8.0,50.0,40.0,40.0,40.0,8.0,40.0,40.0,8.0,40.0,43.0,40.0,50.0,45.0,40.0,40.0,40.0,40.0,43.0,38.0,40.0,42.0,45.0,40.0,40.0,40.0,37.5,40.0,20.0,45.0,45.0,40.0,45.0,40.0,11.0,null,37.5,38.0,42.0,45.0,40.0,30.0,42.0,42.0,50.0,40.0,35.0,42.0,40.0,40.0,38.0,45.0,40.0,45.0,40.0,42.0,40.0,40.0,40.0,40.0,40.0,40.0,40.0,40.0,40.0,37.5,50.0,30.0,40.0,40.0,40.0,40.0,40.0,45.0,null,40.0,37.0,40.0,40.0,40.0,40.0,40.0,40.0,55.0,40.0,40.0,90.0,7.0,50.0,45.0,150.0,50.0,45.0,40.0,51.0,37.0,40.0,35.0,40.0,40.0,35.0,40.0,45.0,40.0,40.0,40.0,45.0,40.0,40.0,35.0,40.0,45.0,40.0,39.0,38.5,40.0,50.0,45.0,38.0,40.0,160.0,45.0,40.0,50.0,45.0,40.0,37.0,38.0,45.0,45.0,45.0,30.0,35.0,40.0,40.0,40.0,40.0,38.0,40.0,30.0,40.0,45.0,40.0,50.0,40.0,40.0,40.0,55.0,60.0,null,41.0,40.0,40.0,40.0,40.0,39.0,55.0,40.0,40.0,35.0,40.0,20.0,40.0,35.0,40.0,30.0,60.0,10.0,40.0,35.0,50.0,40.0,40.0,44.0,43.0,35.0,425.0,45.0,40.0,27.0,40.0,20.0,60.0,40.0,40.0,37.5,40.0,35.0,35.0,28.0,40.0,35.0,40.0,40.0,40.0,60.0,45.0,40.0,40.0,40.0,50.0,40.0,38.0,40.0,42.0,45.0,40.0,40.0,55.0,32.0,35.0,48.0,38.0,40.0,35.0,40.0,35.0,60.0,40.0,40.0,50.0,40.0,50.0,15.0,40.0,45.0,38.0,45.0,40.0,40.0,40.0,40.0,40.0,40.0,8.0,40.0,40.0,40.0,50.0,50.0,60.0,40.0,25.0,40.0,40.0,40.0,35.0,40.0,50.0,50.0,40.0,50.0,60.0,null,40.0,40.0,40.0,50.0,38.0,40.0,35.0,40.0,35.0,9.0,37.5,45.0,40.0,40.0,45.0,40.0,44.0,38.0,40.0,20.0,40.0,40.0,45.0,45.0,40.0,36.5,40.0,8.0,50.0,40.0,40.0,40.0,8.0,37.5,45.0,44.0,40.0,40.0,40.0,35.0,40.0,40.0,37.0,45.0,45.0,42.0,50.0,44.0,37.5,37.0,35.0,40.0,40.0,40.0,7.0,35.0,35.0,40.0,40.0,40.0,35.0,40.0,70.0,40.0,35.0,40.0,44.0,40.0,40.0,55.0,40.0,8.0,42.0,40.0,35.0,40.0,35.0,42.0,40.0,40.0,40.0,30.0,50.0,36.0,38.0,32.0,37.0,42.0,40.0,37.5,40.0,40.0,45.0,50.0,45.0,8.0,40.0,50.0,40.0,9.0,30.0,40.0,40.0,40.0,6.0,40.0,50.0,40.0,8.0,null,44.0,40.0,40.0,40.0,20.0,40.0,50.0,30.0,45.0,45.0,37.5,37.0,45.0,40.0,40.0,40.0,40.0,40.0,40.0,43.0,40.0,8.0,45.0,20.0,45.0,38.0,45.0,40.0,40.0,55.0,40.0,35.0,40.0,50.0,40.0,40.0,50.0,40.0,44.0,40.0,40.0,48.0,40.0,40.0,40.0,40.0,42.0,null,40.0,44.0,35.0,40.0,44.0,null,40.0,37.5,40.0,40.0,40.0,45.0,45.0,10.0,42.5,80.0,40.0,40.0,35.0,40.0,35.0,40.0,60.0,40.0,45.0,40.0,11.0,39.0,40.0,45.0,50.0,50.0,46.0,40.0,50.0,45.0,36.0,45.0,60.0,50.0,48.0,40.0,35.0,40.0,35.0,37.5,40.0,80.0,33.0,45.0,42.0,40.0,37.5,40.0,40.0,40.0,37.5,32.0,42.0,35.0,50.0,40.0,40.0,50.0,40.0,50.0,40.0,40.0,40.0,43.0,45.0,40.0,42.0,20.0,36.0,40.0,40.0,40.0,45.0,40.0,37.5,40.0,40.0,30.0,40.0,40.0,60.0,40.0,40.0,40.0,50.0,null,15.0,50.0,40.0,40.0,40.0,40.0,40.0,40.0,40.0,40.0,40.0,40.0,40.0,45.0,40.0,40.0,40.0,40.0,30.0,40.0,40.0,40.0,6.0,40.0,45.0,48.0,42.0,42.0,36.0,40.0,40.0,40.0,35.0,8.0,40.0,40.0,40.0,35.0,45.0,50.0,40.0,40.0,40.0,40.0,48.0,40.0,40.0,40.0,40.0,50.0,40.0,40.0,72.0,45.0,40.0,50.0,40.0,50.0,44.0,40.0,40.0,38.0,40.0,40.0,45.0,35.0,50.0,10.0,45.0,50.0,40.0,20.0,23.0,40.0,48.0,40.0,15.0,84.0,40.0,44.0,38.0,39.0,36.0,45.0,30.0,40.0,40.0,40.0,45.0,40.0,42.0,57.0,40.0,40.0,40.0,40.0,38.0,38.0,40.0,40.0,40.0,40.0,40.0,40.0,20.0,40.0,47.0,40.0,50.0,40.0,40.0,42.0,37.0,50.0,30.0,47.0,45.0,60.0,40.0,37.5,40.0,40.0,40.0,40.0,45.0,40.0,43.0,40.0,30.0,50.0,40.0,45.0,8.0,40.0,38.0,45.0,50.0,40.0,40.0,38.0,40.0,39.0,40.0,null,44.0,45.0,40.0,38.0,40.0,40.0,45.0,38.0,40.0,40.0,40.0,40.0,37.0,60.0,60.0,40.0,50.0,40.0,35.0,40.0,45.0,40.0,30.0,40.0,40.0,40.0,40.0,18.0,40.0,40.0,37.0,40.0,40.0,40.0,60.0,45.0,45.0,40.0,40.0,40.0,35.0,50.0,40.0,35.0,45.0,40.0,40.0,37.5,55.0,40.0,40.0,40.0,40.0,40.0,37.5,40.0,40.0,38.0,40.0,45.0,42.0,45.0,40.0,45.0,50.0,44.0,20.0,40.0,45.0,40.0,40.0,40.0,40.0,40.0,40.0,37.5,40.0,50.0,37.5,42.0,35.0,45.0,42.0,40.0,30.0,50.0,24.0,40.0,60.0,8.0,50.0,40.0,40.0,40.0,40.0,40.0,40.0,40.0,40.0,40.0,42.0,39.0,35.0,41.0,35.0,40.0,44.0,45.0,36.0,40.0,50.0,40.0,50.0,40.0,40.0,40.0,40.0,40.0,40.0,60.0,45.0,40.0,38.0,40.0,20.0,40.0,40.0,50.0,43.0,40.0,50.0,50.0,40.0,30.0,60.0,40.0,40.0,40.0,37.5,375.0,37.5,50.0,30.0,40.0,35.0,40.0,40.0,45.0,40.0,45.0,40.0,40.0,54.0,40.0,38.0,40.0,42.0,37.5,40.0,50.0,80.0,45.0,8.5,50.0,35.0,50.0,37.5,40.0,35.0,45.0,36.0,50.0,40.0,40.0,44.0,50.0,42.0,40.0,50.0,39.0,40.0,40.0,50.0,48.0,45.0,45.0,50.0,40.0,375.0,40.0,60.0,34.0,40.0,50.0,40.0,35.0,50.0,8.0,42.0,40.0,30.0,40.0,40.0,40.0,52.0,39.0,50.0,40.0,40.0,40.0,50.0,40.0,40.0,37.0,45.0,40.0,40.0,42.0,40.0,42.0,40.0,35.0,40.0,40.0,42.0,40.0,44.0,40.0,7.0,30.0,30.0,40.0,45.0,48.0,40.0,45.0,40.0,40.0,50.0,40.0,40.0,40.0,40.0,40.0,46.0,14.0,35.0,40.0,40.0,42.0,40.0,40.0,40.0,50.0,40.0,45.0,40.0,40.0,50.0,55.0,40.0,40.0,45.0,40.0,40.0,45.0,45.0,35.0,60.0,38.0,45.0,40.0,40.0,39.0,40.0,38.0,42.0,35.0,40.0,35.0,65.0,48.0,40.0,45.0,40.0,40.0,50.0,40.0,35.0,40.0,20.0,35.0,35.0,40.0,40.0,null,40.0,40.0,40.0,40.0,45.0,41.0,45.0,40.0,40.0,35.0,40.0,42.0,40.0,37.0,40.0,25.0,47.0,40.0,50.0,40.0,40.0,40.0,50.0,40.0,44.0,50.0,40.0,40.0,44.0,40.0,42.0,40.0,32.0,42.0,65.0,42.0,84.0,40.0,40.0,60.0,63.0,40.0,50.0,42.0,8.0,15.0,40.0,42.0,null,38.0,39.0,40.0,38.0,40.0,45.0,8.0,35.0,42.0,40.0,40.0,60.0,30.0,40.0,65.0,10.0,40.0,40.0,50.0,35.0,40.0,40.0,40.0,50.0,40.0,40.0,45.0,40.0,29.0,40.0,40.0,8.0,39.0,40.0,40.0,45.0,40.0,38.0,40.0,37.0,40.0,50.0,40.0,40.0,40.0,40.0,30.0,40.0,40.0,40.0,40.0,6.0,35.0,45.0,40.0,8.0,6.0,45.0,40.0,40.0,40.0,40.0,39.0,56.0,40.0,50.0,40.0,55.0,40.0,168.0,40.0,40.0,42.0,45.0,40.0,40.0,8.0,50.0,40.0,50.0,40.0,40.0,40.0,37.0,40.0,60.0,40.0,24.0,40.0,40.0,40.0,50.0,40.0,37.5,35.0,40.0,20.0,40.0,40.0,38.0,45.0,45.0,16.0,40.0,40.0,40.0,40.0,40.0,20.0,55.0,45.0,40.0,40.0,50.0,40.0,46.0,40.0,40.0,45.0,30.0,40.0,45.0,37.0,50.0,40.0,35.0,40.0,40.0,44.0,43.0,40.0,43.0,40.0,30.0,40.0,20.0,40.0,38.0,30.0,20.0,6.0,38.0,40.0,40.0,40.0,37.0,42.5,40.0,38.0,38.0,40.0,40.0,46.0,50.0,28.0,30.0,37.5,50.0,40.0,45.0,36.0,40.0,70.0,168.0,40.0,44.0,45.0,50.0,45.0,40.0,40.0,50.0,40.0,25.0,40.0,40.0,55.0,50.0,70.0,45.0,35.0,16.0,37.5,7.5,40.0,40.0,30.0,60.0,44.0,40.0,40.0,45.0,40.0,40.0,45.0,50.0,30.0,42.0,50.0,45.0,30.0,65.0,42.0,39.0,45.0,40.0,45.0,50.0,40.0,42.0,50.0,40.0,40.0,37.0,40.0,37.5,60.0,50.0,38.0,40.0,37.0,160.0,40.0,40.0,50.0,50.0,45.0,42.0,40.0,40.0,40.0,40.0,40.0,50.0,40.0,40.0,40.0,40.0,40.0,40.0,40.0,45.0,45.0,40.0,35.0,50.0,45.0,40.0,40.0,45.0,45.0,40.0,50.0,40.0,50.0,40.0,40.0,40.0,45.0,55.0,65.0,32.0,40.0,40.0,40.0,9.0,40.0,40.0,35.0,37.5,55.0,45.0,37.0,8.0,40.0,40.0,38.0,40.0,40.0,44.0,40.0,40.0,35.0,40.0,40.0,42.0,30.0,35.0,40.0,40.0,40.0,40.0,40.0,32.0,40.0,40.0,45.0,35.0,40.0,55.0,40.0,40.0,37.5,40.0,40.0,45.0,45.0,37.0,40.0,42.5,22.0,40.0,40.0,37.5,40.0,40.0,40.0,20.0,40.0,45.0,38.0,45.0,40.0,45.0,40.0,40.0,40.0,40.0,38.0,40.0,40.0,45.0,40.0,40.0,20.0,45.0,42.0,40.0,20.0,40.0,40.0,63.0,42.0,42.0,42.0,37.0,40.0,45.0,40.0,40.0,40.0,40.0,54.0,38.0,42.5,42.0,45.0,40.0,40.0,40.0,40.0,45.0,40.0,40.0,40.0,42.0,40.0,40.0,40.0,40.0,40.0,42.0,36.5,45.0,70.0,40.0,41.0,60.0,24.0,41.0,40.0,40.0,10.0,40.0,40.0,60.0,35.0,40.0,45.0,45.0,37.5,40.0,40.0,45.0,20.0,30.0,40.0,10.0,40.0,20.0,40.0,40.0,20.0,25.0,44.0,40.0,40.0,50.0,12.0,40.0,10.0,8.0,40.0,40.0,50.0,40.0,40.0,45.0,40.0,40.0,43.0,40.0,32.0,40.0,40.0,40.0,40.0,40.0,50.0,37.5,44.0,60.0,40.0,30.0,40.0,40.0,35.0,40.0,40.0,40.0,40.0,40.0,40.0,28.0,50.0,40.0,40.0,40.0,45.0,40.0,36.75,40.0,40.0,40.0,38.0,40.0,40.0,null,37.5,42.0,40.0,40.0,8.0,35.0,43.0,40.0,40.0,38.0,9.6,40.0,50.0,35.0,40.0,40.0,40.0,45.0,20.0,40.0,38.0,50.0,40.0,41.0,40.0,44.0,20.0,45.0,40.0,40.0,40.0,null,40.0,40.0,30.0,40.0,40.0,40.0,45.0,36.0,40.0,35.0,60.0,40.0,35.0,45.0,40.0,40.0,40.0,40.0,40.0,40.0,40.0,40.0,45.0,50.0,8.0,40.0,40.0,45.0,40.0,38.0,37.5,40.0,40.0,40.0,54.0,37.0,40.0,37.5,40.0,40.0,42.0,50.0,40.0,40.0,35.0,40.0,50.0,40.0,45.0,37.5,40.0,20.0,40.0,45.0,40.0,40.0,45.0,50.0,35.0,40.0,40.0,21.0,43.0,40.0,30.0,40.0,40.0,10.0,30.0,35.0,45.0,35.0,40.0,42.0,55.0,40.0,60.0,45.0,40.0,45.0,40.0,40.0,40.0,48.0,40.0,32.0,8.2,45.0,9.0,45.0,37.0,40.0,35.0,40.0,40.0,40.0,50.0,40.0,375.0,35.0,45.0,null,40.0,45.0,40.0,40.0,20.0,40.0,45.0,42.5,40.0,50.0,40.0,45.0,35.0,20.0,44.0,35.0,42.0,35.0,50.0,37.0,40.0,7.0,40.0,45.0,40.0,37.0,40.0,35.0,40.0,40.0,40.0,48.0,44.0,40.0,30.0,40.0,35.0,42.5,45.0,45.0,45.0,40.0,40.0,45.0,35.0,40.0,10.0,40.0,43.0,40.0,40.0,45.0,37.5,35.0,40.0,38.0,40.0,40.0,12.0,40.0,45.0,40.0,15.0,55.0,80.0,40.0,40.0,35.0,45.0,40.0,50.0,40.0,40.0,50.0,40.0,35.0,40.0,30.0,40.0,45.0,40.0,37.5,45.0,50.0,40.0,40.0,40.0,37.5,35.0,36.25,45.0,45.0,20.0,45.0,40.0,40.0,38.0,40.0,45.0,40.0,40.0,null,45.0,30.0,32.0,40.0,40.0,8.0,42.0,34.0,30.0,37.5,48.0,40.0,54.0,40.0,42.0,40.0,40.0,40.0,50.0,40.0,40.0,45.0,42.0,45.0,36.0,40.0,45.0,40.0,45.0,30.0,45.0,35.0,37.5,40.0,40.0,45.0,44.0,55.0,40.0,36.0,45.0,55.0,45.0,37.5,40.0,40.0,35.0,40.0,45.0,40.0,40.0,40.0,40.0,40.0,35.0,40.0,40.0,40.0,40.0,30.0,40.0,40.0,40.0,160.0,40.0,40.0,9.0,45.0,40.0,40.0,36.0,35.0,38.0,45.0,40.0,41.0,30.0,40.0,50.0,null,40.0,43.0,45.0,40.0,37.5,40.0,35.0,50.0,40.0,40.0,40.0,38.0,37.5,50.0,35.0,40.0,45.0,45.0,43.0,40.0,30.0,42.0,40.0,50.0,40.0,35.0,40.0,160.0,40.0,40.0,24.0,40.0,40.0,60.0,40.0,40.0,40.0,40.0,40.0,32.0,45.0,40.0,40.0,40.0,20.0,40.0,35.0,80.0,39.0,40.0,35.0,45.0,40.0,168.0,40.0,45.0,40.0,40.0,37.5,50.0,40.0,40.0,40.0,44.0,40.0,38.0,40.0,40.0,40.0,35.0,35.0,45.0,37.0,40.0,42.0,41.0,40.0,40.0,45.0,37.0,40.0,50.0,40.0,45.0,40.0,40.0,40.0,37.5,40.0,45.0,40.0,35.0,40.0,50.0,50.0,40.0,40.0,50.0,45.0,40.0,60.0,45.0,55.0,42.0,40.0,40.0,40.0,40.0,40.0,38.0,8.0,40.0,40.0,40.0,48.0,50.0,40.0,55.0,40.0,35.0,40.0,32.0,35.0,42.0,40.0,40.0,40.0,40.0,20.0,20.0,40.0,40.0,35.0,40.0,40.0,42.0,40.0,45.0,48.0,40.0,40.0,55.0,40.0,40.0,40.0,40.0,36.0,38.0,40.0,40.0,50.0,40.0,50.0,40.0,39.0,40.0,40.0,40.0,35.0,38.0,45.0,40.0,40.0,35.0,40.0,45.0,40.0,40.0,40.0,20.0,42.0,40.0,41.0,40.0,45.0,40.0,40.0,40.0,45.0,40.0,40.0,40.0,43.0,18.0,37.5,165.0,45.0,42.0,39.0,50.0,42.5,40.0,37.5,40.0,39.0,9.0,40.0,40.0,40.0,40.0,40.0,40.0,40.0,40.0,50.0,40.0,42.0,8.0,50.0,35.0,40.0,7.0,30.0,40.0,39.0,37.5,55.0,35.0,43.0,40.0,40.0,40.0,40.0,25.0,50.0,56.0,40.0,40.0,38.0,40.0,45.0,30.0,45.0,42.0,40.0,40.0,35.0,44.0,40.0,40.0,45.0,55.0,44.0,40.0,50.0,38.0,40.0,40.0,37.5,40.0,40.0,50.0,40.0,40.0,40.0,35.0,33.5,40.0,38.0,40.0,35.0,40.0,40.0,44.0,60.0,42.0,40.0,40.0,40.0,40.0,40.0,40.0,40.0,40.0,30.0,37.5,40.0,45.0,40.0,40.0,40.0,39.0,40.0,40.0,65.0,8.0,37.5,70.0,37.5,45.0,40.0,70.0,40.0,45.0,35.0,40.0,35.0,40.0,40.0,40.0,35.0,40.0,42.0,40.0,40.0,40.0,40.0,37.5,45.0,40.0,40.0,35.0,40.0,37.5,50.0,40.0,40.0,40.0,30.0,65.0,40.0,50.0,45.0,30.0,30.0,72.5,45.0,40.0,40.0,385.0,35.0,45.0,48.0,38.0,37.5,50.0,40.0,null,50.0,42.0,40.0,40.0,40.0,50.0,40.0,40.0,48.0,45.0,40.0,45.0,38.0,60.0,40.0,37.5,40.0,40.0,40.0,37.0,35.0,168.0,40.0,45.0,40.0,40.0,39.0,40.0,50.0,25.0,35.0,168.0,40.0,40.0,160.0,40.0,40.0,35.0,80.0,50.0,40.0,40.0,40.0,40.0,40.0,40.0,40.0,40.0,40.0,40.0,40.0,40.0,40.0,40.0,40.0,35.0,38.0,40.0,35.0,40.0,40.0,45.0,35.0,50.0,40.0,44.0,40.0,40.0,40.0,40.0,54.0,40.0,40.0,40.0,40.0,46.0,36.0,41.0,44.0,40.0,40.0,50.0,45.0,37.5,40.0,16.0,37.5,40.0,44.0,50.0,35.0,40.0,40.0,40.0,40.0,41.0,35.0,40.0,40.0,40.0,35.0,45.0,40.0,54.0,43.0,40.0,40.0,40.0,50.0,36.0,44.0,40.0,30.0,9.0,40.0,54.0,40.0,45.0,39.0,40.0,40.0,40.0,45.0,40.0,null,30.0,50.0,40.0,40.0,30.0,40.0,61.0,37.5,40.0,40.0,32.0,40.0,40.0,20.0,40.0,40.0,50.0,40.0,45.0,40.0,8.0,40.0,40.0,36.0,40.0,40.0,44.0,30.0,42.0,37.0,20.0,40.0,40.0,40.0,40.0,40.0,40.0,47.0,40.0,100.0,60.0,null,40.0,60.0,40.0,40.0,40.0,40.0,40.0,40.0,55.0,50.0,40.0,50.0,50.0,35.0,40.0,40.0,40.0,40.0,45.0,40.0,40.0,40.0,40.0,48.0,38.0,40.0,50.0,40.0,40.0,40.0,40.0,45.0,42.0,36.0,37.0,40.0,40.0,60.0,50.0,56.0,40.0,40.0,40.0,42.5,80.0],\"xaxis\":\"x\",\"y\":[null,12.0,5.0,null,5.0,3.0,1.0,null,8.0,null,null,2.0,2.0,null,3.0,3.0,8.0,10.0,15.0,null,1.0,5.0,2.0,null,8.0,null,10.0,null,4.0,null,null,5.0,1.0,2.0,5.0,3.0,5.0,20.0,10.0,10.0,3.0,2.0,2.0,5.0,1.0,5.0,null,4.0,null,20.0,null,2.5,1.0,10.0,2.0,8.0,10.0,2.0,5.0,1.0,4.0,null,2.0,2.5,2.0,null,4.0,5.0,2.0,20.0,2.0,null,5.0,4.0,10.0,2.0,8.0,6.0,16.0,5.0,3.0,2.0,5.0,4.0,2.0,1.0,null,6.0,4.0,2.0,null,5.0,null,7.0,null,null,5.0,1.0,null,4.0,null,6.0,null,null,6.0,4.0,5.0,5.0,3.0,12.0,2.0,null,4.0,10.0,10.0,2.0,7.0,null,4.0,5.0,null,1.0,16.0,8.0,5.0,6.0,4.0,4.0,8.0,5.0,1.0,5.0,4.0,12.0,2.0,5.0,15.0,1.0,10.0,0.05,2.0,4.0,5.0,5.0,4.0,null,2.0,null,null,5.0,null,3.0,null,10.0,2.0,5.0,8.0,3.0,3.0,3.0,2.0,12.0,4.0,10.0,3.0,5.0,5.0,2.0,null,null,null,null,2.0,null,null,3.0,4.0,7.0,4.0,15.0,10.0,1.0,1.0,1.0,1.0,3.0,5.0,0.5,12.0,2.0,2.0,null,6.0,null,2.0,2.0,3.0,1.0,3.0,1.0,5.0,1.0,null,null,3.0,10.0,2.0,5.0,3.0,1.0,5.0,null,5.0,4.0,9.0,10.0,8.0,2.0,8.0,8.0,1.0,null,5.0,4.0,12.0,3.0,0.0,5.0,2.0,1.0,2.0,2.0,null,3.0,1.0,2.0,0.5,10.0,null,7.0,1.0,null,5.0,null,2.0,null,10.0,10.0,1.0,1.0,2.0,16.0,3.0,2.0,null,6.0,1.0,1.0,null,5.0,2.0,2.0,2.0,5.0,null,4.0,8.0,4.0,2.0,6.0,2.0,4.0,1.0,4.0,6.0,4.0,6.0,5.0,5.0,8.0,4.0,8.0,2.0,5.0,5.0,5.0,4.0,null,1.0,6.0,null,4.0,3.0,null,null,8.0,3.0,10.0,null,null,2.0,5.0,4.0,3.0,5.0,4.0,null,1.0,null,5.0,8.0,2.0,null,null,5.0,3.0,null,6.0,1.0,2.0,null,3.0,8.0,8.0,4.0,2.0,2.0,4.0,15.0,null,5.0,1.0,5.0,2.0,10.0,20.0,1.0,8.0,4.0,5.0,10.0,10.0,2.0,6.0,5.0,8.0,2.0,10.0,4.0,5.0,5.0,1.0,20.0,4.0,null,null,3.0,3.0,6.0,2.0,null,4.0,1.0,1.0,null,2.0,1.0,7.0,null,3.0,2.0,5.0,20.0,3.0,null,5.0,5.0,2.0,5.0,null,6.0,2.0,5.0,5.0,5.0,2.0,null,12.0,8.0,6.0,3.0,2.0,1.0,6.0,5.0,10.0,2.0,3.0,2.0,2.0,1.0,8.0,2.0,5.0,null,5.0,5.0,6.0,5.0,3.0,null,5.0,3.0,20.0,4.0,5.0,5.0,8.0,2.0,3.0,5.0,null,2.0,3.0,10.0,1.0,2.0,5.0,3.0,null,null,1.0,2.0,null,2.0,2.0,null,5.0,1.0,1.0,4.0,5.0,3.0,null,4.0,2.0,null,2.0,1.0,2.0,3.0,2.0,0.25,3.0,3.0,15.0,10.0,2.0,null,2.0,3.0,6.0,3.0,null,2.0,1.0,5.0,3.0,4.0,3.0,2.0,10.0,null,8.0,10.0,1.0,2.0,1.0,10.0,null,6.0,2.0,3.0,null,null,1.0,8.0,3.0,null,null,10.0,3.0,1.0,null,2.0,4.0,1.0,8.0,4.0,null,30.0,null,20.0,12.0,null,4.0,6.0,1.0,3.0,null,null,6.0,5.0,2.0,10.0,null,8.0,4.0,5.0,5.0,10.0,2.0,null,null,5.0,2.0,4.0,2.0,1.5,null,3.0,null,2.0,10.0,4.0,null,2.0,5.0,8.0,5.0,5.0,1.0,8.0,2.0,2.0,4.0,3.0,8.0,15.0,10.0,null,5.0,null,2.0,6.0,0.5,2.0,null,null,null,5.0,null,null,null,5.0,3.0,3.0,2.0,8.0,10.0,8.0,4.0,5.0,null,6.0,4.0,3.0,6.0,4.0,4.0,null,null,5.0,2.0,6.0,25.0,null,10.0,null,2.0,null,1.0,5.0,null,7.0,null,6.0,null,2.0,null,null,5.0,2.0,4.0,1.0,2.0,null,2.0,2.0,2.0,10.0,null,null,4.0,5.0,null,8.0,10.0,8.0,4.0,null,null,5.0,5.0,null,12.0,5.0,5.0,2.0,null,null,null,1.0,null,22.0,null,null,40.0,10.0,3.0,1.0,3.0,10.0,6.0,4.0,3.0,null,5.0,5.0,null,5.0,1.0,4.0,6.0,3.0,null,null,4.0,5.0,18.0,2.0,null,null,2.0,4.0,null,8.0,5.0,1.0,null,1.0,4.0,null,3.0,2.0,4.0,2.0,5.0,10.0,null,4.0,5.0,1.0,4.0,1.0,4.0,5.0,20.0,1.0,2.0,3.0,3.0,2.0,4.0,5.0,4.0,2.0,4.0,null,null,5.0,4.0,2.0,8.0,6.0,4.0,12.0,5.0,null,2.0,3.0,null,4.0,1.0,null,1.0,3.0,4.0,1.0,10.0,3.0,5.0,25.0,1.0,2.0,3.0,3.0,8.0,4.0,10.0,8.0,2.0,1.0,null,null,6.0,null,null,2.0,3.0,5.0,2.0,2.0,5.0,3.0,8.0,5.0,5.0,1.0,2.5,5.0,2.0,10.0,null,4.0,5.0,null,8.0,4.0,2.0,1.0,null,1.0,6.0,null,2.0,3.0,4.0,3.0,15.0,1.0,null,5.0,null,8.0,5.0,null,2.0,2.0,2.0,15.0,8.0,5.0,5.0,2.0,2.0,40.0,1.0,4.0,10.0,3.0,2.0,15.0,2.0,8.0,8.0,4.0,2.0,2.0,null,10.0,null,3.0,2.0,10.0,5.0,5.0,4.0,3.0,6.0,5.0,5.0,2.0,3.0,2.0,2.0,2.0,3.0,2.0,null,null,5.0,5.0,4.0,5.0,6.0,2.0,1.0,9.0,5.0,4.0,null,null,null,3.0,4.0,5.0,6.0,3.0,1.0,3.0,5.0,4.0,5.0,null,8.0,15.0,4.0,10.0,2.0,1.0,2.0,1.0,1.0,null,null,13.0,2.0,null,3.0,4.0,2.0,1.0,2.0,2.0,5.0,null,null,3.0,2.0,10.0,0.5,null,12.0,2.0,15.0,null,2.0,3.0,4.0,3.0,5.0,2.0,1.0,16.0,null,null,5.0,4.0,10.0,4.0,4.0,null,2.0,5.0,7.0,null,6.0,2.0,8.0,2.0,1.0,1.0,3.0,null,null,null,6.0,3.0,4.0,4.0,8.0,5.0,3.0,4.0,2.0,0.25,9.0,15.0,10.0,null,6.0,null,8.0,null,6.0,4.0,8.0,2.0,null,1.0,50.0,4.0,3.0,10.0,10.0,2.0,4.0,15.0,null,2.0,8.0,null,3.0,null,6.0,1.0,null,null,4.0,2.0,5.0,3.0,4.0,2.0,2.0,5.0,2.0,8.0,2.0,4.0,null,2.0,10.0,null,5.0,null,null,3.0,10.0,null,15.0,5.0,2.0,8.0,null,2.0,4.0,5.0,2.0,5.0,4.0,5.0,8.0,3.0,16.0,null,2.0,3.0,1.0,1.0,1.0,null,2.0,3.0,5.0,null,1.0,null,3.0,1.0,3.0,1.0,null,7.0,5.0,5.0,3.0,2.0,4.0,5.0,null,4.0,5.0,6.0,1.0,4.0,null,1.0,1.0,5.0,1.0,1.0,null,null,null,null,2.0,null,2.0,10.0,2.0,3.0,4.0,2.0,3.0,10.0,2.0,null,2.0,1.0,null,null,null,5.0,5.0,8.0,3.0,1.0,5.0,null,8.0,null,null,5.0,10.0,null,2.0,1.0,null,null,null,1.0,null,3.0,2.0,null,7.0,1.0,null,4.0,1.0,null,5.0,null,10.0,5.0,8.0,5.0,4.0,2.0,null,1.0,1.0,5.0,null,2.0,null,null,10.0,1.0,2.0,2.0,0.5,2.0,2.0,2.0,8.0,12.0,5.0,1.0,5.0,6.0,0.5,10.0,6.0,5.0,5.0,3.0,6.0,1.0,2.0,null,1.0,0.0,2.0,2.0,null,4.0,1.0,5.0,0.5,null,1.0,2.0,2.0,4.0,null,1.0,null,10.0,5.0,4.0,0.0,2.0,null,6.0,3.0,2.0,null,4.0,4.0,null,2.0,6.0,null,10.0,5.0,5.0,1.0,2.0,null,4.0,1.0,5.0,null,5.0,null,5.0,5.0,null,2.0,5.0,null,null,1.0,null,null,8.0,1.0,10.0,2.0,2.0,3.0,null,4.0,2.0,2.0,null,1.0,8.0,10.0,2.0,10.0,5.0,null,2.0,5.0,null,20.0,1.0,3.0,5.0,3.0,10.0,5.0,5.0,null,1.0,2.0,1.0,5.0,4.0,5.0,15.0,1.0,2.0,2.0,5.0,3.0,5.0,8.0,null,null,8.0,10.0,null,null,null,2.0,3.0,2.0,1.0,0.5,3.0,6.0,3.0,0.25,7.0,3.0,null,null,3.0,10.0,null,null,4.0,1.0,20.0,2.0,null,6.0,5.0,null,1.0,5.0,5.0,1.0,2.0,3.0,4.0,8.0,6.0,2.0,4.0,2.0,10.0,20.0,null,10.0,4.0,null,2.0,5.0,10.0,6.0,10.0,4.0,3.0,5.0,null,null,5.0,4.0,4.0,8.0,4.0,4.0,2.0,6.0,1.0,1.5,6.0,1.0,3.0,1.0,7.0,2.0,null,5.0,2.0,null,null,4.0,3.0,5.0,8.0,3.0,1.0,3.0,2.0,null,5.0,3.0,null,3.0,null,8.0,5.0,null,null,10.0,3.0,3.0,2.0,0.5,2.0,5.0,10.0,null,4.0,4.0,2.0,1.0,10.0,5.0,2.0,5.0,8.0,4.0,3.0,2.0,2.0,5.0,15.0,5.0,null,2.0,15.0,1.0,10.0,1.0,5.0,null,5.0,10.0,10.0,5.0,4.0,1.0,2.0,2.0,10.0,4.0,null,7.0,null,2.0,4.0,12.0,3.0,null,2.0,4.0,null,1.0,8.0,15.0,2.0,3.0,3.0,10.0,5.0,4.0,20.0,4.0,4.0,2.0,2.0,1.0,5.0,1.0,null,2.0,7.19,5.0,12.0,null,9.0,null,8.0,4.0,8.0,3.0,2.0,4.0,3.0,8.0,4.0,4.0,null,4.0,2.0,10.0,10.0,1.0,1.0,1.0,5.0,2.0,5.0,null,6.0,5.0,10.0,2.0,2.0,2.0,null,1.0,1.0,4.0,1.5,3.0,2.0,2.0,24.0,2.0,null,4.0,4.0,2.0,null,10.0,5.0,2.0,4.0,null,0.5,2.0,2.0,8.0,3.0,5.0,5.0,2.0,8.0,2.0,1.0,1.0,2.0,null,null,null,2.0,15.0,10.0,3.0,4.0,null,2.5,2.0,5.0,null,1.0,5.0,null,12.0,3.0,3.0,2.0,null,6.0,3.0,2.0,2.0,null,null,4.0,8.0,3.0,5.0,2.0,null,5.0,20.0,8.0,3.0,5.0,4.0,null,0.5,1.0,6.0,2.0,null,3.0,5.0,2.0,null,3.0,5.0,5.0,10.0,null,null,1.0,7.0,15.0,1.0,4.0,5.0,5.0,null,4.0,3.0,7.0,null,2.0,null,2.0,8.0,10.0,3.0,2.0,4.0,null,3.0,2.0,null,null,8.0,5.0,10.0,7.0,4.0,null,3.0,null,5.0,null,null,4.0,2.0,4.0,null,1.0,5.0,3.0,2.0,3.0,null,3.0,1.0,5.0,10.0,2.0,6.0,4.0,null,null,8.0,5.0,3.0,4.0,null,2.0,10.0,0.5,null,6.0,4.0,4.0,null,8.0,null,null,null,null,3.0,null,1.0,3.0,10.0,null,5.0,2.0,1.0,3.0,4.0,null,2.0,8.0,3.0,4.0,2.0,null,5.0,3.0,3.0,6.0,10.0,2.0,2.0,2.0,1.0,6.0,3.0,4.0,7.0,2.0,null,null,2.0,3.0,1.0,8.0,10.0,5.0,8.0,1.0,null,null,null,null,null,null,null,2.0,null,15.0,3.0,1.0,4.0,null,1.0,3.0,2.5,5.0,4.0,2.0,1.0,null,8.0,3.0,2.0,3.0,6.0,2.0,2.0,5.0,1.0,8.0,null,null,5.0,3.0,null,5.0,2.0,4.0,2.0,7.0,2.0,3.0,2.0,6.0,8.0,6.0,1.0,4.0,null,2.0,5.0,2.0,10.0,6.0,null,5.0,5.0,8.0,3.0,5.0,5.0,8.0,2.0,2.0,4.0,3.0,2.0,2.0,null,7.0,4.0,2.0,8.0,3.0,8.0,1.0,null,4.0,5.0,15.0,1.0,null,2.0,null,5.0,5.0,null,10.0,null,8.0,1.0,null,5.0,8.0,20.0,5.0,6.0,null,5.0,5.0,2.5,3.0,1.0,1.0,10.0,1.0,3.0,2.0,null,7.5,5.0,2.0,1.0,3.0,4.0,5.0,2.0,2.0,null,5.0,2.0,6.0,10.0,1.0,8.0,6.0,4.0,2.0,2.0,2.0,2.0,6.0,4.0,2.0,4.0,4.0,5.0,null,8.0,5.0,6.0,4.0,2.0,6.0,4.0,15.0,null,3.0,6.0,null,10.0,5.0,null,7.0,3.0,3.0,1.0,8.0,3.0,null,10.0,null,null,8.0,3.0,8.0,5.0,10.0,1.0,3.0,5.0,null,4.0,4.0,2.0,5.0,5.0,8.0,5.0,1.0,10.0,15.0,null,2.0,null,3.0,10.0,3.0,6.0,4.0,3.0,null,5.0,3.0,0.5,2.0,2.0,null,null,null,2.0,1.0,null,5.0,2.5,15.0,null,2.0,null,10.0,3.0,null,null,8.0,10.0,4.0,null,2.0,null,2.0,10.0,5.0,2.0,6.0,null,null,5.0,1.0,1.0,2.0,15.0,null,5.0,4.0,15.0,2.0,10.0,null,5.0,10.0,10.0,4.0,4.0,8.0,1.0,null,null,5.0,3.0,12.0,3.0,2.0,1.0,3.0,1.5,null,15.0,2.0,null,4.0,4.0,3.0,10.0,4.0,2.0,1.0,null,5.0,4.0,5.0,null,5.0,8.0,3.0,2.0,10.0,16.0,5.0,null,2.0,null,5.0,10.0,5.0,5.0,5.0,3.0,2.0,4.0,1.0,null,5.0,14.0,null,null,2.0,15.0,5.0,2.0,16.0,1.0,null,null,5.0,4.0,2.0,null,4.0,3.0,2.0,3.0,5.0,2.0,4.0,5.0,2.0,null,2.0,4.0,5.0,5.0,0.5,1.0,8.0,2.0,15.0,null,4.0,2.0,5.0,10.0,1.0,null,4.0,3.0,5.0,5.0,2.0,null,3.0,5.0,1.0,5.0,null,null,1.0,4.0,10.0,2.0,6.0,1.0,10.0,null,20.0,2.0,12.0,2.0,8.0,4.0,3.0,4.0,null,3.0,2.0,3.0,12.0,null,null,5.0,6.0,8.0,10.0,1.0,5.0,10.0,0.0,6.0,6.0,8.0,8.0,5.0,null,2.0,3.0,2.0,4.0,3.0,null,null,5.0,2.0,2.0,12.0,5.0,5.0,1.0,8.0,3.0,8.0,4.0,3.0,3.0,4.0,3.0,5.0,3.0,4.0,3.0,1.0,5.0,10.0,6.0,5.0,8.0,3.0,1.0,5.0,null,null,5.0,4.0,4.0,2.0,3.0,1.0,5.0,2.0,null,10.0,2.0,0.0,8.0,null,null,null,1.0,2.0,2.0,3.0,10.0,4.0,10.0,10.0,0.4,6.0,4.0,3.0,20.0,null,5.0,4.0,3.0,4.0,null,1.0,4.0,4.0,null,null,3.0,2.0,null,10.0,8.0,4.0,1.0,5.0,3.0,4.0,4.0,3.0,3.0,2.0,null,3.0,2.0,10.0,null,null,null,3.0,6.0,5.0,null,2.0,null,2.0,4.0,5.0,5.0,10.0,5.0,3.0,1.0,null,4.0,2.0,null,5.0,5.0,2.0,null,5.0,3.0,null,null,null,null,5.0,null,5.0,0.01,null,5.0,2.0,1.0,5.0,2.0,3.0,4.0,2.0,3.0,2.0,1.0,5.0,8.0,2.0,null,2.0,3.0,4.0,null,6.0,8.0,null,null,12.0,2.0,5.0,2.0,1.0,4.0,3.0,null,8.0,5.0,1.0,2.0,4.0,1.0,5.0,3.0,null,5.0,5.0,3.0,2.0,5.0,10.0,1.0,1.0,10.0,10.0,10.0,1.0,5.0,2.0,5.0,null,5.0,3.0,1.0,null,2.0,1.0,10.0,8.0,2.0,4.0,5.0,4.0,5.0,4.0,null,3.0,2.0,null,3.0,2.0,2.0,1.0,8.0,8.0,null,5.0,8.0,2.0,null,5.0,null,1.0,4.0,5.0,4.0,1.0,5.0,null,5.0,5.0,5.0,5.0,4.0,5.0,1.0,null,10.0,1.0,null,5.0,5.0,3.0,null,2.0,6.0,2.0,2.0,3.0,25.0,null,5.0,null,10.0,null,2.0,1.0,4.0,5.0,2.0,5.0,null,5.0,null,null,null,4.0,5.0,0.5,null,10.0,5.0,4.0,null,1.0,50.0,null,null,8.0,2.0,2.0,3.0,3.0,null,3.0,1.5,3.0,2.0,6.0,4.0,1.0,2.0,2.0,3.0,3.0,5.0,null,2.0,2.0,4.0,2.0,6.0,null,5.0,5.0,1.0,2.0,3.0,5.0,10.0,4.0,4.0,10.0,4.0,4.0,3.0,5.0,2.0,15.0,null,3.0,3.0,7.0,5.0,null,10.0,10.0,5.0,null,4.0,1.5,4.0,5.0,12.0,16.0,3.0,2.0,4.0,5.0,4.0,3.0,null,5.0,2.0,null,4.0,null,5.0,1.0,4.0,2.0,2.0,4.0,3.0,2.0,null,5.0,null,2.0,2.0,4.0,2.0,5.0,1.0,5.0,3.0,5.0,5.0,1.0,null,8.0,6.0,null,15.0,3.0,2.0,4.0,4.0,3.0,0.2,1.5,4.0,null,10.0,3.0,2.0,null,null,7.0,20.0,6.0,5.0,5.0,null,5.0,0.5,5.0,2.0,1.0,8.0,4.0,null,10.0,5.0,4.0,4.0,3.0,1.0,null,5.0,5.0,1.0,2.0,null,null,15.0,null,1.0,1.0,null,null,10.0,5.0,null,1.0,3.0,1.0,null,3.0,null,2.0,6.0,2.0,3.0,6.0,6.0,20.0,5.0,1.0,2.0,5.0,2.0,3.0,1.0,15.0,4.0,10.0,4.0,5.0,8.0,5.0,2.0,null,null,null,5.0,5.0,null,2.0,null,15.0,3.0,null,null,null,8.0,5.0,5.0,10.0,3.0,null,3.0,6.0,4.0,4.0,4.0,10.0,4.0,2.0,10.0,6.0,1.0,1.0,4.0,8.0,null,15.0,3.0,1.0,4.0,5.0,2.0,1.0,2.0,null,1.0,3.0,null,1.0,7.0,5.0,1.0,6.0,null,1.0,null,null,2.0,null,6.0,1.0,4.0,2.0,1.0,10.0,2.0,2.0,3.0,2.0,null,5.0,3.0,10.0,3.0,null,4.0,4.0,null,2.0,6.0,8.0,4.0,1.0,null,null,4.0,1.0,2.0,null,null,1.0,2.0,null,7.0,3.0,5.0,null,2.0,5.0,3.0,3.0,4.0,3.0,2.0,10.0,1.0,5.0,1.0,4.0,10.0,4.0,4.0,null,1.0,2.0,null,null,null,null,5.0,4.0,null,null,1.0,5.0,8.0,5.0,null,4.0,null,5.0,10.0,4.0,5.0,3.0,2.0,null,5.0,5.0,null,3.0,null,2.0,20.0,12.0,2.0,3.0,2.0,5.0,15.0,7.0,null,5.0,null,2.0,6.0,null,2.0,5.0,5.0,16.0,3.0,3.0,4.0,8.0,8.0,5.0,null,1.0,null,4.0,4.0,3.0,null,3.0,null,2.0,3.0,5.0,5.0,2.0,3.0,null,null,2.0,2.0,7.0,2.0,3.0,5.0,8.0,2.0,4.0,1.0,4.0,1.0,null,15.0,1.0,3.0,2.0,3.0,2.0,6.0,12.0,3.0,3.0,5.0,2.0,2.0,null,2.0,null,5.0,2.0,10.0,3.0,0.5,1.0,1.0,null,null,5.0,null,2.0,4.0,2.0,null,6.0,8.0,null,2.0,4.0,5.0,3.0,2.0,3.0,8.0,10.0,20.0,3.0,4.0,4.0,null,14.0,null,null,null,2.0,null,2.0,10.0,4.0,0.5,2.0,4.0,null,null,null,5.0,10.0,null,null,5.0,5.0,1.0,null,null,null,null,5.0,6.0,null,null,null,2.0,4.0,null,1.0,5.0,5.0,2.0,20.0,2.0,5.0,2.0,6.0,5.0,8.0,10.0,15.0,10.0,4.0,5.0,null,2.0,5.0,null,4.0,8.0,1.0,8.0,8.0,5.0,1.0,14.0,5.0,3.0,2.0,4.0,3.0,2.0,5.0,1.0,null,2.0,3.0,10.0,null,null,48.0,null,null,null,2.0,0.5,1.0,2.0,1.0,6.0,3.0,2.0,null,5.0,null,6.0,2.0,null,2.0,4.0,15.0,1.0,5.0,5.0,5.0,2.0,4.0,4.0,3.0,null,null,4.0,2.0,3.0,2.0,6.0,5.0,5.0,null,null,3.0,10.0,2.0,null,null,2.0,3.0,5.0,9.0,1.0,4.0,4.0,10.0,5.0,2.0,8.0,null,6.0,7.0,null,null,4.0,2.0,3.0,3.0,1.0,5.0,null,null,7.0,3.0,1.0,null,3.0,10.0,6.0,10.0,null,6.0,8.0,4.0,2.0,5.0,10.0,4.0,null,4.0,null,null,2.0,2.0,null,null,1.0,15.0,5.0,4.0,4.0,3.0,7.0,3.0,2.0,null,null,5.0,3.0,1.0,2.0,5.0,null,null,null,6.0,7.0,null,1.0,2.0,null,5.0,5.0,5.0,2.0,4.0,4.0,null,2.0,10.0,2.0,1.0,null,3.0,null,null,4.0,null,1.0,3.0,8.0,null,null,null,null,4.0,2.0,null,5.0,4.0,5.0,3.0,2.0,6.0,3.0,5.0,2.0,15.0,8.0,2.0,3.0,1.0,2.0,3.0,5.0,5.0,null,20.0,8.0,4.0,4.0,8.0,2.0,null,5.0,2.0,5.0,3.0,5.0,null,3.0,2.0,2.0,10.0,1.0,2.0,4.0,4.0,10.0,null,null,5.0,1.0,1.0,2.0,10.0,2.0,4.0,5.0,null,3.0,10.0,2.0,1.0,null,3.0,1.0,3.0,3.0,4.0,2.0,4.0,20.0,8.0,null,8.0,5.0,4.0,null,4.0,3.0,8.0,null,3.0,2.0,null,4.0,5.0,5.0,3.0,null,2.0,3.0,null,2.0,8.0,7.0,12.0,null,3.0,4.0,10.0,8.0,6.0,null,5.0,null,6.0,5.0,null,5.0,20.0,null,20.0,4.0,3.0,5.0,2.0,5.0,null,5.0,2.0,1.0,5.0,4.0,6.0,5.0,null,2.0,null,5.0,4.0,1.0,3.0,8.0,4.0,4.0,4.0,2.0,2.0,3.0,2.0,4.0,3.0,3.0,8.0,8.0,null,8.0,1.0,3.0,4.0,0.0,2.0,null,5.0,4.0,null,null,2.0,3.0,3.0,null,5.0,2.0,null,3.0,3.0,null,2.0,3.0,1.0,10.0,1.0,9.0,1.0,2.0,15.0,4.0,5.0,3.0,10.0,12.0,0.1,null,2.0,4.0,4.0,5.0,4.0,10.0,8.0,4.0,2.0,2.0,2.0,2.0,3.0,1.0,5.0,null,3.0,1.0,2.0,null,5.0,2.0,2.0,10.0,10.0,2.0,8.0,10.0,10.0,4.0,2.0,5.0,1.0,1.5,2.0,null,1.0,null,null,6.0,10.0,2.0,1.0,null,10.0,2.0,3.0,10.0,null,12.0,null,null,5.0,8.0,10.0,2.0,2.0,5.0,6.0,null,2.0,8.0,0.0,2.0,3.0,5.0,2.0,5.0,null,null,2.0,null,5.0,null,15.0,null,5.0,0.1,4.0,2.0,5.0,35.0,6.0,10.0,null,5.0,1.0,null,2.0,3.0,2.0,5.0,4.0,1.0,null,5.0,0.5,null,7.0,null,6.0,3.0,2.0,2.0,4.0,4.0,5.0,null,null,null,4.0,2.0,2.0,3.0,5.0,null,12.0,null,7.0,null,6.0,8.0,null,null,1.0,1.0,4.0,2.0,2.0,3.0,5.0,2.0,10.0,5.0,2.0,1.0,4.0,2.0,2.0,5.0,10.0,12.0,4.0,4.0,1.0,5.0,7.0,5.0,1.0,null,4.0,null,2.0,null,5.0,5.0,3.0,6.0,2.0,null,5.0,10.0,null,10.0,8.0,null,1.0,2.0,2.0,5.0,null,4.0,2.0,null,null,4.0,8.0,5.0,1.0,3.0,1.0,8.0,3.0,4.0,null,null,10.0,10.0,null,null,12.0,3.0,2.0,12.0,null,null,10.0,5.0,null,0.0,3.0,4.0,null,5.0,5.0,2.0,2.0,1.0,1.0,2.0,10.0,4.0,4.0,2.0,2.0,3.0,7.0,null,2.0,8.0,null,null,2.0,3.0,4.0,5.0,5.0,null,4.0,1.0,5.0,6.0,5.0,null,null,3.0,null,null,2.0,null,3.0,3.0,3.0,3.0,8.0,4.0,5.0,10.0,2.0,null,4.0,2.0,null,8.0,5.0,8.0,null,3.0,4.0,null,2.0,1.0,null,2.0,null,3.0,5.0,2.0,10.0,5.0,3.0,5.0,2.0,3.0,10.0,4.0,5.0,4.0,3.0,2.5,null,8.0,4.0,null,2.0,null,3.0,5.0,5.0,4.0,2.0,2.0,null,5.0,4.0,3.0,null,4.0,2.0,8.0,null,10.0,5.0,2.0,2.0,5.0,8.0,3.0,null,4.0,null,5.0,4.0,2.0,8.0,3.0,2.0,1.0,null,3.0,2.0,1.0,null,null,null,3.0,3.0,8.0,1.0,1.0,7.0,2.0,2.0,null,10.0,5.0,5.0,5.0,36.0,20.0,4.0,5.0,6.0,5.0,null,1.0,5.0,null,2.0,2.0,5.0,1.0,10.0,0.0,1.0,2.0,2.0,3.0,4.0,5.0,8.0,8.0,null,5.0,1.0,4.0,null,2.0,3.0,4.0,1.0,null,3.0,2.0,2.0,3.0,2.0,5.0,null,8.0,4.0,2.0,3.0,5.0,5.0,0.0,4.0,2.0,null,3.0,4.0,2.0,2.0,5.0,2.0,1.0,null,5.0,3.0,6.0,null,4.0,5.0,1.0,2.0,1.0,5.0,null,null,15.0,null,4.0,null,20.0,5.0,2.0,5.0,1.0,null,16.0,5.0,8.0,1.0,1.0,1.0,1.0,4.0,5.0,null,null,6.0,4.0,5.0,5.0,2.0,2.0,4.0,null,5.0,8.0,6.0,3.0,null,2.0,10.0,3.0,5.0,1.0,null,4.0,5.0,10.0,10.0,6.0,1.0,2.0,null,2.0,2.0,2.0,10.0,7.0,null,10.0,null,0.5,5.0,5.0,null,7.0,null,3.0,5.0,3.0,8.0,null,5.0,12.0,null,10.0,5.0,2.0,2.0,2.0,2.0,3.0,3.0,null,15.0,null,3.0,null,2.0,3.0,5.0,4.0,8.0,0.0,5.0,5.0,null,2.0,null,5.0,8.0,2.0,4.0,5.0,6.0,2.0,0.0,3.0,5.0,15.0,3.0,2.0,5.0,2.0,10.0,1.0,1.0,3.0,10.0,null,5.0,null,null,null,1.0,2.0,4.0,2.0,4.0,10.0,null,6.0,null,10.0,null,1.0,5.0,12.0,5.0,2.0,2.0,1.0,10.0,8.0,5.0,6.0,1.0,2.0,1.0,null,null,5.0,4.0,null,4.0,4.0,8.0,8.0,5.0,12.0,null,null,null,1.0,1.0,6.0,1.0,2.0,4.0,null,2.0,6.0,3.0,1.0,null,10.0,3.0,null,5.0,2.0,10.0,10.0,3.0,8.0,7.0,null,4.0,null,8.0,2.0,6.0,2.0,2.0,null,3.0,null,4.0,2.0,8.0,5.0,2.0,3.0,5.0,8.0,2.0,2.0,null,5.0,4.0,null,12.0,4.0,2.0,5.0,4.0,5.0,50.0,2.0,5.0,3.0,null,15.0,3.0,4.0,5.0,null,null,2.0,15.0,2.0,6.0,4.0,null,10.0,null,4.0,4.0,null,2.0,null,2.0,5.0,3.0,10.0,8.0,null,10.0,2.0,2.0,3.0,10.0,null,5.0,2.0,null,4.0,1.0,1.0,8.0,50.0,3.0,3.0,1.0,4.0,null,5.0,2.0,5.0,3.0,6.0,3.0,2.0,5.0,2.0,2.0,8.0,0.5,3.0,3.0,8.0,2.0,2.0,null,15.0,6.0,8.0,8.0,2.0,4.0,10.0,1.0,5.0,4.0,null,4.0,40.0,null,1.0,5.0,5.0,5.0,20.0,3.0,2.0,5.0,5.0,7.0,null,3.0,3.0,8.0,5.0,4.0,3.0,4.0,2.0,4.0,1.0,null,1.0,3.0,5.0,1.5,3.0,5.0,2.0,1.0,8.0,null,null,5.0,null,2.0,4.0,null,4.0,5.0,2.0,2.0,null,null,null,1.0,10.0,5.0,4.0,2.0,null,1.0,5.0,25.0,3.0,4.0,2.0,null,null,null,4.0,8.0,4.0,null,3.0,5.0,10.0,5.0,10.0,2.0,4.0,null,4.0,2.0,2.0,null,8.0,null,8.0,10.0,5.0,null,15.0,2.0,2.0,3.0,1.0,6.0,null,5.0,1.0,5.0,5.0,1.0,2.0,1.0,4.0,2.0,1.0,5.0,3.0,3.0,6.0,1.0,2.0,2.0,1.0,3.0,4.0,4.0,10.0,1.5,4.0,3.0,4.0,null,25.0,1.0,3.0,3.0,5.0,7.0,8.0,5.0,null,4.0,1.0,null,3.0,8.0,4.0,1.0,10.0,5.0,3.0,4.0,null,null,1.0,1.0,2.0,2.0,2.0,12.0,null,4.0,4.0,5.0,null,null,null,8.0,10.0,5.0,null,null,5.0,null,5.0,15.0,10.0,null,10.0,1.0,1.0,4.0,12.0,2.0,4.0,null,2.0,4.0,3.0,5.0,8.0,15.0,10.0,3.0,null,3.0,2.0,1.0,5.0,5.0,2.0,2.0,4.0,8.0,4.0,null,10.0,5.0,null,null,4.0,null,null,null,3.0,5.0,null,8.0,null,5.0,2.0,8.0,null,4.0,4.0,12.0,4.0,1.0,null,6.0,2.0,2.0,3.0,5.0,null,3.0,8.0,1.0,null,4.0,3.0,4.0,null,10.0,null,null,2.0,6.0,1.0,6.0,null,3.0,null,10.0,5.0,25.0,2.0,5.0,1.0,8.0,1.0,2.5,6.0,null,4.0,null,null,1.0,2.0,null,null,10.0,1.0,3.0,2.0,1.0,20.0,1.0,null,5.0,5.0,10.0,10.0,2.0,null,10.0,2.0,1.0,6.0,null,4.0,null,2.0,2.0,4.0,null,6.0,2.0,null,5.0,10.0,2.0,1.0,null,2.0,4.0,null,null,2.0,null,4.0,20.0,2.0,null,5.0,2.0,5.0,4.0,3.0,null,15.0,null,15.0,null,1.0,null,10.0,2.5,4.0,4.0,10.0,null,2.0,5.0,4.0,3.0,1.0,1.0,null,1.0,null,5.0,6.0,5.0,null,2.0,10.0,null,3.0,5.0,5.0,5.0,3.0,2.0,5.0,5.0,3.0,null,8.0,5.0,null,1.0,7.5,3.0,10.0,null,1.0,5.0,3.0,2.0,4.0,5.0,2.0,15.0,0.3,null,2.0,4.0,3.0,5.0,null,3.0,5.0,10.0,8.0,null,1.0,2.0,2.0,10.0,null,5.0,5.0,5.0,4.0,null,null,2.0,null,5.0,2.0,null,4.0,5.0,null,4.0,2.0,9.0,3.0,4.0,4.0,10.0,null,3.0,2.0,10.0,2.0,2.0,3.0,null,4.0,2.0,1.0,5.0,4.0,3.0,8.0,null,1.0,null,3.0,2.0,10.0,6.0,5.0,2.0,null,2.0,1.0,5.0,6.0,15.0,1.0,5.0,15.0,4.0,3.0,2.0,null,2.0,3.0,1.0,5.0,null,2.0,8.0,8.0,null,3.0,10.0,1.0,20.0,3.0,null,2.0,4.0,8.0,5.0,5.0,3.0,5.0,10.0,3.0,4.0,2.0,null,2.0,4.0,2.0,2.0,null,4.0,4.0,null,30.0,5.0,1.0,2.0,5.0,null,10.0,2.0,null,null,1.0,4.0,5.0,5.0,5.0,null,null,5.0,4.0,8.0,5.0,10.0,3.0,null,8.0,5.0,4.0,2.0,8.0,null,2.0,null,3.0,10.0,10.0,1.0,1.0,5.0,2.0,20.0,6.0,15.0,5.0,3.0,2.0,5.0,null,8.0,12.0,5.0,4.0,2.0,5.0,4.0,4.0,null,null,5.0,4.0,5.0,30.0,3.0,null,2.0,null,15.0,5.0,2.0,4.0,20.0,null,10.0,5.0,1.0,4.0,5.0,2.0,null,5.0,null,null,2.0,2.0,6.0,6.0,6.0,2.0,3.0,5.0,1.0,1.0,7.5,3.0,5.0,null,6.0,5.0,1.0,4.0,10.0,1.0,1.0,6.0,1.0,15.0,10.0,3.0,6.0,null,null,5.0,10.0,5.0,2.0,3.0,5.0,null,4.0,3.0,1.0,null,4.0,5.0,20.0,5.0,null,null,6.0,1.0,null,6.0,8.0,4.0,20.0,null,null,null,null,8.0,2.0,5.0,8.0,4.0,null,1.0,3.0,null,1.0,10.0,2.0,20.0,5.0,null,12.0,null,8.0,3.0,1.0,4.0,2.0,1.0,5.0,20.0,3.0,null,8.0,4.0,5.0,1.0,null,5.0,null,3.0,10.0,null,null,4.0,10.0,5.0,2.0,4.0,2.0,1.0,1.0,null,null,8.0,null,15.0,3.0,1.0,3.0,null,1.5,8.0,null,5.0,null,1.0,5.0,1.0,3.0,6.0,4.0,4.0,25.0,null,null,5.0,null,10.0,4.0,2.0,4.0,2.0,5.0,4.0,15.0,3.0,1.0,10.0,2.0,8.0,null,5.0,null,5.0,3.0,null,6.0,4.0,2.0,2.0,5.0,null,null,3.0,3.0,null,5.0,5.0,null,1.0,5.0,1.0,null,10.0,3.0,2.0,3.0,10.0,1.0,null,7.0,5.0,null,4.0,null,null,null,null,8.0,5.0,5.0,5.0,null,1.0,10.0,5.0,10.0,null,5.0,20.0,null,null,12.0,3.0,8.0,2.0,null,10.0,2.0,5.0,5.0,5.0,2.0,2.0,5.0,3.0,5.0,1.0,5.0,null,null,null,2.0,10.0,5.0,2.0,2.0,3.0,null,null,5.0,4.0,2.0,5.0,5.0,30.0,1.0,4.0,1.0,6.0,2.0,10.0,5.0,2.0,3.0,null,1.0,5.0,2.0,5.0,null,4.0,null,3.0,1.0,3.0,8.0,2.0,8.0,15.0,4.0,4.0,20.0,8.0,5.0,1.0,8.0,12.0,null,null,35.0,2.0,2.0,7.0,null,2.0,5.0,2.0,4.0,3.0,7.0,5.0,null,4.0,4.0,null,null,3.0,2.0,4.0,2.0,null,2.0,null,0.5,10.0,5.0,null,null,3.0,5.0,null,10.0,null,6.0,5.0,2.0,10.0,null,1.0,3.0,2.0,2.0,2.0,null,6.0,1.5,5.0,10.0,35.0,6.0,null,4.0,1.0,4.0,2.0,0.0,5.0,4.0,null,10.0,null,null,4.0,8.0,25.0,5.0,null,null,5.0,2.0,null,1.0,8.0,2.0,3.0,4.0,5.0,2.0,null,20.0,5.0,1.0,4.0,2.0,null,null,5.0,2.0,10.0,4.0,5.0,3.0,null,null,2.0,2.0,null,10.0,5.0,8.0,3.0,8.0,5.0,4.0,4.0,null,1.0,null,1.0,4.0,5.0,10.0,3.0,3.0,10.0,5.0,5.0,10.0,null,2.0,2.0,5.0,5.0,4.0,0.5,5.0,4.0,2.0,4.0,4.0,null,20.0,3.0,4.0,3.0,2.0,5.0,2.0,null,5.0,3.0,7.0,null,0.5,1.0,null,2.0,2.0,null,null,null,2.0,8.0,10.0,null,6.0,null,null,2.0,6.0,4.0,null,5.0,null,5.0,2.0,4.0,null,1.0,1.0,4.0,5.0,5.0,8.0,5.0,1.0,5.0,3.0,7.0,5.0,2.0,6.0,2.0,2.0,2.0,2.0,2.0,8.0,1.0,1.0,5.0,null,2.0,10.0,1.0,4.0,null,4.0,3.0,4.0,2.0,null,null,5.0,null,10.0,6.0,null,0.0,null,1.0,null,null,3.0,15.0,2.0,null,2.0,2.0,4.0,null,null,4.0,null,4.0,4.0,null,1.0,10.0,2.0,2.0,null,2.0,6.0,10.0,6.0,1.0,5.0,null,5.0,null,5.0,30.0,4.0,10.0,5.0,5.0,4.0,2.0,null,4.0,3.0,6.0,20.0,2.5,3.0,1.0,null,2.0,null,4.0,null,5.0,2.0,5.0,3.0,2.0,null,2.0,null,6.0,2.0,2.0,8.0,null,3.0,5.0,2.0,8.0,5.0,5.0,1.0,5.0,3.0,2.0,5.0,4.0,12.0,8.0,5.0,3.0,8.0,3.0,10.0,5.0,2.0,7.0,null,10.0,1.0,2.0,4.0,2.0,3.0,5.0,null,8.0,3.0,1.0,3.0,null,4.0,null,3.0,null,1.0,4.0,2.0,null,4.0,10.0,null,5.0,2.0,10.0,10.0,0.0,null,null,3.0,null,5.0,5.0,1.0,5.0,null,null,2.0,2.0,8.0,10.0,2.0,5.0,null,2.0,4.0,10.0,3.0,2.0,null,null,2.0,null,null,null,3.0,3.0,1.0,6.0,3.0,8.0,1.0,5.0,3.0,5.0,1.0,5.0,5.0,5.0,2.0,3.0,6.0,5.0,null,12.0,6.0,0.0,5.0,null,1.0,10.0,null,10.0,5.0,1.0,8.0,null,3.0,4.0,6.0,2.0,8.0,4.0,null,5.0,5.0,10.0,4.0,null,null,null,4.0,10.0,null,3.0,5.0,5.0,1.0,3.0,null,1.0,5.0,8.0,10.0,null,null,1.0,2.0,2.0,2.0,null,10.0,null,8.0,1.0,null,null,1.0,null,null,1.0,null,null,4.0,1.0,null,2.0,10.0,2.0,5.0,1.0,2.0,10.0,5.0,5.0,10.0,null,2.0,4.0,20.0,8.0,10.0,1.0,4.0,2.0,2.0,2.0,2.0,3.0,10.0,5.0,2.0,null,5.0,2.0,3.0,5.0,5.0,null,2.0,null,6.0,null,6.0,1.0,1.0,10.0,5.0,2.0,null,4.0,4.0,null,2.0,5.0,1.0,null,3.0,null,3.0,3.0,2.0,3.0,null,3.0,null,null,3.0,null,10.0,5.0,3.0,16.0,null,8.0,null,2.0,3.0,1.0,5.0,null,1.0,1.0,5.0,null,1.0,1.0,null,3.0,5.0,15.0,3.0,null,1.0,5.0,6.0,2.0,1.0,4.0,3.0,3.0,8.0,6.0,null,20.0,2.0,null,1.0,4.0,5.0,5.0,2.0,3.0,1.0,null,5.0,null,8.0,6.0,2.0,5.0,null,null,null,1.0,1.0,null,3.0,4.0,2.0,null,4.0,null,null,null,null,null,4.0,3.0,null,null,4.0,2.0,2.0,null,2.0,2.0,5.0,1.0,5.0,4.0,4.0,3.0,1.0,2.0,4.0,3.0,2.0,6.0,null,null,4.0,10.0,5.0,2.0,6.0,2.0,0.2,5.0,3.0,null,5.0,0.1,8.0,2.0,1.0,5.0,2.0,3.0,5.0,4.0,2.0,1.0,1.0,null,5.0,2.0,null,2.0,null,null,2.0,4.0,8.0,0.5,2.0,2.0,5.0,8.0,2.0,3.0,5.0,4.0,4.0,null,2.0,2.0,null,1.0,3.0,4.0,null,15.0,null,1.0,2.0,2.0,1.0,1.0,0.5,4.0,8.0,5.0,5.0,5.0,5.0,8.0,4.0,5.0,5.0,null,2.0,4.0,10.0,null,50.0,5.0,null,1.0,4.0,5.0,7.0,null,3.0,20.0,null,3.0,1.0,null,3.0,5.0,2.0,5.0,4.0,10.0,8.0,null,3.0,null,null,8.0,null,2.0,2.0,null,5.0,5.0,null,6.0,null,3.0,4.0,8.0,null,null,10.0,4.0,10.0,4.0,15.0,5.0,4.0,8.0,8.0,5.0,15.0,2.5,2.0,null,5.0,null,1.5,3.0,25.0,10.0,8.0,1.0,10.0,4.0,null,10.0,2.0,null,4.0,3.0,null,4.0,3.0,3.0,15.0,10.0,6.0,null,10.0,10.0,4.0,null,null,null,2.0,1.0,5.0,5.0,1.0,3.0,4.0,2.0,2.0,5.0,0.5,2.0,10.0,4.0,8.0,13.0,4.0,5.0,null,10.0,6.0,4.0,null,null,10.0,2.0,null,5.0,5.0,1.0,null,3.0,2.0,5.0,2.0,null,4.0,8.0,5.0,3.0,2.0,null,4.0,4.0,3.0,10.0,3.0,2.0,7.0,0.5,5.0,5.0,3.0,2.0,4.0,3.0,17.0,4.0,1.0,null,5.0,20.0,2.0,5.0,6.0,5.0,5.0,4.0,3.0,null,null,8.0,8.0,4.0,8.0,2.0,5.0,6.0,4.0,3.0,null,5.0,4.0,16.0,6.0,1.0,1.0,5.0,5.0,3.0,null,2.0,null,7.0,2.0,4.0,4.0,2.0,1.0,null,null,4.0,3.0,null,6.0,null,2.0,3.0,1.0,4.0,3.0,null,5.0,10.0,4.0,8.0,3.0,4.0,2.0,5.0,null,5.0,null,null,8.0,null,5.0,5.0,2.0,3.0,2.0,1.0,null,10.0,5.0,null,null,2.0,5.0,null,10.0,1.0,4.0,null,2.0,5.0,2.0,16.0,null,null,99.0,null,2.0,5.0,2.0,3.0,3.0,6.0,2.0,4.0,4.0,3.0,2.0,3.0,null,1.0,null,null,5.0,3.0,0.5,null,null,null,10.0,2.0,2.0,6.0,null,2.0,null,null,7.0,2.0,3.0,2.0,null,4.0,null,4.0,2.0,null,10.0,null,2.0,null,1.0,null,1.0,0.0,4.0,3.0,5.0,2.0,4.0,null,10.0,6.0,1.0,2.0,2.0,1.0,4.0,10.0,1.0,null,null,6.0,4.0,3.0,4.0,null,null,null,8.0,8.0,3.0,3.0,5.0,2.0,1.0,6.0,5.0,4.0,2.0,5.0,3.0,2.0,5.0,10.0,null,2.0,5.0,null,10.0,10.0,1.0,1.0,2.0,5.0,3.0,6.0,1.0,2.0,10.0,8.0,4.0,4.0,4.0,5.0,7.0,3.0,8.0,2.0,15.0,5.0,1.0,3.0,10.0,4.0,10.0,3.0,4.0,null,1.0,null,null,null,null,null,1.0,null,4.0,5.0,3.0,2.0,6.0,3.0,3.0,1.0,1.0,2.0,4.0,4.0,6.0,2.0,15.0,2.0,3.0,2.0,2.0,2.0,5.0,10.0,4.0,2.0,5.0,21.0,2.0,20.0,null,8.0,null,null,5.0,null,2.0,5.0,3.0,null,2.0,3.0,10.0,null,4.0,2.0,18.0,null,5.0,4.0,5.0,8.0,16.0,10.0,5.0,2.0,2.0,2.0,4.0,4.0,2.0,10.0,4.0,2.0,3.0,1.0,3.0,15.0,2.0,7.0,5.0,2.0,4.0,2.0,2.0,5.0,8.0,5.0,null,8.0,2.0,10.0,5.0,3.0,5.0,4.0,3.0,2.0,5.0,2.0,2.0,10.0,2.0,null,6.0,5.0,2.0,4.0,2.0,2.0,null,5.0,5.0,1.0,null,null,2.0,2.0,null,null,2.0,4.0,5.0,null,3.0,4.0,8.0,1.0,null,1.0,5.0,5.0,null,8.0,null,1.0,8.0,null,2.0,null,2.0,5.0,0.0,4.0,5.0,3.0,2.0,null,2.0,3.0,5.0,4.0,null,8.0,4.0,4.0,8.0,4.0,null,5.0,10.0,5.0,null,4.0,3.0,2.0,2.0,2.0,3.0,3.0,5.0,4.0,40.0,5.0,3.0,8.0,20.0,1.0,8.0,5.0,null,3.0,2.0,1.5,null,3.0,null,15.0,null,3.0,5.0,3.0,null,2.0,4.0,5.0,5.0,null,null,5.0,5.0,null,null,10.0,5.0,2.0,2.0,5.0,1.0,2.0,3.0,5.0,null,1.0,5.0,4.0,null,2.0,5.0,7.0,6.0,3.0,1.0,4.0,15.0,null,3.0,4.0,3.0,1.0,8.0,1.0,2.0,5.0,null,4.0,5.0,2.0,null,2.0,2.0,3.0,10.0,2.0,null,2.0,3.0,10.0,5.0,2.0,1.0,5.0,3.0,5.0,1.0,3.0,3.0,null,7.0,null,4.0,4.0,10.0,null,null,2.0,null,4.0,3.0,null,null,3.0,4.0,null,4.0,15.0,3.0,null,null,2.0,3.0,10.0,2.0,10.0,10.0,2.0,10.0,10.0,5.0,1.0,6.0,5.0,5.0,null,null,1.0,10.0,null,null,null,2.0,2.0,null,null,6.0,4.0,4.0,6.0,4.0,10.0,2.0,4.0,5.0,null,10.0,2.0,6.0,2.0,1.0,1.0,5.0,1.0,1.0,6.0,6.0,25.0,10.0,5.0,2.0,null,3.0,10.0,null,1.0,3.0,null,1.5,3.0,4.0,5.0,3.0,12.0,null,null,5.0,10.0,2.0,4.0,6.0,4.0,5.0,3.0,5.0,2.0,1.0,2.0,5.0,0.0,null,null,4.0,4.0,6.0,8.0,6.0,2.0,2.0,null,null,5.0,null,2.0,null,null,2.0,4.0,5.0,1.0,null,null,2.0,4.0,5.0,null,15.0,0.0,null,2.0,2.0,5.0,15.0,5.0,1.0,15.0,10.0,2.0,null,2.0,2.0,null,1.0,2.0,10.0,3.0,null,null,5.0,2.0,10.0,10.0,5.0,1.0,null,8.0,3.0,null,null,null,null,3.0,10.0,null,4.0,null,10.0,null,10.0,2.0,null,5.0,5.0,15.0,4.0,1.0,5.0,null,2.0,null,1.0,null,8.0,2.0,5.0,0.1,null,null,5.0,4.0,2.0,5.0,2.0,3.0,15.0,1.0,7.0,6.0,5.0,null,2.0,10.0,1.5,4.0,5.0,12.0,5.0,8.0,4.0,null,3.0,2.0,2.0,8.0,5.0,4.0,null,4.0,5.0,null,4.0,null,null,2.0,5.0,null,3.0,5.0,10.0,4.0,0.0,2.0,3.0,8.0,null,null,null,2.0,2.0,null,4.0,3.0,10.0,5.0,10.0,null,3.0,5.0,null,2.0,2.0,3.0,4.0,7.0,8.0,4.0,5.0,3.0,1.0,5.0,3.0,1.0,null,3.0,5.0,4.0,8.0,1.0,null,null,5.0,5.0,3.0,1.0,null,4.0,4.0,null,10.0,null,3.0,6.0,1.0,3.0,14.0,4.0,null,null,1.0,6.0,2.0,1.0,null,1.0,2.0,2.0,1.0,2.0,4.0,2.0,3.0,2.0,10.0,3.0,3.0,4.0,40.0,null,3.0,4.0,5.0,1.0,1.0,4.0,null,5.0,1.0,null,10.0,15.0,30.0,4.0,10.0,15.0,null,2.0,4.0,1.0,null,null,6.0,5.0,5.0,10.0,3.0,6.0,4.0,1.0,2.0,10.0,null,null,8.0,null,5.0,3.0,2.0,2.0,10.0,null,7.0,2.0,5.0,null,null,10.0,4.0,1.0,5.0,2.0,5.0,null,5.0,null,5.0,null,10.0,5.0,1.0,6.0,null,null,5.0,6.0,1.0,4.0,4.0,null,null,4.0,1.0,null,2.0,null,2.0,60.0,5.0,null,4.0,5.0,2.0,null,15.0,4.0,2.0,8.0,4.0,2.0,2.0,3.0,10.0,4.0,10.0,5.0,null,2.0,null,null,1.0,1.0,5.0,2.0,3.0,6.0,2.0,10.0,6.0,4.0,5.0,3.0,9.0,null,0.0,5.0,null,1.0,2.0,5.0,5.0,10.0,6.0,null,3.0,3.0,10.0,null,5.0,5.0,1.0,5.0,20.0,4.0,10.0,2.0,10.0,5.0,1.0,null,10.0,5.0,5.0,1.0,2.0,null,5.0,5.0,5.0,2.0,4.0,5.0,null,4.0,5.0,5.0,5.0,2.0,3.0,5.0,5.0,2.0,5.0,1.0,7.0,2.0,4.0,6.0,4.0,null,3.0,5.0,5.0,null,16.0,1.0,10.0,5.0,2.0,null,1.0,2.0,4.0,3.0,3.0,10.0,2.0,null,2.0,null,3.0,0.0,null,null,5.0,8.0,4.0,null,4.0,2.0,5.0,null,2.0,5.0,null,5.0,15.0,null,null,3.0,8.0,1.0,4.0,null,4.0,3.0,2.0,8.0,null,3.0,4.0,2.0,3.0,null,null,15.0,8.0,3.0,null,2.0,4.0,5.0,2.0,1.0,null,2.0,3.0,null,3.0,8.0,10.0,3.0,12.0,4.0,1.0,1.0,3.0,null,null,null,null,1.0,8.0,null,5.0,null,null,null,5.0,5.0,null,6.0,1.0,5.0,null,5.0,1.0,8.0,3.0,null,null,10.0,4.0,2.0,2.0,5.0,null,4.0,null,10.0,3.0,null,2.0,null,null,5.0,null,1.0,4.0,10.0,5.0,null,4.0,5.0,3.0,8.0,5.0,2.0,3.0,null,null,6.0,null,null,1.0,4.0,null,5.0,3.0,5.0,2.0,1.0,2.0,null,0.5,5.0,null,4.0,4.0,15.0,5.0,null,4.0,null,2.0,null,8.0,2.0,null,null,4.0,3.0,10.0,10.0,45.0,2.0,2.0,5.0,4.0,4.0,5.0,3.0,null,1.0,null,null,null,2.0,3.0,5.0,2.0,1.0,3.0,2.0,5.0,null,null,6.0,1.0,2.0,null,null,3.0,null,null,2.0,4.0,6.0,1.0,1.0,6.0,2.0,2.0,5.0,0.5,2.0,null,7.0,3.0,null,null,0.1,3.0,15.0,2.0,5.0,null,4.0,10.0,6.0,2.0,2.0,10.0,4.0,15.0,4.0,10.0,5.0,6.0,10.0,8.0,1.0,null,5.0,null,8.0,10.0,10.0,1.0,10.0,3.0,15.0,null,4.0,5.0,4.0,8.0,null,10.0,8.0,10.0,2.0,5.0,4.0,5.0,1.0,null,null,1.0,3.0,1.0,5.0,5.0,10.0,null,16.0,10.0,2.0,10.0,null,null,9.0,2.0,null,8.0,2.0,25.0,5.0,3.0,null,6.0,4.0,null,3.0,1.0,15.0,null,5.0,5.0,15.0,null,null,null,1.0,7.0,3.0,15.0,15.0,null,9.0,20.0,4.0,6.0,3.0,null,2.0,2.0,4.0,5.0,1.0,null,4.0,8.0,10.0,null,null,null,5.0,2.0,4.0,null,null,2.0,0.25,10.0,1.0,6.0,5.0,null,null,null,5.0,4.0,2.0,null,5.0,4.0,5.0,2.0,4.0,10.0,5.0,4.0,null,1.0,2.0,null,3.0,8.0,1.0,3.0,6.0,4.0,2.0,2.0,15.0,3.0,5.0,3.0,8.0,null,2.0,2.0,8.0,8.0,1.0,2.0,7.5,2.0,8.0,null,null,5.0,4.0,10.0,null,null,2.0,null,5.0,null,null,4.0,2.0,6.0,2.0,2.0,3.0,1.0,null,5.0,8.0,6.0,4.0,4.0,4.0,null,15.0,2.0,4.0,2.0,3.0,30.0,3.0,10.0,15.0,2.0,6.0,4.0,null,null,1.0,1.0,null,null,null,0.0,4.0,5.0,5.0,3.0,1.0,1.0,1.0,7.0,10.0,5.0,5.0,3.0,2.0,10.0,3.0,0.01,4.0,null,3.0,5.0,5.0,2.0,8.0,8.0,1.0,0.5,4.0,null,15.0,null,2.0,5.0,6.0,null,12.0,5.0,2.0,3.0,null,null,6.0,6.0,5.0,2.0,5.0,1.0,5.0,null,null,4.0,10.0,5.0,2.0,5.0,null,5.0,null,3.0,2.0,6.0,8.0,8.0,null,null,5.0,2.0,2.0,2.0,null,5.0,3.0,2.0,3.0,2.0,6.0,2.0,6.0,6.0,1.0,null,5.0,2.0,null,20.0,3.0,2.0,10.0,4.0,2.0,5.0,5.0,5.0,null,null,5.0,1.0,10.0,null,5.0,null,2.0,5.0,null,3.0,null,null,10.0,null,10.0,null,null,4.0,null,null,2.0,2.0,2.0,null,5.0,4.0,8.0,null,null,10.0,3.0,3.0,6.0,5.0,4.0,4.0,3.0,4.0,null,3.0,5.0,5.0,8.0,10.0,null,8.0,3.0,null,2.0,5.0,4.0,5.0,null,8.0,1.0,null,5.0,3.0,6.0,4.0,10.0,null,1.0,2.0,4.0,4.0,1.0,null,5.0,null,4.0,8.0,2.0,1.0,6.0,4.0,null,1.5,4.0,1.0,4.0,null,8.0,null,null,3.0,2.0,1.0,5.0,2.0,6.0,2.0,2.0,2.5,3.0,4.0,4.0,5.0,2.0,2.0,10.0,8.0,10.0,0.0,null,null,5.0,2.0,null,2.0,8.0,4.0,2.0,4.0,4.0,null,3.0,4.0,4.0,null,2.0,5.0,5.0,null,null,3.0,8.0,1.0,2.0,3.0,10.0,null,null,3.0,2.0,null,4.0,10.0,1.0,3.0,2.0,3.0,2.0,10.0,5.0,4.0,2.0,4.0,5.0,4.0,2.0,2.0,7.0,10.0,3.0,null,2.0,10.0,10.0,2.0,4.0,4.0,null,2.0,4.0,1.0,3.0,8.0,null,null,null,null,1.0,5.0,null,null,5.0,2.0,null,5.0,null,null,5.0,null,1.0,2.0,1.0,2.0,null,2.0,10.0,3.0,null,4.0,1.0,1.0,1.0,null,8.0,6.0,4.0,1.0,6.0,6.0,null,5.0,8.0,1.0,null,10.0,5.0,5.0,3.0,2.0,null,3.0,null,null,null,2.0,5.0,8.0,1.0,2.0,12.0,1.0,1.0,null,null,2.0,2.0,8.0,10.0,2.0,1.0,null,8.0,4.0,null,2.0,5.0,5.0,null,7.0,4.0,3.0,10.0,12.0,10.0,8.0,12.0,5.0,10.0,null,2.0,null,1.0,6.0,8.0,2.0,2.0,null,1.0,1.0,null,4.0,5.0,10.0,3.0,5.0,1.0,5.0,6.0,null,4.0,2.0,null,1.0,5.0,5.0,4.0,5.0,2.0,null,5.0,10.0,4.0,1.0,8.0,1.0,10.0,3.0,null,1.0,2.0,null,5.0,null,1.0,2.0,1.5,3.0,1.0,10.0,2.0,1.0,null,15.0,2.0,2.0,null,5.0,4.0,4.0,1.0,1.0,null,3.0,6.0,3.0,5.0,2.0,null,null,3.0,1.0,6.0,4.0,2.0,null,6.0,null,5.0,4.0,null,null,3.0,4.0,3.0,null,5.0,5.0,2.0,4.0,3.0,null,null,1.0,8.0,2.0,null,6.5,4.0,0.0,8.0,3.0,null,1.0,2.0,null,5.0,null,0.0,2.0,2.0,4.0,3.0,1.0,6.0,2.0,6.0,4.0,null,6.0,null,2.0,15.0,null,5.0,5.0,null,null,null,null,4.0,2.0,2.0,3.0,10.0,null,1.0,5.0,15.0,null,4.0,10.0,0.5,4.0,10.0,4.0,2.0,1.0,1.0,8.0,5.0,3.0,4.0,2.0,6.0,15.0,null,7.0,10.0,5.0,2.0,null,3.0,3.0,5.0,3.0,5.0,null,4.0,5.0,null,4.0,8.0,null,1.0,10.0,2.0,null,null,1.0,7.0,5.0,5.0,2.0,null,4.0,5.0,5.0,4.0,2.0,null,1.0,3.0,1.0,1.0,5.0,10.0,null,2.0,1.0,2.0,null,2.0,5.0,10.0,3.0,1.0,4.0,3.0,10.0,3.0,2.0,null,3.0,3.0,null,10.0,2.0,8.0,null,3.0,10.0,10.0,0.05,5.0,null,5.0,5.0,4.0,4.0,null,2.0,1.0,1.0,3.0,2.0,2.0,2.0,3.0,null,null,4.0,7.0,3.0,7.0,2.0,null,5.0,2.0,null,5.0,1.0,2.0,2.0,4.0,4.0,1.0,4.0,4.0,10.0,3.0,2.0,15.0,1.0,1.0,3.0,3.0,2.0,null,4.0,5.0,4.0,4.0,5.0,8.0,3.0,0.5,8.0,null,null,null,5.0,4.0,1.0,15.0,5.0,2.0,2.0,4.0,null,3.0,5.0,10.0,null,5.0,3.0,5.0,null,1.0,5.0,1.0,4.0,5.0,15.0,null,4.0,10.0,3.0,4.0,4.0,null,null,10.0,4.0,5.0,2.0,null,2.0,null,null,5.0,2.0,8.0,null,5.0,10.0,6.0,3.0,null,2.0,6.0,3.0,15.0,5.0,null,1.0,null,5.0,4.0,null,1.0,2.0,null,3.0,10.0,5.0,10.0,4.0,null,1.0,10.0,3.0,1.0,3.0,3.0,8.0,4.0,1.0,2.0,2.0,null,4.0,6.0,2.0,2.0,4.0,null,null,4.0,2.0,5.0,5.0,4.0,1.0,5.0,10.0,3.0,null,3.0,1.0,4.0,null,5.0,6.0,4.0,null,2.0,5.0,5.0,0.0,null,5.0,6.0,5.0,1.0,2.0,1.0,10.0,3.0,2.0,3.0,8.0,4.0,5.0,2.0,1.0,3.0,4.0,1.0,null,5.0,null,8.0,null,8.0,4.0,3.0,3.0,null,3.0,5.0,5.0,5.0,6.0,5.0,2.0,3.0,null,1.0,5.0,8.0,2.0,8.0,4.0,null,5.0,0.0,null,6.0,4.0,7.0,7.0,1.0,5.0,null,2.0,3.0,5.0,2.0,null,5.0,5.0,1.0,4.0,5.0,4.0,2.0,4.0,null,6.0,2.0,5.0,5.0,5.0,10.0,null,0.0,2.0,null,null,null,3.0,null,6.0,null,null,5.0,3.0,10.0,null,2.5,2.0,5.0,5.0,2.0,1.0,2.0,2.0,4.0,2.0,4.0,null,1.0,8.0,4.0,5.0,5.0,2.0,null,40.0,2.0,2.0,7.0,4.0,5.0,5.0,null,1.0,null,1.0,5.0,3.0,2.0,5.0,5.0,2.0,5.0,4.0,8.0,2.0,null,10.0,1.0,12.0,3.0,6.0,5.0,12.0,2.0,5.0,5.0,4.0,3.0,null,4.0,10.0,5.0,null,2.0,3.0,1.0,2.0,null,1.0,3.0,3.0,3.0,8.0,10.0,4.0,1.0,1.0,5.0,null,8.0,null,3.0,6.0,2.0,10.0,4.0,10.0,5.0,10.0,3.0,null,1.0,2.0,null,2.0,2.0,2.0,3.0,4.0,21.0,6.0,5.0,4.0,1.0,2.0,4.0,null,10.0,1.0,2.0,2.0,1.0,3.0,5.0,2.0,null,2.0,1.0,1.0,0.5,1.0,3.0,15.0,2.0,5.0,8.0,null,2.5,2.0,null,4.0,2.0,null,5.0,3.0,3.0,1.0,null,1.0,4.0,3.0,8.0,3.0,null,2.0,8.0,4.0,5.0,5.0,10.0,null,1.0,6.0,null,10.0,1.0,5.0,2.0,5.0,2.0,null,4.0,5.0,5.0,2.0,2.0,7.0,1.0,15.0,4.0,1.0,null,3.0,3.0,null,null,2.0,null,2.0,5.0,null,6.0,null,4.0,0.0,5.0,1.0,4.0,1.0,null,8.0,null,2.0,2.0,3.0,10.0,2.0,6.0,4.0,1.0,null,2.0,10.0,null,15.0,2.0,5.0,5.0,5.0,5.0,null,5.0,null,6.0,5.0,5.0,12.0,2.0,0.5,3.0,null,null,5.0,2.0,null,5.0,null,5.0,10.0,1.0,null,2.0,3.0,null,2.0,5.0,2.0,10.0,1.0,5.0,1.0,5.0,null,null,4.0,2.0,5.0,3.0,5.0,null,null,5.0,1.0,null,2.0,2.0,null,1.0,5.0,1.0,null,2.0,10.0,2.0,5.0,null,null,4.0,30.0,5.0,14.0,4.0,1.0,3.0,2.0,3.0,8.0,null,null,20.0,5.0,3.0,2.0,10.0,5.0,2.0,10.0,2.0,4.0,null,3.0,2.0,null,1.0,4.0,9.0,5.0,5.0,2.0,8.0,1.0,2.0,3.0,5.0,null,8.0,3.0,5.0,null,15.0,2.0,2.0,2.0,8.0,1.0,7.0,null,null,1.0,3.0,4.0,8.0,3.0,2.0,2.0,7.0,null,5.0,4.0,3.0,9.0,2.0,1.0,2.0,6.0,2.0,1.0,3.0,10.0,8.0,10.0,18.0,null,5.0,1.0,6.0,8.0,5.0,2.0,3.0,6.0,2.0,3.0,10.0,5.0,2.0,2.0,1.0,null,4.0,6.0,1.0,2.0,5.0,1.0,10.0,null,null,8.0,1.0,1.0,3.0,null,5.0,15.0,null,10.0,6.0,null,4.0,null,null,5.0,1.0,4.0,14.0,5.0,10.0,10.0,3.0,null,5.0,10.0,1.0,4.0,5.0,null,3.0,1.0,null,10.0,8.0,15.0,null,3.0,6.0,10.0,4.0,2.0,8.0,1.0,1.0,1.0,2.0,null,4.0,null,null,8.0,2.0,5.0,4.0,8.0,6.0,1.0,9.0,3.0,4.0,3.0,2.0,7.0,4.0,1.0,5.0,5.0,3.0,10.0,2.0,8.0,5.0,2.0,1.5,5.0,4.0,2.0,5.0,12.0,10.0,8.0,1.0,2.0,10.0,null,18.0,1.0,2.0,2.0,null,5.0,null,5.0,3.0,null,null,10.0,2.0,null,null,4.0,5.0,10.0,3.0,4.0,10.0,null,8.0,10.0,2.0,3.0,2.0,2.0,2.0,5.0,null,2.0,4.0,6.0,5.0,5.0,20.0,3.0,1.0,2.0,null,5.0,5.0,0.0,4.0,1.0,null,null,null,3.0,null,null,5.0,null,3.0,8.0,null,1.0,5.0,null,null,2.0,4.0,1.0,2.0,5.0,4.0,null,8.0,10.0,5.0,3.0,2.0,null,1.0,5.0,15.0,2.0,null,25.0,null,2.0,4.0,2.0,1.0,null,3.0,4.0,1.0,5.0,null,5.0,3.0,null,16.0,1.0,null,null,3.0,2.0,1.0,2.0,4.0,1.0,3.0,null,4.0,10.0,null,5.0,5.0,1.0,null,null,1.0,0.5,8.0,25.0,2.0,2.0,5.0,3.0,null,7.0,1.0,8.0,null,2.0,5.0,4.0,8.0,2.0,5.0,8.0,3.0,2.0,3.0,2.0,4.0,1.0,null,2.0,2.0,5.0,4.0,5.0,4.0,4.0,null,null,6.0,1.0,2.0,6.0,5.0,null,null,1.0,1.0,8.0,1.0,8.0,5.0,2.0,5.0,null,null,8.0,2.0,null,10.0,4.0,4.0,null,1.0,10.0,1.5,10.0,null,3.0,null,null,5.0,4.0,1.0,5.0,5.0,null,3.0,4.0,6.0,17.0,2.0,8.0,6.0,10.0,null,15.0,3.0,1.0,null,5.0,null,null,8.0,null,null,1.0,null,null,5.0,5.0,5.0,null,null,4.0,3.0,2.0,3.0,3.0,3.0,2.0,4.0,3.0,null,null,null,2.0,2.0,7.0,10.0,1.0,null,7.0,2.0,null,5.0,8.0,null,4.0,null,3.0,2.0,null,8.0,3.0,1.0,4.0,4.0,10.0,10.0,null,2.0,2.0,3.0,null,40.0,1.0,null,1.0,15.0,2.0,2.0,10.0,5.0,10.0,2.0,3.0,3.0,8.0,5.0,null,40.0,2.0,3.0,4.0,1.0,null,1.0,null,2.0,null,5.0,3.0,5.0,2.0,2.0,3.0,1.0,null,1.0,3.0,1.0,6.0,10.0,3.0,6.0,3.0,null,null,2.0,null,3.0,15.0,3.0,2.0,4.0,1.0,2.0,17.0,4.0,4.0,4.0,2.0,3.0,5.0,5.0,5.0,1.0,null,2.0,5.0,5.0,8.0,20.0,null,4.0,12.0,2.0,null,4.0,null,2.0,4.0,1.0,1.0,8.0,3.0,4.0,3.0,5.0,2.0,8.0,null,10.0,2.0,10.0,4.0,null,2.0,null,5.0,3.0,null,5.0,2.0,5.0,7.0,3.0,7.0,10.0,4.0,5.0,10.0,4.0,8.0,5.0,11.0,2.0,null,8.0,null,null,3.0,7.0,null,5.0,null,1.0,2.0,5.0,2.0,2.0,4.0,4.0,2.0,1.0,2.0,null,6.0,1.0,4.0,8.0,12.0,null,2.0,5.0,4.0,8.0,null,2.0,null,null,3.0,null,1.0,5.0,1.0,null,5.0,4.0,null,null,5.0,8.0,3.0,1.0,3.0,2.0,5.0,4.0,10.0,5.0,5.0,null,2.0,null,null,null,4.0,4.0,4.0,5.0,5.0,null,4.0,null,7.0,null,null,null,1.0,null,4.0,null,3.0,0.25,2.0,3.0,2.0,5.0,2.0,null,5.0,4.0,2.0,10.0,10.0,3.0,null,null,2.0,3.0,null,5.0,null,4.0,6.0,4.0,5.0,1.0,null,null,1.0,4.0,null,4.0,4.0,2.0,null,5.0,2.0,7.5,5.0,7.0,null,3.0,null,2.0,null,1.0,2.0,4.0,5.0,10.0,5.0,5.0,null,5.0,5.0,null,4.0,5.0,8.0,1.0,null,6.0,null,2.0,2.0,3.0,2.0,null,1.0,15.0,2.0,null,8.0,4.0,4.0,4.0,12.0,3.0,2.0,3.0,2.0,5.0,null,8.0,null,2.0,5.0,1.0,10.0,0.1,3.0,null,2.0,null,null,2.0,5.0,5.0,20.0,1.0,25.0,null,6.0,6.0,5.0,2.0,5.0,null,2.0,3.0,5.0,12.0,null,1.0,0.0,1.0,6.0,10.0,null,5.0,2.0,1.0,1.0,3.0,5.0,null,10.0,1.0,8.0,4.0,15.0,10.0,2.0,2.0,4.0,null,2.0,2.0,null,2.0,null,5.0,null,2.0,2.0,null,2.0,1.0,4.0,null,null,8.0,3.0,1.0,1.0,2.0,4.0,null,4.0,null,null,4.0,null,3.0,null,null,null,5.0,2.0,2.0,5.0,null,null,4.0,2.0,6.0,5.0,1.0,6.0,null,null,3.0,2.0,2.0,15.0,4.0,3.0,null,null,10.0,4.0,2.0,5.0,1.0,null,4.0,5.0,20.0,null,3.0,null,null,10.0,null,3.0,5.0,8.0,5.0,2.0,4.0,2.0,null,null,10.0,8.0,6.0,3.0,2.0,1.0,null,5.0,4.0,4.0,3.0,null,5.0,null,1.0,null,null,1.0,null,1.0,6.0,4.0,2.0,2.0,5.0,2.0,null,null,null,3.0,5.0,5.0,null,7.0,2.0,null,4.0,4.0,8.0,3.0,5.0,2.0,null,4.0,4.0,1.0,4.0,null,5.0,3.0,1.0,3.0,2.0,8.0,2.0,3.0,null,5.0,2.0,25.0,1.0,5.0,2.0,4.0,12.0,4.0,null,8.0,2.0,5.0,6.0,5.0,10.0,null,null,null,2.0,2.0,5.0,4.0,4.0,4.0,5.0,1.0,null,2.0,10.0,14.0,10.0,null,5.0,3.0,5.0,1.0,3.0,15.0,0.5,null,2.0,5.0,7.0,10.0,20.0,3.0,4.0,4.0,4.0,null,3.0,8.0,4.0,1.0,15.0,4.0,1.0,10.0,10.0,10.0,1.0,4.0,8.0,5.0,null,8.0,1.0,6.0,5.0,12.0,1.0,null,8.0,4.0,3.0,1.0,4.0,5.0,5.0,3.0,3.0,null,20.0,15.0,null,5.0,1.0,10.0,5.0,null,5.0,7.0,2.0,5.0,10.0,1.0,null,3.0,15.0,1.0,2.0,null,null,1.0,null,2.0,6.0,4.0,8.0,2.0,2.0,12.0,5.0,5.0,2.0,null,2.0,4.0,null,2.0,3.0,2.0,null,3.0,null,5.0,2.0,1.0,2.0,15.0,8.0,3.0,3.0,3.0,1.0,4.0,10.0,4.0,2.0,3.0,null,null,8.0,null,30.0,5.0,null,5.0,3.0,3.0,10.0,5.0,4.0,6.0,4.0,3.0,10.0,2.0,10.0,5.0,2.0,3.0,1.0,1.0,1.0,20.0,3.0,4.0,null,2.0,4.0,null,10.0,null,25.0,null,null,null,null,null,6.0,8.0,5.0,4.0,5.0,null,5.0,4.0,2.0,2.5,null,8.0,8.0,null,15.0,1.0,0.5,null,4.0,3.0,null,10.0,null,10.0,1.0,3.0,6.0,5.0,2.0,2.0,5.0,null,8.0,1.0,5.0,3.0,4.0,4.0,4.0,3.0,2.0,1.0,3.0,5.0,2.0,2.0,2.5,5.0,1.0,8.0,5.0,2.0,10.0,6.0,1.0,12.0,5.0,5.0,3.0,5.0,4.0,1.0,2.0,12.0,10.0,1.0,8.0,4.0,null,8.0,5.0,6.0,3.0,3.0,3.0,2.0,null,6.0,5.0,8.0,5.0,20.0,2.0,5.0,8.0,10.0,8.0,null,4.0,2.0,4.0,6.0,4.0,1.0,null,null,1.0,2.0,2.0,2.0,2.0,8.0,5.0,5.0,3.0,2.0,10.0,5.0,8.0,5.0,8.0,2.0,2.0,8.0,2.0,6.0,20.0,3.0,7.0,5.0,5.0,5.0,8.0,20.0,1.0,10.0,5.0,1.0,10.0,8.0,2.0,null,null,4.0,2.0,null,null,0.0,1.0,2.0,2.0,8.0,4.0,6.0,1.0,2.0,10.0,4.0,6.0,4.0,6.0,null,4.0,3.0,20.0,null,null,1.0,null,8.0,null,null,5.0,10.0,1.0,2.0,5.0,2.0,3.0,6.0,4.0,5.0,5.0,null,8.0,5.0,5.0,6.0,1.0,2.0,1.0,6.0,null,5.0,15.0,10.0,null,2.0,1.0,4.0,1.0,5.0,5.0,2.0,4.0,5.0,null,10.0,4.0,2.0,1.0,5.0,4.0,5.0,null,10.0,5.0,null,1.0,15.0,5.0,1.0,3.0,4.0,4.0,3.0,2.0,40.0,4.0,10.0,6.0,8.0,5.0,2.0,null,null,4.0,10.0,null,1.0,5.0,3.0,3.0,3.0,1.0,5.0,5.0,3.0,3.0,2.0,2.0,2.0,null,2.0,2.0,null,5.0,2.0,8.0,2.0,3.0,null,null,null,6.0,null,4.0,1.0,1.0,8.0,10.0,5.0,2.0,10.0,7.0,null,4.0,6.0,2.0,5.0,1.0,null,2.0,3.0,30.0,null,4.0,null,5.0,2.0,1.0,5.0,5.0,4.0,2.0,3.0,3.0,2.0,6.0,5.0,5.0,10.0,2.0,null,15.0,2.0,6.0,null,null,1.0,2.0,2.0,5.0,1.0,4.0,null,null,10.0,5.0,1.0,1.0,15.0,3.0,2.0,2.0,2.0,null,5.0,5.0,4.0,null,5.0,2.0,null,6.0,2.0,5.0,2.0,8.0,null,null,6.0,null,3.0,null,4.0,3.0,4.0,3.0,4.0,2.0,2.0,3.0,10.0,6.0,null,2.0,null,5.0,null,5.0,2.0,1.0,null,null,null,4.0,1.0,8.0,2.0,1.0,15.0,2.0,5.0,10.0,2.0,5.0,6.0,5.0,2.0,null,2.0,3.0,2.0,5.0,null,5.0,10.0,2.0,5.0,10.0,6.0,7.0,5.0,null,null,5.0,2.0,2.0,2.0,6.0,3.0,15.0,null,4.0,null,5.0,null,null,1.0,3.0,5.0,3.0,4.0,2.0,6.0,1.0,2.0,2.0,5.0,null,3.0,10.0,2.0,8.0,2.0,4.0,2.0,5.0,null,null,null,5.0,2.0,null,null,null,1.0,4.0,null,1.0,null,5.0,4.0,1.0,10.0,4.0,4.0,3.0,1.0,3.0,null,null,null,null,5.0,10.0,3.0,1.0,3.0,1.0,10.0,2.0,null,8.0,1.0,2.0,4.0,1.0,2.0,2.0,null,5.0,2.0,null,3.0,2.0,14.0,4.0,8.0,8.0,null,null,2.0,1.0,4.0,8.0,3.0,4.0,2.0,99.0,5.0,2.0,5.0,2.0,4.0,null,4.0,3.0,1.0,5.0,5.0,3.0,5.0,6.0,10.0,5.0,5.0,2.0,null,1.0,5.0,2.0,1.0,null,6.0,null,3.0,10.0,1.0,null,10.0,3.0,2.0,8.0,4.0,8.0,3.0,50.0,5.0,4.0,6.0,4.0,6.0,10.0,4.0,null,5.0,1.0,2.0,4.0,7.0,null,null,3.0,null,2.0,2.0,2.0,3.0,null,4.0,2.0,5.0,5.0,2.0,4.0,2.0,5.0,4.0,5.0,8.0,null,2.0,null,null,null,1.0,null,5.0,5.0,2.0,1.0,null,2.0,12.0,8.0,5.0,4.0,40.0,4.0,5.0,3.0,2.0,null,4.0,10.0,2.0,6.0,5.0,7.0,null,null,4.0,5.0,5.0,1.0,10.0,2.0,1.0,25.0,2.0,2.0,1.0,5.0,3.0,3.0,5.0,10.0,2.0,4.0,null,1.0,null,null,2.5,10.0,2.0,null,3.0,3.0,null,4.0,10.0,3.0,4.0,null,null,null,2.0,10.0,10.0,2.0,3.0,10.0,10.0,null,4.0,null,10.0,null,4.0,1.0,5.0,4.0,90.0,5.0,null,4.0,null,null,5.0,null,3.0,10.0,null,5.0,4.0,2.0,4.0,2.0,3.0,5.0,20.0,9.0,4.0,5.0,2.0,4.0,null,null,5.0,2.0,3.0,8.0,10.0,null,5.0,5.0,2.0,10.0,2.0,null,3.0,3.0,5.0,1.0,5.0,null,4.0,null,2.0,3.0,10.0,null,null,5.0,10.0,null,5.0,10.0,2.0,1.0,null,1.0,7.0,null,null,8.0,5.0,2.0,6.0,1.0,2.0,5.0,3.0,1.0,null,4.0,2.0,4.0,2.0,null,4.0,5.0,10.0,null,1.5,4.0,3.0,10.0,null,null,4.0,null,5.0,10.0,4.0,2.0,null,5.0,null,2.0,4.0,5.0,4.0,10.0,2.0,null,null,null,null,20.0,5.0,null,4.0,4.0,4.0,5.0,null,3.0,1.0,2.0,1.0,2.0,null,6.0,5.0,5.0,2.0,2.0,5.0,1.0,3.0,1.0,5.0,2.0,3.0,null,10.0,null,5.0,10.0,null,5.0,1.0,6.0,1.0,5.0,2.0,3.0,3.0,null,3.0,4.0,10.0,15.0,4.0,10.0,10.0,2.0,2.0,2.0,4.0,null,8.0,1.0,5.0,null,25.0,3.0,5.0,5.0,null,null,4.0,1.0,3.0,3.0,2.0,5.0,4.0,8.0,1.0,2.0,null,4.0,4.0,4.0,2.0,3.0,8.0,5.0,4.0,2.0,6.0,8.0,null,null,10.0,3.0,null,5.0,8.0,3.0,2.0,10.0,15.0,5.0,2.0,5.0,4.0,9.0,10.0,10.0,1.5,2.0,null,4.0,null,null,8.0,4.0,2.0,2.0,2.0,null,1.0,1.0,3.0,null,0.5,1.0,6.0,1.0,14.0,4.0,6.0,8.0,null,4.0,2.0,null,5.0,null,1.0,3.0,5.0,10.0,10.0,4.0,3.0,3.0,null,null,null,5.0,2.0,2.0,8.0,null,2.0,3.0,2.0,null,null,null,8.0,10.0,2.0,5.0,2.0,null,4.0,null,2.0,5.0,null,5.0,4.0,4.0,1.5,3.0,4.0,2.0,20.0,null,2.0,2.0,null,25.0,6.0,2.0,4.0,3.0,null,null,2.0,3.0,4.0,2.0,4.0,5.0,3.0,3.0,15.0,null,2.0,5.0,5.0,3.0,3.0,null,6.0,3.0,1.0,4.0,null,null,12.0,2.0,5.0,2.0,null,6.0,1.0,8.0,null,null,null,null,3.0,20.0,5.0,null,10.0,5.0,8.0,null,5.0,null,null,12.0,null,null,4.0,5.0,2.0,4.0,5.0,2.0,2.0,10.0,4.0,null,4.0,10.0,1.0,8.0,5.0,7.0,6.0,6.0,4.0,5.0,1.0,1.0,5.0,null,null,null,null,5.0,4.0,5.0,null,3.0,2.0,2.0,3.0,8.0,4.0,20.0,15.0,null,null,1.0,12.0,null,null,7.0,1.0,5.0,10.0,1.0,15.0,5.0,5.0,null,10.0,8.0,null,8.0,1.0,3.0,null,3.0,10.0,5.0,5.0,2.0,5.0,3.0,4.0,2.0,4.0,4.0,8.0,3.0,5.0,3.0,1.0,null,4.0,10.0,3.0,10.0,4.0,5.0,3.0,5.0,10.0,3.0,null,5.0,15.0,6.0,3.0,null,10.0,10.0,4.0,5.0,5.0,8.0,3.0,16.0,2.0,null,1.0,1.0,1.0,2.0,4.0,4.0,null,3.0,6.0,2.0,5.0,null,null,null,3.0,20.0,null,null,3.0,8.0,12.0,5.0,4.0,2.0,3.0,1.0,5.0,1.0,10.0,1.5,null,5.0,30.0,4.0,8.0,6.0,3.0,3.0,2.0,1.0,1.0,0.0,8.0,12.0,3.0,8.0,8.0,4.0,4.0,null,3.0,5.0,2.0,4.0,3.0,null,6.0,3.0,1.0,1.0,54.0,4.0,5.0,null,6.0,null,5.0,null,10.0,null,8.0,10.0,5.0,3.0,6.0,10.0,null,null,null,5.0,null,3.0,3.0,3.0,3.0,5.0,10.0,4.0,2.0,2.0,2.0,2.0,6.0,5.0,4.0,4.0,8.0,5.0,15.0,2.0,1.0,0.5,5.0,8.0,2.0,null,null,4.0,2.0,2.0,null,3.0,6.0,null,28.0,2.0,20.0,8.0,3.0,2.0,1.0,1.0,1.0,5.0,5.0,5.0,null,null,10.0,5.0,5.0,2.0,1.0,5.0,3.0,null,7.0,0.5,2.0,2.0,5.0,2.0,2.0,5.0,1.0,2.0,10.0,2.0,10.0,5.0,8.0,3.0,4.0,3.0,3.0,8.0,7.0,12.0,4.0,3.0,null,2.0,6.0,null,3.0,5.0,5.0,1.0,null,null,4.0,2.0,5.0,5.0,null,1.0,1.0,3.0,5.0,null,5.0,null,4.0,3.0,2.0,5.0,null,2.0,3.0,2.0,5.0,4.0,5.0,3.0,6.0,5.0,null,2.0,3.0,4.0,null,2.0,5.0,2.0,2.0,null,4.0,5.0,10.0,10.0,null,2.0,4.0,3.0,3.0,null,3.0,1.0,null,1.0,null,null,4.0,2.0,8.0,3.0,1.0,5.0,null,null,2.0,1.0,1.0,null,5.0,8.0,4.0,10.0,5.0,5.0,3.0,15.0,3.0,5.0,null,2.0,5.0,2.0,5.0,20.0,null,null,null,null,15.0,2.0,null,2.0,2.0,null,5.0,3.0,5.0,null,8.0,1.0,30.0,10.0,2.0,null,10.0,5.0,3.0,2.0,5.0,2.0,4.0,20.0,5.0,3.0,5.0,2.0,null,null,3.0,2.0,null,2.0,null,null,2.0,5.0,null,8.0,1.0,null,8.0,4.0,2.0,2.0,null,1.0,4.0,null,3.0,8.0,6.0,4.0,2.0,10.0,5.0,5.0,null,3.0,null,null,2.0,1.0,2.0,2.0,2.0,null,3.0,3.0,5.0,null,5.0,5.0,2.0,5.0,null,1.0,15.0,2.0,3.0,5.0,2.0,3.0,null,2.0,2.0,8.0,null,3.0,2.0,null,2.0,0.0,20.0,null,4.0,30.0,3.0,5.0,1.0,null,15.0,2.0,3.0,1.0,5.0,3.0,3.0,5.0,3.0,16.0,2.0,2.0,2.0,8.0,2.0,3.0,2.0,5.0,5.0,10.0,3.0,5.0,4.0,null,4.0,null,null,2.0,1.0,10.0,6.0,2.0,4.0,null,1.0,5.0,4.0,8.0,3.0,4.0,4.0,8.0,4.0,null,3.0,5.0,1.0,null,null,10.0,10.0,1.0,2.0,5.0,4.0,4.0,3.0,4.0,5.0,null,5.0,2.0,4.0,5.0,2.0,2.0,2.0,null,4.0,2.0,null,2.0,5.0,null,1.0,5.0,2.0,5.0,2.0,2.0,3.0,null,1.0,null,null,2.0,null,4.0,1.0,null,5.0,null,null,null,3.0,20.0,null,null,3.0,2.0,1.0,null,6.0,3.0,null,null,9.0,2.0,6.0,null,null,2.0,2.0,10.0,4.0,5.0,7.0,null,1.0,5.0,5.0,3.0,4.0,2.0,3.0,2.5,2.0,4.0,null,2.0,3.0,2.0,1.0,null,5.0,4.0,5.0,1.0,4.0,null,1.0,4.0,null,null,4.0,null,5.0,null,null,2.0,3.0,4.0,null,8.0,null,5.0,null,null,4.0,5.0,4.0,2.0,4.0,2.0,1.0,null,2.0,null,null,2.0,3.0,8.0,null,3.0,3.0,2.0,3.0,2.0,10.0,8.0,null,5.0,8.0,6.0,3.0,5.0,null,2.0,3.0,null,null,1.0,5.0,1.0,6.0,5.0,1.0,52.0,2.0,2.0,2.0,10.0,2.0,5.0,null,8.0,2.0,null,3.0,5.0,null,null,10.0,1.0,null,2.0,4.0,4.0,null,3.0,3.0,4.0,2.0,4.0,2.0,5.0,5.0,4.0,null,5.0,2.0,5.0,10.0,13.0,null,5.0,5.0,null,2.0,1.0,null,1.0,5.0,null,4.0,5.0,3.0,null,10.0,5.0,3.0,7.0,2.0,4.0,8.0,5.0,5.0,4.0,null,null,7.0,6.0,2.0,3.0,null,20.0,5.0,2.0,5.0,3.0,null,2.0,2.0,null,null,10.0,6.0,null,null,3.0,null,3.0,10.0,8.0,1.0,null,6.0,10.0,2.0,null,15.0,5.0,15.0,1.0,2.0,null,5.0,5.0,6.0,4.0,null,null,5.0,10.0,null,3.0,null,null,1.0,10.0,10.0,3.0,null,2.0,3.0,5.0,null,5.0,2.0,10.0,null,2.0,1.0,0.5,10.0,1.0,5.0,2.0,5.0,12.0,4.0,15.0,1.0,5.0,2.0,3.0,3.0,2.0,5.0,null,3.0,10.0,10.0,null,8.0,8.0,4.0,null,2.0,4.0,3.0,8.0,6.0,4.0,null,10.0,null,4.0,5.0,null,5.0,4.0,2.0,null,null,null,5.0,null,null,5.0,1.0,8.0,null,null,null,1.0,null,null,6.0,2.0,5.0,6.0,6.0,5.0,5.0,1.0,5.0,null,null,2.0,null,2.0,null,1.0,null,null,5.0,1.0,6.0,null,1.0,2.0,null,null,4.0,0.0,3.0,1.0,2.0,2.0,4.0,1.0,15.0,2.0,3.0,null,1.0,10.0,4.0,4.0,8.0,5.0,6.0,5.0,4.0,2.0,3.0,4.0,2.0,14.0,2.0,8.0,2.0,10.0,3.0,3.0,1.0,8.0,3.0,5.0,4.0,6.0,null,6.0,1.0,4.0,20.0,4.0,8.0,6.0,2.0,3.0,null,1.0,4.0,4.0,5.0,4.0,10.0,2.0,null,2.0,20.0,null,2.0,2.0,4.0,15.0,null,3.0,5.0,3.0,2.0,5.0,1.0,3.0,null,null,2.0,2.0,5.0,5.0,2.0,2.0,3.0,15.0,3.0,null,2.0,null,8.0,3.0,10.0,2.0,6.0,3.0,null,4.0,1.0,2.0,8.0,6.0,3.0,15.0,2.0,3.0,4.0,null,8.0,3.0,5.0,null,4.0,4.0,null,5.0,null,null,1.0,null,2.0,5.0,6.0,5.0,4.0,5.0,10.0,4.0,5.0,4.0,null,4.0,4.0,null,15.0,2.0,null,3.0,null,10.0,2.0,3.0,null,1.0,5.0,5.0,10.0,1.0,5.0,2.0,null,4.0,3.0,4.0,5.0,null,5.0,2.0,5.0,4.0,null,3.0,10.0,5.0,3.0,6.0,10.0,20.0,2.0,null,null,2.0,null,4.0,null,2.0,1.0,5.0,5.0,4.0,1.0,null,null,2.0,2.0,null,null,0.5,6.0,3.0,2.0,2.0,3.0,null,3.0,2.0,2.0,null,8.0,null,2.0,7.0,2.0,2.0,6.0,4.0,null,20.0,5.0,1.0,7.0,null,5.0,5.0,null,2.0,null,6.0,3.0,null,2.0,1.0,6.0,10.0,8.0,3.0,1.0,null,10.0,5.0,3.0,5.0,1.0,3.0,5.0,6.0,4.0,1.0,2.0,2.0,null,3.0,1.0,5.0,null,6.0,null,3.0,2.0,1.0,4.0,2.0,4.0,null,8.0,null,8.0,0.01,5.0,10.0,null,5.0,4.0,null,null,1.0,4.0,2.0,10.0,4.0,4.0,10.0,null,null,null,2.0,5.0,null,5.0,null,null,4.0,null,null,5.0,null,6.0,10.0,null,4.0,null,5.0,5.0,40.0,null,2.0,8.0,0.0,1.0,3.0,8.0,2.0,2.0,4.0,5.0,6.0,null,10.0,1.0,5.0,3.0,3.0,4.0,3.0,null,null,null,3.0,8.0,1.0,2.0,3.0,4.0,8.0,2.0,2.0,null,null,2.0,5.0,5.0,2.0,3.0,8.0,2.0,null,5.0,5.0,2.0,3.0,null,3.0,5.0,2.0,5.0,1.0,3.0,null,null,8.0,6.0,5.0,3.0,1.0,1.0,1.0,5.0,5.0,20.0,4.0,4.0,3.0,2.0,1.0,2.0,2.0,5.0,4.0,null,2.0,1.0,2.0,3.0,2.0,1.0,null,null,10.0,1.0,null,null,null,7.0,15.0,5.0,15.0,null,3.0,null,null,2.0,5.0,5.0,3.0,1.0,null,null,null,3.0,8.0,null,null,1.0,5.0,3.0,8.0,3.0,null,2.0,null,null,4.0,2.0,5.0,2.0,null,2.0,5.0,1.0,8.0,7.0,3.0,20.0,8.0,2.0,2.0,2.0,1.0,null,10.0,10.0,5.0,5.0,4.0,25.0,4.0,null,null,3.0,null,5.0,2.0,3.0,5.0,4.0,6.0,null,null,1.0,5.0,5.0,6.0,5.0,3.0,2.0,null,4.0,5.0,null,14.0,5.0,8.0,1.0,5.0,1.0,3.0,3.0,3.0,5.0,4.0,3.0,10.0,4.0,null,null,1.0,5.0,4.0,3.0,1.0,null,5.0,1.0,null,1.0,4.0,2.0,3.0,2.0,2.0,2.0,2.0,null,2.0,4.0,1.0,2.0,4.0,3.0,12.0,3.0,null,8.0,4.0,5.0,4.0,5.0,10.0,6.0,20.0,4.0,1.0,2.0,null,4.0,4.0,null,null,null,8.0,5.0,4.0,null,2.0,10.0,4.0,null,10.0,1.0,5.0,null,2.0,2.0,3.0,0.5,2.0,2.0,2.0,2.0,1.0,5.0,1.0,7.0,null,null,5.0,null,null,5.0,7.0,null,1.0,null,3.0,2.0,null,null,5.0,2.0,5.0,2.0,4.0,4.0,4.0,null,10.0,10.0,2.0,3.0,null,5.0,3.0,null,2.0,8.0,5.0,2.0,8.0,8.0,10.0,4.0,7.0,8.0,null,5.0,4.0,5.0,null,4.0,8.0,2.0,5.0,7.0,5.0,null,4.0,2.0,null,4.0,2.0,4.0,2.0,2.0,5.0,null,7.0,2.0,14.0,null,5.0,5.0,2.0,1.0],\"yaxis\":\"y\",\"type\":\"scattergl\"}],                        {\"template\":{\"data\":{\"histogram2dcontour\":[{\"type\":\"histogram2dcontour\",\"colorbar\":{\"outlinewidth\":0,\"ticks\":\"\"},\"colorscale\":[[0.0,\"#0d0887\"],[0.1111111111111111,\"#46039f\"],[0.2222222222222222,\"#7201a8\"],[0.3333333333333333,\"#9c179e\"],[0.4444444444444444,\"#bd3786\"],[0.5555555555555556,\"#d8576b\"],[0.6666666666666666,\"#ed7953\"],[0.7777777777777778,\"#fb9f3a\"],[0.8888888888888888,\"#fdca26\"],[1.0,\"#f0f921\"]]}],\"choropleth\":[{\"type\":\"choropleth\",\"colorbar\":{\"outlinewidth\":0,\"ticks\":\"\"}}],\"histogram2d\":[{\"type\":\"histogram2d\",\"colorbar\":{\"outlinewidth\":0,\"ticks\":\"\"},\"colorscale\":[[0.0,\"#0d0887\"],[0.1111111111111111,\"#46039f\"],[0.2222222222222222,\"#7201a8\"],[0.3333333333333333,\"#9c179e\"],[0.4444444444444444,\"#bd3786\"],[0.5555555555555556,\"#d8576b\"],[0.6666666666666666,\"#ed7953\"],[0.7777777777777778,\"#fb9f3a\"],[0.8888888888888888,\"#fdca26\"],[1.0,\"#f0f921\"]]}],\"heatmap\":[{\"type\":\"heatmap\",\"colorbar\":{\"outlinewidth\":0,\"ticks\":\"\"},\"colorscale\":[[0.0,\"#0d0887\"],[0.1111111111111111,\"#46039f\"],[0.2222222222222222,\"#7201a8\"],[0.3333333333333333,\"#9c179e\"],[0.4444444444444444,\"#bd3786\"],[0.5555555555555556,\"#d8576b\"],[0.6666666666666666,\"#ed7953\"],[0.7777777777777778,\"#fb9f3a\"],[0.8888888888888888,\"#fdca26\"],[1.0,\"#f0f921\"]]}],\"heatmapgl\":[{\"type\":\"heatmapgl\",\"colorbar\":{\"outlinewidth\":0,\"ticks\":\"\"},\"colorscale\":[[0.0,\"#0d0887\"],[0.1111111111111111,\"#46039f\"],[0.2222222222222222,\"#7201a8\"],[0.3333333333333333,\"#9c179e\"],[0.4444444444444444,\"#bd3786\"],[0.5555555555555556,\"#d8576b\"],[0.6666666666666666,\"#ed7953\"],[0.7777777777777778,\"#fb9f3a\"],[0.8888888888888888,\"#fdca26\"],[1.0,\"#f0f921\"]]}],\"contourcarpet\":[{\"type\":\"contourcarpet\",\"colorbar\":{\"outlinewidth\":0,\"ticks\":\"\"}}],\"contour\":[{\"type\":\"contour\",\"colorbar\":{\"outlinewidth\":0,\"ticks\":\"\"},\"colorscale\":[[0.0,\"#0d0887\"],[0.1111111111111111,\"#46039f\"],[0.2222222222222222,\"#7201a8\"],[0.3333333333333333,\"#9c179e\"],[0.4444444444444444,\"#bd3786\"],[0.5555555555555556,\"#d8576b\"],[0.6666666666666666,\"#ed7953\"],[0.7777777777777778,\"#fb9f3a\"],[0.8888888888888888,\"#fdca26\"],[1.0,\"#f0f921\"]]}],\"surface\":[{\"type\":\"surface\",\"colorbar\":{\"outlinewidth\":0,\"ticks\":\"\"},\"colorscale\":[[0.0,\"#0d0887\"],[0.1111111111111111,\"#46039f\"],[0.2222222222222222,\"#7201a8\"],[0.3333333333333333,\"#9c179e\"],[0.4444444444444444,\"#bd3786\"],[0.5555555555555556,\"#d8576b\"],[0.6666666666666666,\"#ed7953\"],[0.7777777777777778,\"#fb9f3a\"],[0.8888888888888888,\"#fdca26\"],[1.0,\"#f0f921\"]]}],\"mesh3d\":[{\"type\":\"mesh3d\",\"colorbar\":{\"outlinewidth\":0,\"ticks\":\"\"}}],\"scatter\":[{\"fillpattern\":{\"fillmode\":\"overlay\",\"size\":10,\"solidity\":0.2},\"type\":\"scatter\"}],\"parcoords\":[{\"type\":\"parcoords\",\"line\":{\"colorbar\":{\"outlinewidth\":0,\"ticks\":\"\"}}}],\"scatterpolargl\":[{\"type\":\"scatterpolargl\",\"marker\":{\"colorbar\":{\"outlinewidth\":0,\"ticks\":\"\"}}}],\"bar\":[{\"error_x\":{\"color\":\"#2a3f5f\"},\"error_y\":{\"color\":\"#2a3f5f\"},\"marker\":{\"line\":{\"color\":\"#E5ECF6\",\"width\":0.5},\"pattern\":{\"fillmode\":\"overlay\",\"size\":10,\"solidity\":0.2}},\"type\":\"bar\"}],\"scattergeo\":[{\"type\":\"scattergeo\",\"marker\":{\"colorbar\":{\"outlinewidth\":0,\"ticks\":\"\"}}}],\"scatterpolar\":[{\"type\":\"scatterpolar\",\"marker\":{\"colorbar\":{\"outlinewidth\":0,\"ticks\":\"\"}}}],\"histogram\":[{\"marker\":{\"pattern\":{\"fillmode\":\"overlay\",\"size\":10,\"solidity\":0.2}},\"type\":\"histogram\"}],\"scattergl\":[{\"type\":\"scattergl\",\"marker\":{\"colorbar\":{\"outlinewidth\":0,\"ticks\":\"\"}}}],\"scatter3d\":[{\"type\":\"scatter3d\",\"line\":{\"colorbar\":{\"outlinewidth\":0,\"ticks\":\"\"}},\"marker\":{\"colorbar\":{\"outlinewidth\":0,\"ticks\":\"\"}}}],\"scattermapbox\":[{\"type\":\"scattermapbox\",\"marker\":{\"colorbar\":{\"outlinewidth\":0,\"ticks\":\"\"}}}],\"scatterternary\":[{\"type\":\"scatterternary\",\"marker\":{\"colorbar\":{\"outlinewidth\":0,\"ticks\":\"\"}}}],\"scattercarpet\":[{\"type\":\"scattercarpet\",\"marker\":{\"colorbar\":{\"outlinewidth\":0,\"ticks\":\"\"}}}],\"carpet\":[{\"aaxis\":{\"endlinecolor\":\"#2a3f5f\",\"gridcolor\":\"white\",\"linecolor\":\"white\",\"minorgridcolor\":\"white\",\"startlinecolor\":\"#2a3f5f\"},\"baxis\":{\"endlinecolor\":\"#2a3f5f\",\"gridcolor\":\"white\",\"linecolor\":\"white\",\"minorgridcolor\":\"white\",\"startlinecolor\":\"#2a3f5f\"},\"type\":\"carpet\"}],\"table\":[{\"cells\":{\"fill\":{\"color\":\"#EBF0F8\"},\"line\":{\"color\":\"white\"}},\"header\":{\"fill\":{\"color\":\"#C8D4E3\"},\"line\":{\"color\":\"white\"}},\"type\":\"table\"}],\"barpolar\":[{\"marker\":{\"line\":{\"color\":\"#E5ECF6\",\"width\":0.5},\"pattern\":{\"fillmode\":\"overlay\",\"size\":10,\"solidity\":0.2}},\"type\":\"barpolar\"}],\"pie\":[{\"automargin\":true,\"type\":\"pie\"}]},\"layout\":{\"autotypenumbers\":\"strict\",\"colorway\":[\"#636efa\",\"#EF553B\",\"#00cc96\",\"#ab63fa\",\"#FFA15A\",\"#19d3f3\",\"#FF6692\",\"#B6E880\",\"#FF97FF\",\"#FECB52\"],\"font\":{\"color\":\"#2a3f5f\"},\"hovermode\":\"closest\",\"hoverlabel\":{\"align\":\"left\"},\"paper_bgcolor\":\"white\",\"plot_bgcolor\":\"#E5ECF6\",\"polar\":{\"bgcolor\":\"#E5ECF6\",\"angularaxis\":{\"gridcolor\":\"white\",\"linecolor\":\"white\",\"ticks\":\"\"},\"radialaxis\":{\"gridcolor\":\"white\",\"linecolor\":\"white\",\"ticks\":\"\"}},\"ternary\":{\"bgcolor\":\"#E5ECF6\",\"aaxis\":{\"gridcolor\":\"white\",\"linecolor\":\"white\",\"ticks\":\"\"},\"baxis\":{\"gridcolor\":\"white\",\"linecolor\":\"white\",\"ticks\":\"\"},\"caxis\":{\"gridcolor\":\"white\",\"linecolor\":\"white\",\"ticks\":\"\"}},\"coloraxis\":{\"colorbar\":{\"outlinewidth\":0,\"ticks\":\"\"}},\"colorscale\":{\"sequential\":[[0.0,\"#0d0887\"],[0.1111111111111111,\"#46039f\"],[0.2222222222222222,\"#7201a8\"],[0.3333333333333333,\"#9c179e\"],[0.4444444444444444,\"#bd3786\"],[0.5555555555555556,\"#d8576b\"],[0.6666666666666666,\"#ed7953\"],[0.7777777777777778,\"#fb9f3a\"],[0.8888888888888888,\"#fdca26\"],[1.0,\"#f0f921\"]],\"sequentialminus\":[[0.0,\"#0d0887\"],[0.1111111111111111,\"#46039f\"],[0.2222222222222222,\"#7201a8\"],[0.3333333333333333,\"#9c179e\"],[0.4444444444444444,\"#bd3786\"],[0.5555555555555556,\"#d8576b\"],[0.6666666666666666,\"#ed7953\"],[0.7777777777777778,\"#fb9f3a\"],[0.8888888888888888,\"#fdca26\"],[1.0,\"#f0f921\"]],\"diverging\":[[0,\"#8e0152\"],[0.1,\"#c51b7d\"],[0.2,\"#de77ae\"],[0.3,\"#f1b6da\"],[0.4,\"#fde0ef\"],[0.5,\"#f7f7f7\"],[0.6,\"#e6f5d0\"],[0.7,\"#b8e186\"],[0.8,\"#7fbc41\"],[0.9,\"#4d9221\"],[1,\"#276419\"]]},\"xaxis\":{\"gridcolor\":\"white\",\"linecolor\":\"white\",\"ticks\":\"\",\"title\":{\"standoff\":15},\"zerolinecolor\":\"white\",\"automargin\":true,\"zerolinewidth\":2},\"yaxis\":{\"gridcolor\":\"white\",\"linecolor\":\"white\",\"ticks\":\"\",\"title\":{\"standoff\":15},\"zerolinecolor\":\"white\",\"automargin\":true,\"zerolinewidth\":2},\"scene\":{\"xaxis\":{\"backgroundcolor\":\"#E5ECF6\",\"gridcolor\":\"white\",\"linecolor\":\"white\",\"showbackground\":true,\"ticks\":\"\",\"zerolinecolor\":\"white\",\"gridwidth\":2},\"yaxis\":{\"backgroundcolor\":\"#E5ECF6\",\"gridcolor\":\"white\",\"linecolor\":\"white\",\"showbackground\":true,\"ticks\":\"\",\"zerolinecolor\":\"white\",\"gridwidth\":2},\"zaxis\":{\"backgroundcolor\":\"#E5ECF6\",\"gridcolor\":\"white\",\"linecolor\":\"white\",\"showbackground\":true,\"ticks\":\"\",\"zerolinecolor\":\"white\",\"gridwidth\":2}},\"shapedefaults\":{\"line\":{\"color\":\"#2a3f5f\"}},\"annotationdefaults\":{\"arrowcolor\":\"#2a3f5f\",\"arrowhead\":0,\"arrowwidth\":1},\"geo\":{\"bgcolor\":\"white\",\"landcolor\":\"#E5ECF6\",\"subunitcolor\":\"white\",\"showland\":true,\"showlakes\":true,\"lakecolor\":\"white\"},\"title\":{\"x\":0.05},\"mapbox\":{\"style\":\"light\"}}},\"xaxis\":{\"anchor\":\"y\",\"domain\":[0.0,1.0],\"title\":{\"text\":\"WorkWeekHrs\"},\"type\":\"log\"},\"yaxis\":{\"anchor\":\"x\",\"domain\":[0.0,1.0],\"title\":{\"text\":\"CodeRevHrs\"}},\"legend\":{\"tracegroupgap\":0},\"margin\":{\"t\":60}},                        {\"responsive\": true}                    ).then(function(){\n",
              "                            \n",
              "var gd = document.getElementById('1680c93c-2d26-4198-ac97-dd1ba9302310');\n",
              "var x = new MutationObserver(function (mutations, observer) {{\n",
              "        var display = window.getComputedStyle(gd).display;\n",
              "        if (!display || display === 'none') {{\n",
              "            console.log([gd, 'removed!']);\n",
              "            Plotly.purge(gd);\n",
              "            observer.disconnect();\n",
              "        }}\n",
              "}});\n",
              "\n",
              "// Listen for the removal of the full notebook cells\n",
              "var notebookContainer = gd.closest('#notebook-container');\n",
              "if (notebookContainer) {{\n",
              "    x.observe(notebookContainer, {childList: true});\n",
              "}}\n",
              "\n",
              "// Listen for the clearing of the current output cell\n",
              "var outputEl = gd.closest('.output');\n",
              "if (outputEl) {{\n",
              "    x.observe(outputEl, {childList: true});\n",
              "}}\n",
              "\n",
              "                        })                };                            </script>        </div>\n",
              "</body>\n",
              "</html>"
            ]
          },
          "metadata": {}
        }
      ]
    },
    {
      "cell_type": "markdown",
      "metadata": {
        "id": "rK7MA7V2T1gB"
      },
      "source": [
        "## Visualizing composition of data\n"
      ]
    },
    {
      "cell_type": "markdown",
      "metadata": {
        "id": "2y8V_KohT1gB"
      },
      "source": [
        "### Pie Charts\n"
      ]
    },
    {
      "cell_type": "markdown",
      "metadata": {
        "id": "a3UxieFXT1gB"
      },
      "source": [
        "Create a pie chart of the top 5 databases that respondents wish to learn next year. Label the pie chart with database names. Display percentages of each database on the pie chart.\n"
      ]
    },
    {
      "cell_type": "code",
      "execution_count": 14,
      "metadata": {
        "id": "2U-UhBjsT1gB",
        "colab": {
          "base_uri": "https://localhost:8080/",
          "height": 467
        },
        "outputId": "b1f29fe2-808e-47fe-907c-e7b8ca384803"
      },
      "outputs": [
        {
          "output_type": "error",
          "ename": "DatabaseError",
          "evalue": "ignored",
          "traceback": [
            "\u001b[0;31m---------------------------------------------------------------------------\u001b[0m",
            "\u001b[0;31mOperationalError\u001b[0m                          Traceback (most recent call last)",
            "\u001b[0;32m/usr/local/lib/python3.9/dist-packages/pandas/io/sql.py\u001b[0m in \u001b[0;36mexecute\u001b[0;34m(self, *args, **kwargs)\u001b[0m\n\u001b[1;32m   2022\u001b[0m         \u001b[0;32mtry\u001b[0m\u001b[0;34m:\u001b[0m\u001b[0;34m\u001b[0m\u001b[0;34m\u001b[0m\u001b[0m\n\u001b[0;32m-> 2023\u001b[0;31m             \u001b[0mcur\u001b[0m\u001b[0;34m.\u001b[0m\u001b[0mexecute\u001b[0m\u001b[0;34m(\u001b[0m\u001b[0;34m*\u001b[0m\u001b[0margs\u001b[0m\u001b[0;34m,\u001b[0m \u001b[0;34m**\u001b[0m\u001b[0mkwargs\u001b[0m\u001b[0;34m)\u001b[0m\u001b[0;34m\u001b[0m\u001b[0;34m\u001b[0m\u001b[0m\n\u001b[0m\u001b[1;32m   2024\u001b[0m             \u001b[0;32mreturn\u001b[0m \u001b[0mcur\u001b[0m\u001b[0;34m\u001b[0m\u001b[0;34m\u001b[0m\u001b[0m\n",
            "\u001b[0;31mOperationalError\u001b[0m: no such column: DatabaseDesireNextYear",
            "\nThe above exception was the direct cause of the following exception:\n",
            "\u001b[0;31mDatabaseError\u001b[0m                             Traceback (most recent call last)",
            "\u001b[0;32m<ipython-input-14-cd1255a25d91>\u001b[0m in \u001b[0;36m<module>\u001b[0;34m\u001b[0m\n\u001b[1;32m      3\u001b[0m \u001b[0mSELECT\u001b[0m \u001b[0mDatabaseDesireNextYear\u001b[0m \u001b[0mFROM\u001b[0m \u001b[0mmaster\u001b[0m\u001b[0;34m\u001b[0m\u001b[0;34m\u001b[0m\u001b[0m\n\u001b[1;32m      4\u001b[0m \"\"\"\n\u001b[0;32m----> 5\u001b[0;31m \u001b[0mdb_desired_next_year\u001b[0m \u001b[0;34m=\u001b[0m \u001b[0mpd\u001b[0m\u001b[0;34m.\u001b[0m\u001b[0mread_sql_query\u001b[0m\u001b[0;34m(\u001b[0m\u001b[0mQUERY\u001b[0m\u001b[0;34m,\u001b[0m \u001b[0mconn\u001b[0m\u001b[0;34m)\u001b[0m\u001b[0;34m\u001b[0m\u001b[0;34m\u001b[0m\u001b[0m\n\u001b[0m\u001b[1;32m      6\u001b[0m \u001b[0;34m\u001b[0m\u001b[0m\n\u001b[1;32m      7\u001b[0m db_desired_next_year.plot(kind='pie',\n",
            "\u001b[0;32m/usr/local/lib/python3.9/dist-packages/pandas/io/sql.py\u001b[0m in \u001b[0;36mread_sql_query\u001b[0;34m(sql, con, index_col, coerce_float, params, parse_dates, chunksize, dtype)\u001b[0m\n\u001b[1;32m    398\u001b[0m     \"\"\"\n\u001b[1;32m    399\u001b[0m     \u001b[0mpandas_sql\u001b[0m \u001b[0;34m=\u001b[0m \u001b[0mpandasSQL_builder\u001b[0m\u001b[0;34m(\u001b[0m\u001b[0mcon\u001b[0m\u001b[0;34m)\u001b[0m\u001b[0;34m\u001b[0m\u001b[0;34m\u001b[0m\u001b[0m\n\u001b[0;32m--> 400\u001b[0;31m     return pandas_sql.read_query(\n\u001b[0m\u001b[1;32m    401\u001b[0m         \u001b[0msql\u001b[0m\u001b[0;34m,\u001b[0m\u001b[0;34m\u001b[0m\u001b[0;34m\u001b[0m\u001b[0m\n\u001b[1;32m    402\u001b[0m         \u001b[0mindex_col\u001b[0m\u001b[0;34m=\u001b[0m\u001b[0mindex_col\u001b[0m\u001b[0;34m,\u001b[0m\u001b[0;34m\u001b[0m\u001b[0;34m\u001b[0m\u001b[0m\n",
            "\u001b[0;32m/usr/local/lib/python3.9/dist-packages/pandas/io/sql.py\u001b[0m in \u001b[0;36mread_query\u001b[0;34m(self, sql, index_col, coerce_float, params, parse_dates, chunksize, dtype)\u001b[0m\n\u001b[1;32m   2081\u001b[0m \u001b[0;34m\u001b[0m\u001b[0m\n\u001b[1;32m   2082\u001b[0m         \u001b[0margs\u001b[0m \u001b[0;34m=\u001b[0m \u001b[0m_convert_params\u001b[0m\u001b[0;34m(\u001b[0m\u001b[0msql\u001b[0m\u001b[0;34m,\u001b[0m \u001b[0mparams\u001b[0m\u001b[0;34m)\u001b[0m\u001b[0;34m\u001b[0m\u001b[0;34m\u001b[0m\u001b[0m\n\u001b[0;32m-> 2083\u001b[0;31m         \u001b[0mcursor\u001b[0m \u001b[0;34m=\u001b[0m \u001b[0mself\u001b[0m\u001b[0;34m.\u001b[0m\u001b[0mexecute\u001b[0m\u001b[0;34m(\u001b[0m\u001b[0;34m*\u001b[0m\u001b[0margs\u001b[0m\u001b[0;34m)\u001b[0m\u001b[0;34m\u001b[0m\u001b[0;34m\u001b[0m\u001b[0m\n\u001b[0m\u001b[1;32m   2084\u001b[0m         \u001b[0mcolumns\u001b[0m \u001b[0;34m=\u001b[0m \u001b[0;34m[\u001b[0m\u001b[0mcol_desc\u001b[0m\u001b[0;34m[\u001b[0m\u001b[0;36m0\u001b[0m\u001b[0;34m]\u001b[0m \u001b[0;32mfor\u001b[0m \u001b[0mcol_desc\u001b[0m \u001b[0;32min\u001b[0m \u001b[0mcursor\u001b[0m\u001b[0;34m.\u001b[0m\u001b[0mdescription\u001b[0m\u001b[0;34m]\u001b[0m\u001b[0;34m\u001b[0m\u001b[0;34m\u001b[0m\u001b[0m\n\u001b[1;32m   2085\u001b[0m \u001b[0;34m\u001b[0m\u001b[0m\n",
            "\u001b[0;32m/usr/local/lib/python3.9/dist-packages/pandas/io/sql.py\u001b[0m in \u001b[0;36mexecute\u001b[0;34m(self, *args, **kwargs)\u001b[0m\n\u001b[1;32m   2033\u001b[0m \u001b[0;34m\u001b[0m\u001b[0m\n\u001b[1;32m   2034\u001b[0m             \u001b[0mex\u001b[0m \u001b[0;34m=\u001b[0m \u001b[0mDatabaseError\u001b[0m\u001b[0;34m(\u001b[0m\u001b[0;34mf\"Execution failed on sql '{args[0]}': {exc}\"\u001b[0m\u001b[0;34m)\u001b[0m\u001b[0;34m\u001b[0m\u001b[0;34m\u001b[0m\u001b[0m\n\u001b[0;32m-> 2035\u001b[0;31m             \u001b[0;32mraise\u001b[0m \u001b[0mex\u001b[0m \u001b[0;32mfrom\u001b[0m \u001b[0mexc\u001b[0m\u001b[0;34m\u001b[0m\u001b[0;34m\u001b[0m\u001b[0m\n\u001b[0m\u001b[1;32m   2036\u001b[0m \u001b[0;34m\u001b[0m\u001b[0m\n\u001b[1;32m   2037\u001b[0m     \u001b[0;34m@\u001b[0m\u001b[0mstaticmethod\u001b[0m\u001b[0;34m\u001b[0m\u001b[0;34m\u001b[0m\u001b[0m\n",
            "\u001b[0;31mDatabaseError\u001b[0m: Execution failed on sql '\nSELECT DatabaseDesireNextYear FROM master\n': no such column: DatabaseDesireNextYear"
          ]
        }
      ],
      "source": [
        "# your code goes here\n",
        "QUERY = \"\"\"\n",
        "SELECT DatabaseDesireNextYear FROM master\n",
        "\"\"\"\n",
        "db_desired_next_year = pd.read_sql_query(QUERY, conn)\n",
        "\n",
        "db_desired_next_year.plot(kind='pie',\n",
        "                            figsize=(5, 6),\n",
        "                            autopct='%1.1f%%', # add in percentages\n",
        "                            startangle=90,     # start angle 90° (Africa)\n",
        "                            shadow=True,       # add shadow      \n",
        "                            )\n",
        "\n",
        "plt.title('Databases Desired to Work With Next Year')\n",
        "plt.axis('equal') # Sets the pie chart to look like a circle.\n",
        "\n",
        "plt.show()\n"
      ]
    },
    {
      "cell_type": "code",
      "source": [
        "QUERY = \"\"\"\n",
        "select count(DatabaseDesireNextYear) as Count,DatabaseDesireNextYear from DatabaseDesireNextYear \n",
        "group by DatabaseDesireNextYear \n",
        "order by count(DatabaseDesireNextYear) DESC LIMIT 5\n",
        "\"\"\"\n",
        "\n",
        "df2=pd.read_sql_query(QUERY,conn)\n",
        "\n",
        "df2.set_index('DatabaseDesireNextYear',inplace=True)\n",
        "\n",
        "df2"
      ],
      "metadata": {
        "colab": {
          "base_uri": "https://localhost:8080/",
          "height": 238
        },
        "id": "F8D-fDx4s8hm",
        "outputId": "8d5236aa-a861-4b28-97dd-4af141567b29"
      },
      "execution_count": 15,
      "outputs": [
        {
          "output_type": "execute_result",
          "data": {
            "text/plain": [
              "                        Count\n",
              "DatabaseDesireNextYear       \n",
              "PostgreSQL               4328\n",
              "MongoDB                  3649\n",
              "Redis                    3331\n",
              "MySQL                    3281\n",
              "Elasticsearch            2856"
            ],
            "text/html": [
              "\n",
              "  <div id=\"df-e96fcaea-f144-4e0c-9c5a-4e2a0fdc3942\">\n",
              "    <div class=\"colab-df-container\">\n",
              "      <div>\n",
              "<style scoped>\n",
              "    .dataframe tbody tr th:only-of-type {\n",
              "        vertical-align: middle;\n",
              "    }\n",
              "\n",
              "    .dataframe tbody tr th {\n",
              "        vertical-align: top;\n",
              "    }\n",
              "\n",
              "    .dataframe thead th {\n",
              "        text-align: right;\n",
              "    }\n",
              "</style>\n",
              "<table border=\"1\" class=\"dataframe\">\n",
              "  <thead>\n",
              "    <tr style=\"text-align: right;\">\n",
              "      <th></th>\n",
              "      <th>Count</th>\n",
              "    </tr>\n",
              "    <tr>\n",
              "      <th>DatabaseDesireNextYear</th>\n",
              "      <th></th>\n",
              "    </tr>\n",
              "  </thead>\n",
              "  <tbody>\n",
              "    <tr>\n",
              "      <th>PostgreSQL</th>\n",
              "      <td>4328</td>\n",
              "    </tr>\n",
              "    <tr>\n",
              "      <th>MongoDB</th>\n",
              "      <td>3649</td>\n",
              "    </tr>\n",
              "    <tr>\n",
              "      <th>Redis</th>\n",
              "      <td>3331</td>\n",
              "    </tr>\n",
              "    <tr>\n",
              "      <th>MySQL</th>\n",
              "      <td>3281</td>\n",
              "    </tr>\n",
              "    <tr>\n",
              "      <th>Elasticsearch</th>\n",
              "      <td>2856</td>\n",
              "    </tr>\n",
              "  </tbody>\n",
              "</table>\n",
              "</div>\n",
              "      <button class=\"colab-df-convert\" onclick=\"convertToInteractive('df-e96fcaea-f144-4e0c-9c5a-4e2a0fdc3942')\"\n",
              "              title=\"Convert this dataframe to an interactive table.\"\n",
              "              style=\"display:none;\">\n",
              "        \n",
              "  <svg xmlns=\"http://www.w3.org/2000/svg\" height=\"24px\"viewBox=\"0 0 24 24\"\n",
              "       width=\"24px\">\n",
              "    <path d=\"M0 0h24v24H0V0z\" fill=\"none\"/>\n",
              "    <path d=\"M18.56 5.44l.94 2.06.94-2.06 2.06-.94-2.06-.94-.94-2.06-.94 2.06-2.06.94zm-11 1L8.5 8.5l.94-2.06 2.06-.94-2.06-.94L8.5 2.5l-.94 2.06-2.06.94zm10 10l.94 2.06.94-2.06 2.06-.94-2.06-.94-.94-2.06-.94 2.06-2.06.94z\"/><path d=\"M17.41 7.96l-1.37-1.37c-.4-.4-.92-.59-1.43-.59-.52 0-1.04.2-1.43.59L10.3 9.45l-7.72 7.72c-.78.78-.78 2.05 0 2.83L4 21.41c.39.39.9.59 1.41.59.51 0 1.02-.2 1.41-.59l7.78-7.78 2.81-2.81c.8-.78.8-2.07 0-2.86zM5.41 20L4 18.59l7.72-7.72 1.47 1.35L5.41 20z\"/>\n",
              "  </svg>\n",
              "      </button>\n",
              "      \n",
              "  <style>\n",
              "    .colab-df-container {\n",
              "      display:flex;\n",
              "      flex-wrap:wrap;\n",
              "      gap: 12px;\n",
              "    }\n",
              "\n",
              "    .colab-df-convert {\n",
              "      background-color: #E8F0FE;\n",
              "      border: none;\n",
              "      border-radius: 50%;\n",
              "      cursor: pointer;\n",
              "      display: none;\n",
              "      fill: #1967D2;\n",
              "      height: 32px;\n",
              "      padding: 0 0 0 0;\n",
              "      width: 32px;\n",
              "    }\n",
              "\n",
              "    .colab-df-convert:hover {\n",
              "      background-color: #E2EBFA;\n",
              "      box-shadow: 0px 1px 2px rgba(60, 64, 67, 0.3), 0px 1px 3px 1px rgba(60, 64, 67, 0.15);\n",
              "      fill: #174EA6;\n",
              "    }\n",
              "\n",
              "    [theme=dark] .colab-df-convert {\n",
              "      background-color: #3B4455;\n",
              "      fill: #D2E3FC;\n",
              "    }\n",
              "\n",
              "    [theme=dark] .colab-df-convert:hover {\n",
              "      background-color: #434B5C;\n",
              "      box-shadow: 0px 1px 3px 1px rgba(0, 0, 0, 0.15);\n",
              "      filter: drop-shadow(0px 1px 2px rgba(0, 0, 0, 0.3));\n",
              "      fill: #FFFFFF;\n",
              "    }\n",
              "  </style>\n",
              "\n",
              "      <script>\n",
              "        const buttonEl =\n",
              "          document.querySelector('#df-e96fcaea-f144-4e0c-9c5a-4e2a0fdc3942 button.colab-df-convert');\n",
              "        buttonEl.style.display =\n",
              "          google.colab.kernel.accessAllowed ? 'block' : 'none';\n",
              "\n",
              "        async function convertToInteractive(key) {\n",
              "          const element = document.querySelector('#df-e96fcaea-f144-4e0c-9c5a-4e2a0fdc3942');\n",
              "          const dataTable =\n",
              "            await google.colab.kernel.invokeFunction('convertToInteractive',\n",
              "                                                     [key], {});\n",
              "          if (!dataTable) return;\n",
              "\n",
              "          const docLinkHtml = 'Like what you see? Visit the ' +\n",
              "            '<a target=\"_blank\" href=https://colab.research.google.com/notebooks/data_table.ipynb>data table notebook</a>'\n",
              "            + ' to learn more about interactive tables.';\n",
              "          element.innerHTML = '';\n",
              "          dataTable['output_type'] = 'display_data';\n",
              "          await google.colab.output.renderOutput(dataTable, element);\n",
              "          const docLink = document.createElement('div');\n",
              "          docLink.innerHTML = docLinkHtml;\n",
              "          element.appendChild(docLink);\n",
              "        }\n",
              "      </script>\n",
              "    </div>\n",
              "  </div>\n",
              "  "
            ]
          },
          "metadata": {},
          "execution_count": 15
        }
      ]
    },
    {
      "cell_type": "code",
      "source": [
        "df2.plot(data=df2, x = ['DatabaseDesireNextYear'], y = [1], kind = 'pie',)"
      ],
      "metadata": {
        "id": "T6OIwMa7tS8w",
        "colab": {
          "base_uri": "https://localhost:8080/",
          "height": 311
        },
        "outputId": "dde467df-ce9e-4636-e33f-a04766faf0ae"
      },
      "execution_count": 16,
      "outputs": [
        {
          "output_type": "error",
          "ename": "KeyError",
          "evalue": "ignored",
          "traceback": [
            "\u001b[0;31m---------------------------------------------------------------------------\u001b[0m",
            "\u001b[0;31mKeyError\u001b[0m                                  Traceback (most recent call last)",
            "\u001b[0;32m<ipython-input-16-4e58fca9c7fb>\u001b[0m in \u001b[0;36m<module>\u001b[0;34m\u001b[0m\n\u001b[0;32m----> 1\u001b[0;31m \u001b[0mdf2\u001b[0m\u001b[0;34m.\u001b[0m\u001b[0mplot\u001b[0m\u001b[0;34m(\u001b[0m\u001b[0mdata\u001b[0m\u001b[0;34m=\u001b[0m\u001b[0mdf2\u001b[0m\u001b[0;34m,\u001b[0m \u001b[0mx\u001b[0m \u001b[0;34m=\u001b[0m \u001b[0;34m[\u001b[0m\u001b[0;34m'DatabaseDesireNextYear'\u001b[0m\u001b[0;34m]\u001b[0m\u001b[0;34m,\u001b[0m \u001b[0my\u001b[0m \u001b[0;34m=\u001b[0m \u001b[0;34m[\u001b[0m\u001b[0;36m1\u001b[0m\u001b[0;34m]\u001b[0m\u001b[0;34m,\u001b[0m \u001b[0mkind\u001b[0m \u001b[0;34m=\u001b[0m \u001b[0;34m'pie'\u001b[0m\u001b[0;34m,\u001b[0m\u001b[0;34m)\u001b[0m\u001b[0;34m\u001b[0m\u001b[0;34m\u001b[0m\u001b[0m\n\u001b[0m",
            "\u001b[0;32m/usr/local/lib/python3.9/dist-packages/pandas/plotting/_core.py\u001b[0m in \u001b[0;36m__call__\u001b[0;34m(self, *args, **kwargs)\u001b[0m\n\u001b[1;32m    928\u001b[0m                         \u001b[0my\u001b[0m \u001b[0;34m=\u001b[0m \u001b[0mdata\u001b[0m\u001b[0;34m.\u001b[0m\u001b[0mcolumns\u001b[0m\u001b[0;34m[\u001b[0m\u001b[0my\u001b[0m\u001b[0;34m]\u001b[0m\u001b[0;34m\u001b[0m\u001b[0;34m\u001b[0m\u001b[0m\n\u001b[1;32m    929\u001b[0m                     \u001b[0;31m# converted to series actually. copy to not modify\u001b[0m\u001b[0;34m\u001b[0m\u001b[0;34m\u001b[0m\u001b[0m\n\u001b[0;32m--> 930\u001b[0;31m                     \u001b[0mdata\u001b[0m \u001b[0;34m=\u001b[0m \u001b[0mdata\u001b[0m\u001b[0;34m[\u001b[0m\u001b[0my\u001b[0m\u001b[0;34m]\u001b[0m\u001b[0;34m.\u001b[0m\u001b[0mcopy\u001b[0m\u001b[0;34m(\u001b[0m\u001b[0;34m)\u001b[0m\u001b[0;34m\u001b[0m\u001b[0;34m\u001b[0m\u001b[0m\n\u001b[0m\u001b[1;32m    931\u001b[0m                     \u001b[0mdata\u001b[0m\u001b[0;34m.\u001b[0m\u001b[0mindex\u001b[0m\u001b[0;34m.\u001b[0m\u001b[0mname\u001b[0m \u001b[0;34m=\u001b[0m \u001b[0my\u001b[0m\u001b[0;34m\u001b[0m\u001b[0;34m\u001b[0m\u001b[0m\n\u001b[1;32m    932\u001b[0m         \u001b[0;32melif\u001b[0m \u001b[0misinstance\u001b[0m\u001b[0;34m(\u001b[0m\u001b[0mdata\u001b[0m\u001b[0;34m,\u001b[0m \u001b[0mABCDataFrame\u001b[0m\u001b[0;34m)\u001b[0m\u001b[0;34m:\u001b[0m\u001b[0;34m\u001b[0m\u001b[0;34m\u001b[0m\u001b[0m\n",
            "\u001b[0;32m/usr/local/lib/python3.9/dist-packages/pandas/core/frame.py\u001b[0m in \u001b[0;36m__getitem__\u001b[0;34m(self, key)\u001b[0m\n\u001b[1;32m   3509\u001b[0m             \u001b[0;32mif\u001b[0m \u001b[0mis_iterator\u001b[0m\u001b[0;34m(\u001b[0m\u001b[0mkey\u001b[0m\u001b[0;34m)\u001b[0m\u001b[0;34m:\u001b[0m\u001b[0;34m\u001b[0m\u001b[0;34m\u001b[0m\u001b[0m\n\u001b[1;32m   3510\u001b[0m                 \u001b[0mkey\u001b[0m \u001b[0;34m=\u001b[0m \u001b[0mlist\u001b[0m\u001b[0;34m(\u001b[0m\u001b[0mkey\u001b[0m\u001b[0;34m)\u001b[0m\u001b[0;34m\u001b[0m\u001b[0;34m\u001b[0m\u001b[0m\n\u001b[0;32m-> 3511\u001b[0;31m             \u001b[0mindexer\u001b[0m \u001b[0;34m=\u001b[0m \u001b[0mself\u001b[0m\u001b[0;34m.\u001b[0m\u001b[0mcolumns\u001b[0m\u001b[0;34m.\u001b[0m\u001b[0m_get_indexer_strict\u001b[0m\u001b[0;34m(\u001b[0m\u001b[0mkey\u001b[0m\u001b[0;34m,\u001b[0m \u001b[0;34m\"columns\"\u001b[0m\u001b[0;34m)\u001b[0m\u001b[0;34m[\u001b[0m\u001b[0;36m1\u001b[0m\u001b[0;34m]\u001b[0m\u001b[0;34m\u001b[0m\u001b[0;34m\u001b[0m\u001b[0m\n\u001b[0m\u001b[1;32m   3512\u001b[0m \u001b[0;34m\u001b[0m\u001b[0m\n\u001b[1;32m   3513\u001b[0m         \u001b[0;31m# take() does not accept boolean indexers\u001b[0m\u001b[0;34m\u001b[0m\u001b[0;34m\u001b[0m\u001b[0m\n",
            "\u001b[0;32m/usr/local/lib/python3.9/dist-packages/pandas/core/indexes/base.py\u001b[0m in \u001b[0;36m_get_indexer_strict\u001b[0;34m(self, key, axis_name)\u001b[0m\n\u001b[1;32m   5794\u001b[0m             \u001b[0mkeyarr\u001b[0m\u001b[0;34m,\u001b[0m \u001b[0mindexer\u001b[0m\u001b[0;34m,\u001b[0m \u001b[0mnew_indexer\u001b[0m \u001b[0;34m=\u001b[0m \u001b[0mself\u001b[0m\u001b[0;34m.\u001b[0m\u001b[0m_reindex_non_unique\u001b[0m\u001b[0;34m(\u001b[0m\u001b[0mkeyarr\u001b[0m\u001b[0;34m)\u001b[0m\u001b[0;34m\u001b[0m\u001b[0;34m\u001b[0m\u001b[0m\n\u001b[1;32m   5795\u001b[0m \u001b[0;34m\u001b[0m\u001b[0m\n\u001b[0;32m-> 5796\u001b[0;31m         \u001b[0mself\u001b[0m\u001b[0;34m.\u001b[0m\u001b[0m_raise_if_missing\u001b[0m\u001b[0;34m(\u001b[0m\u001b[0mkeyarr\u001b[0m\u001b[0;34m,\u001b[0m \u001b[0mindexer\u001b[0m\u001b[0;34m,\u001b[0m \u001b[0maxis_name\u001b[0m\u001b[0;34m)\u001b[0m\u001b[0;34m\u001b[0m\u001b[0;34m\u001b[0m\u001b[0m\n\u001b[0m\u001b[1;32m   5797\u001b[0m \u001b[0;34m\u001b[0m\u001b[0m\n\u001b[1;32m   5798\u001b[0m         \u001b[0mkeyarr\u001b[0m \u001b[0;34m=\u001b[0m \u001b[0mself\u001b[0m\u001b[0;34m.\u001b[0m\u001b[0mtake\u001b[0m\u001b[0;34m(\u001b[0m\u001b[0mindexer\u001b[0m\u001b[0;34m)\u001b[0m\u001b[0;34m\u001b[0m\u001b[0;34m\u001b[0m\u001b[0m\n",
            "\u001b[0;32m/usr/local/lib/python3.9/dist-packages/pandas/core/indexes/base.py\u001b[0m in \u001b[0;36m_raise_if_missing\u001b[0;34m(self, key, indexer, axis_name)\u001b[0m\n\u001b[1;32m   5854\u001b[0m                 \u001b[0;32mif\u001b[0m \u001b[0muse_interval_msg\u001b[0m\u001b[0;34m:\u001b[0m\u001b[0;34m\u001b[0m\u001b[0;34m\u001b[0m\u001b[0m\n\u001b[1;32m   5855\u001b[0m                     \u001b[0mkey\u001b[0m \u001b[0;34m=\u001b[0m \u001b[0mlist\u001b[0m\u001b[0;34m(\u001b[0m\u001b[0mkey\u001b[0m\u001b[0;34m)\u001b[0m\u001b[0;34m\u001b[0m\u001b[0;34m\u001b[0m\u001b[0m\n\u001b[0;32m-> 5856\u001b[0;31m                 \u001b[0;32mraise\u001b[0m \u001b[0mKeyError\u001b[0m\u001b[0;34m(\u001b[0m\u001b[0;34mf\"None of [{key}] are in the [{axis_name}]\"\u001b[0m\u001b[0;34m)\u001b[0m\u001b[0;34m\u001b[0m\u001b[0;34m\u001b[0m\u001b[0m\n\u001b[0m\u001b[1;32m   5857\u001b[0m \u001b[0;34m\u001b[0m\u001b[0m\n\u001b[1;32m   5858\u001b[0m             \u001b[0mnot_found\u001b[0m \u001b[0;34m=\u001b[0m \u001b[0mlist\u001b[0m\u001b[0;34m(\u001b[0m\u001b[0mensure_index\u001b[0m\u001b[0;34m(\u001b[0m\u001b[0mkey\u001b[0m\u001b[0;34m)\u001b[0m\u001b[0;34m[\u001b[0m\u001b[0mmissing_mask\u001b[0m\u001b[0;34m.\u001b[0m\u001b[0mnonzero\u001b[0m\u001b[0;34m(\u001b[0m\u001b[0;34m)\u001b[0m\u001b[0;34m[\u001b[0m\u001b[0;36m0\u001b[0m\u001b[0;34m]\u001b[0m\u001b[0;34m]\u001b[0m\u001b[0;34m.\u001b[0m\u001b[0munique\u001b[0m\u001b[0;34m(\u001b[0m\u001b[0;34m)\u001b[0m\u001b[0;34m)\u001b[0m\u001b[0;34m\u001b[0m\u001b[0;34m\u001b[0m\u001b[0m\n",
            "\u001b[0;31mKeyError\u001b[0m: \"None of [Int64Index([1], dtype='int64')] are in the [columns]\""
          ]
        }
      ]
    },
    {
      "cell_type": "code",
      "source": [
        "QUERY = \"\"\"\n",
        "SELECT count(LanguageDesireNextYear) as Count, LanguageDesireNextYear from LanguageDesireNextYear\n",
        "group by LanguageDesireNextYear\n",
        "order by count(LanguageDesireNextYear) DESC LIMIT 5\n",
        "\"\"\"\n",
        "languages_df=pd.read_sql_query(QUERY, conn)\n",
        "languages_df.set_index('LanguageDesireNextYear')\n",
        "languages_df"
      ],
      "metadata": {
        "colab": {
          "base_uri": "https://localhost:8080/",
          "height": 206
        },
        "id": "Fs1kEeq0DkvR",
        "outputId": "ec9759ea-0f21-4b52-ca14-fbbb1814c71b"
      },
      "execution_count": 17,
      "outputs": [
        {
          "output_type": "execute_result",
          "data": {
            "text/plain": [
              "   Count LanguageDesireNextYear\n",
              "0   6630             JavaScript\n",
              "1   5328               HTML/CSS\n",
              "2   5239                 Python\n",
              "3   5012                    SQL\n",
              "4   4088             TypeScript"
            ],
            "text/html": [
              "\n",
              "  <div id=\"df-0b55206f-023f-46a9-9eaf-9cd649833b8e\">\n",
              "    <div class=\"colab-df-container\">\n",
              "      <div>\n",
              "<style scoped>\n",
              "    .dataframe tbody tr th:only-of-type {\n",
              "        vertical-align: middle;\n",
              "    }\n",
              "\n",
              "    .dataframe tbody tr th {\n",
              "        vertical-align: top;\n",
              "    }\n",
              "\n",
              "    .dataframe thead th {\n",
              "        text-align: right;\n",
              "    }\n",
              "</style>\n",
              "<table border=\"1\" class=\"dataframe\">\n",
              "  <thead>\n",
              "    <tr style=\"text-align: right;\">\n",
              "      <th></th>\n",
              "      <th>Count</th>\n",
              "      <th>LanguageDesireNextYear</th>\n",
              "    </tr>\n",
              "  </thead>\n",
              "  <tbody>\n",
              "    <tr>\n",
              "      <th>0</th>\n",
              "      <td>6630</td>\n",
              "      <td>JavaScript</td>\n",
              "    </tr>\n",
              "    <tr>\n",
              "      <th>1</th>\n",
              "      <td>5328</td>\n",
              "      <td>HTML/CSS</td>\n",
              "    </tr>\n",
              "    <tr>\n",
              "      <th>2</th>\n",
              "      <td>5239</td>\n",
              "      <td>Python</td>\n",
              "    </tr>\n",
              "    <tr>\n",
              "      <th>3</th>\n",
              "      <td>5012</td>\n",
              "      <td>SQL</td>\n",
              "    </tr>\n",
              "    <tr>\n",
              "      <th>4</th>\n",
              "      <td>4088</td>\n",
              "      <td>TypeScript</td>\n",
              "    </tr>\n",
              "  </tbody>\n",
              "</table>\n",
              "</div>\n",
              "      <button class=\"colab-df-convert\" onclick=\"convertToInteractive('df-0b55206f-023f-46a9-9eaf-9cd649833b8e')\"\n",
              "              title=\"Convert this dataframe to an interactive table.\"\n",
              "              style=\"display:none;\">\n",
              "        \n",
              "  <svg xmlns=\"http://www.w3.org/2000/svg\" height=\"24px\"viewBox=\"0 0 24 24\"\n",
              "       width=\"24px\">\n",
              "    <path d=\"M0 0h24v24H0V0z\" fill=\"none\"/>\n",
              "    <path d=\"M18.56 5.44l.94 2.06.94-2.06 2.06-.94-2.06-.94-.94-2.06-.94 2.06-2.06.94zm-11 1L8.5 8.5l.94-2.06 2.06-.94-2.06-.94L8.5 2.5l-.94 2.06-2.06.94zm10 10l.94 2.06.94-2.06 2.06-.94-2.06-.94-.94-2.06-.94 2.06-2.06.94z\"/><path d=\"M17.41 7.96l-1.37-1.37c-.4-.4-.92-.59-1.43-.59-.52 0-1.04.2-1.43.59L10.3 9.45l-7.72 7.72c-.78.78-.78 2.05 0 2.83L4 21.41c.39.39.9.59 1.41.59.51 0 1.02-.2 1.41-.59l7.78-7.78 2.81-2.81c.8-.78.8-2.07 0-2.86zM5.41 20L4 18.59l7.72-7.72 1.47 1.35L5.41 20z\"/>\n",
              "  </svg>\n",
              "      </button>\n",
              "      \n",
              "  <style>\n",
              "    .colab-df-container {\n",
              "      display:flex;\n",
              "      flex-wrap:wrap;\n",
              "      gap: 12px;\n",
              "    }\n",
              "\n",
              "    .colab-df-convert {\n",
              "      background-color: #E8F0FE;\n",
              "      border: none;\n",
              "      border-radius: 50%;\n",
              "      cursor: pointer;\n",
              "      display: none;\n",
              "      fill: #1967D2;\n",
              "      height: 32px;\n",
              "      padding: 0 0 0 0;\n",
              "      width: 32px;\n",
              "    }\n",
              "\n",
              "    .colab-df-convert:hover {\n",
              "      background-color: #E2EBFA;\n",
              "      box-shadow: 0px 1px 2px rgba(60, 64, 67, 0.3), 0px 1px 3px 1px rgba(60, 64, 67, 0.15);\n",
              "      fill: #174EA6;\n",
              "    }\n",
              "\n",
              "    [theme=dark] .colab-df-convert {\n",
              "      background-color: #3B4455;\n",
              "      fill: #D2E3FC;\n",
              "    }\n",
              "\n",
              "    [theme=dark] .colab-df-convert:hover {\n",
              "      background-color: #434B5C;\n",
              "      box-shadow: 0px 1px 3px 1px rgba(0, 0, 0, 0.15);\n",
              "      filter: drop-shadow(0px 1px 2px rgba(0, 0, 0, 0.3));\n",
              "      fill: #FFFFFF;\n",
              "    }\n",
              "  </style>\n",
              "\n",
              "      <script>\n",
              "        const buttonEl =\n",
              "          document.querySelector('#df-0b55206f-023f-46a9-9eaf-9cd649833b8e button.colab-df-convert');\n",
              "        buttonEl.style.display =\n",
              "          google.colab.kernel.accessAllowed ? 'block' : 'none';\n",
              "\n",
              "        async function convertToInteractive(key) {\n",
              "          const element = document.querySelector('#df-0b55206f-023f-46a9-9eaf-9cd649833b8e');\n",
              "          const dataTable =\n",
              "            await google.colab.kernel.invokeFunction('convertToInteractive',\n",
              "                                                     [key], {});\n",
              "          if (!dataTable) return;\n",
              "\n",
              "          const docLinkHtml = 'Like what you see? Visit the ' +\n",
              "            '<a target=\"_blank\" href=https://colab.research.google.com/notebooks/data_table.ipynb>data table notebook</a>'\n",
              "            + ' to learn more about interactive tables.';\n",
              "          element.innerHTML = '';\n",
              "          dataTable['output_type'] = 'display_data';\n",
              "          await google.colab.output.renderOutput(dataTable, element);\n",
              "          const docLink = document.createElement('div');\n",
              "          docLink.innerHTML = docLinkHtml;\n",
              "          element.appendChild(docLink);\n",
              "        }\n",
              "      </script>\n",
              "    </div>\n",
              "  </div>\n",
              "  "
            ]
          },
          "metadata": {},
          "execution_count": 17
        }
      ]
    },
    {
      "cell_type": "code",
      "source": [
        "#LanguageWorkedWith\n",
        "QUERY = \"\"\"\n",
        "SELECT count(LanguageWorkedWith) as Count, LanguageWorkedWith from LanguageWorkedWith\n",
        "group by LanguageWorkedWith\n",
        "order by count(LanguageWorkedWith) DESC LIMIT 5\n",
        "\"\"\"\n",
        "languages_now_df=pd.read_sql_query(QUERY, conn)\n",
        "languages_now_df.set_index('LanguageWorkedWith')\n",
        "languages_now_df\n"
      ],
      "metadata": {
        "colab": {
          "base_uri": "https://localhost:8080/",
          "height": 206
        },
        "id": "kS-ONYjUE7jE",
        "outputId": "48a226de-34bd-47d1-a234-03394b3d4bce"
      },
      "execution_count": 18,
      "outputs": [
        {
          "output_type": "execute_result",
          "data": {
            "text/plain": [
              "   Count     LanguageWorkedWith\n",
              "0   8687             JavaScript\n",
              "1   7830               HTML/CSS\n",
              "2   7106                    SQL\n",
              "3   4642  Bash/Shell/PowerShell\n",
              "4   4542                 Python"
            ],
            "text/html": [
              "\n",
              "  <div id=\"df-63151ddc-7c29-4172-a6a9-b6ef8e49fc23\">\n",
              "    <div class=\"colab-df-container\">\n",
              "      <div>\n",
              "<style scoped>\n",
              "    .dataframe tbody tr th:only-of-type {\n",
              "        vertical-align: middle;\n",
              "    }\n",
              "\n",
              "    .dataframe tbody tr th {\n",
              "        vertical-align: top;\n",
              "    }\n",
              "\n",
              "    .dataframe thead th {\n",
              "        text-align: right;\n",
              "    }\n",
              "</style>\n",
              "<table border=\"1\" class=\"dataframe\">\n",
              "  <thead>\n",
              "    <tr style=\"text-align: right;\">\n",
              "      <th></th>\n",
              "      <th>Count</th>\n",
              "      <th>LanguageWorkedWith</th>\n",
              "    </tr>\n",
              "  </thead>\n",
              "  <tbody>\n",
              "    <tr>\n",
              "      <th>0</th>\n",
              "      <td>8687</td>\n",
              "      <td>JavaScript</td>\n",
              "    </tr>\n",
              "    <tr>\n",
              "      <th>1</th>\n",
              "      <td>7830</td>\n",
              "      <td>HTML/CSS</td>\n",
              "    </tr>\n",
              "    <tr>\n",
              "      <th>2</th>\n",
              "      <td>7106</td>\n",
              "      <td>SQL</td>\n",
              "    </tr>\n",
              "    <tr>\n",
              "      <th>3</th>\n",
              "      <td>4642</td>\n",
              "      <td>Bash/Shell/PowerShell</td>\n",
              "    </tr>\n",
              "    <tr>\n",
              "      <th>4</th>\n",
              "      <td>4542</td>\n",
              "      <td>Python</td>\n",
              "    </tr>\n",
              "  </tbody>\n",
              "</table>\n",
              "</div>\n",
              "      <button class=\"colab-df-convert\" onclick=\"convertToInteractive('df-63151ddc-7c29-4172-a6a9-b6ef8e49fc23')\"\n",
              "              title=\"Convert this dataframe to an interactive table.\"\n",
              "              style=\"display:none;\">\n",
              "        \n",
              "  <svg xmlns=\"http://www.w3.org/2000/svg\" height=\"24px\"viewBox=\"0 0 24 24\"\n",
              "       width=\"24px\">\n",
              "    <path d=\"M0 0h24v24H0V0z\" fill=\"none\"/>\n",
              "    <path d=\"M18.56 5.44l.94 2.06.94-2.06 2.06-.94-2.06-.94-.94-2.06-.94 2.06-2.06.94zm-11 1L8.5 8.5l.94-2.06 2.06-.94-2.06-.94L8.5 2.5l-.94 2.06-2.06.94zm10 10l.94 2.06.94-2.06 2.06-.94-2.06-.94-.94-2.06-.94 2.06-2.06.94z\"/><path d=\"M17.41 7.96l-1.37-1.37c-.4-.4-.92-.59-1.43-.59-.52 0-1.04.2-1.43.59L10.3 9.45l-7.72 7.72c-.78.78-.78 2.05 0 2.83L4 21.41c.39.39.9.59 1.41.59.51 0 1.02-.2 1.41-.59l7.78-7.78 2.81-2.81c.8-.78.8-2.07 0-2.86zM5.41 20L4 18.59l7.72-7.72 1.47 1.35L5.41 20z\"/>\n",
              "  </svg>\n",
              "      </button>\n",
              "      \n",
              "  <style>\n",
              "    .colab-df-container {\n",
              "      display:flex;\n",
              "      flex-wrap:wrap;\n",
              "      gap: 12px;\n",
              "    }\n",
              "\n",
              "    .colab-df-convert {\n",
              "      background-color: #E8F0FE;\n",
              "      border: none;\n",
              "      border-radius: 50%;\n",
              "      cursor: pointer;\n",
              "      display: none;\n",
              "      fill: #1967D2;\n",
              "      height: 32px;\n",
              "      padding: 0 0 0 0;\n",
              "      width: 32px;\n",
              "    }\n",
              "\n",
              "    .colab-df-convert:hover {\n",
              "      background-color: #E2EBFA;\n",
              "      box-shadow: 0px 1px 2px rgba(60, 64, 67, 0.3), 0px 1px 3px 1px rgba(60, 64, 67, 0.15);\n",
              "      fill: #174EA6;\n",
              "    }\n",
              "\n",
              "    [theme=dark] .colab-df-convert {\n",
              "      background-color: #3B4455;\n",
              "      fill: #D2E3FC;\n",
              "    }\n",
              "\n",
              "    [theme=dark] .colab-df-convert:hover {\n",
              "      background-color: #434B5C;\n",
              "      box-shadow: 0px 1px 3px 1px rgba(0, 0, 0, 0.15);\n",
              "      filter: drop-shadow(0px 1px 2px rgba(0, 0, 0, 0.3));\n",
              "      fill: #FFFFFF;\n",
              "    }\n",
              "  </style>\n",
              "\n",
              "      <script>\n",
              "        const buttonEl =\n",
              "          document.querySelector('#df-63151ddc-7c29-4172-a6a9-b6ef8e49fc23 button.colab-df-convert');\n",
              "        buttonEl.style.display =\n",
              "          google.colab.kernel.accessAllowed ? 'block' : 'none';\n",
              "\n",
              "        async function convertToInteractive(key) {\n",
              "          const element = document.querySelector('#df-63151ddc-7c29-4172-a6a9-b6ef8e49fc23');\n",
              "          const dataTable =\n",
              "            await google.colab.kernel.invokeFunction('convertToInteractive',\n",
              "                                                     [key], {});\n",
              "          if (!dataTable) return;\n",
              "\n",
              "          const docLinkHtml = 'Like what you see? Visit the ' +\n",
              "            '<a target=\"_blank\" href=https://colab.research.google.com/notebooks/data_table.ipynb>data table notebook</a>'\n",
              "            + ' to learn more about interactive tables.';\n",
              "          element.innerHTML = '';\n",
              "          dataTable['output_type'] = 'display_data';\n",
              "          await google.colab.output.renderOutput(dataTable, element);\n",
              "          const docLink = document.createElement('div');\n",
              "          docLink.innerHTML = docLinkHtml;\n",
              "          element.appendChild(docLink);\n",
              "        }\n",
              "      </script>\n",
              "    </div>\n",
              "  </div>\n",
              "  "
            ]
          },
          "metadata": {},
          "execution_count": 18
        }
      ]
    },
    {
      "cell_type": "code",
      "source": [
        "QUERY=\"\"\"\n",
        "SELECT DatabaseWorkedWith,count(Respondent)\n",
        "FROM DatabaseWorkedWith\n",
        "group by Respondent having count(DatabaseWorkedWith)=1 and DatabaseWorkedWith='MySQL'\"\"\"\n",
        "df3=pd.read_sql_query(QUERY,conn)\n",
        "df3"
      ],
      "metadata": {
        "colab": {
          "base_uri": "https://localhost:8080/",
          "height": 424
        },
        "id": "d0AQXvjAFVWV",
        "outputId": "82280db2-bca1-45e2-dc3a-a7205aa9c73b"
      },
      "execution_count": 19,
      "outputs": [
        {
          "output_type": "execute_result",
          "data": {
            "text/plain": [
              "    DatabaseWorkedWith  count(Respondent)\n",
              "0                MySQL                  1\n",
              "1                MySQL                  1\n",
              "2                MySQL                  1\n",
              "3                MySQL                  1\n",
              "4                MySQL                  1\n",
              "..                 ...                ...\n",
              "469              MySQL                  1\n",
              "470              MySQL                  1\n",
              "471              MySQL                  1\n",
              "472              MySQL                  1\n",
              "473              MySQL                  1\n",
              "\n",
              "[474 rows x 2 columns]"
            ],
            "text/html": [
              "\n",
              "  <div id=\"df-06eb90ca-99a6-4ffa-9cf8-2ff7a3fc05d3\">\n",
              "    <div class=\"colab-df-container\">\n",
              "      <div>\n",
              "<style scoped>\n",
              "    .dataframe tbody tr th:only-of-type {\n",
              "        vertical-align: middle;\n",
              "    }\n",
              "\n",
              "    .dataframe tbody tr th {\n",
              "        vertical-align: top;\n",
              "    }\n",
              "\n",
              "    .dataframe thead th {\n",
              "        text-align: right;\n",
              "    }\n",
              "</style>\n",
              "<table border=\"1\" class=\"dataframe\">\n",
              "  <thead>\n",
              "    <tr style=\"text-align: right;\">\n",
              "      <th></th>\n",
              "      <th>DatabaseWorkedWith</th>\n",
              "      <th>count(Respondent)</th>\n",
              "    </tr>\n",
              "  </thead>\n",
              "  <tbody>\n",
              "    <tr>\n",
              "      <th>0</th>\n",
              "      <td>MySQL</td>\n",
              "      <td>1</td>\n",
              "    </tr>\n",
              "    <tr>\n",
              "      <th>1</th>\n",
              "      <td>MySQL</td>\n",
              "      <td>1</td>\n",
              "    </tr>\n",
              "    <tr>\n",
              "      <th>2</th>\n",
              "      <td>MySQL</td>\n",
              "      <td>1</td>\n",
              "    </tr>\n",
              "    <tr>\n",
              "      <th>3</th>\n",
              "      <td>MySQL</td>\n",
              "      <td>1</td>\n",
              "    </tr>\n",
              "    <tr>\n",
              "      <th>4</th>\n",
              "      <td>MySQL</td>\n",
              "      <td>1</td>\n",
              "    </tr>\n",
              "    <tr>\n",
              "      <th>...</th>\n",
              "      <td>...</td>\n",
              "      <td>...</td>\n",
              "    </tr>\n",
              "    <tr>\n",
              "      <th>469</th>\n",
              "      <td>MySQL</td>\n",
              "      <td>1</td>\n",
              "    </tr>\n",
              "    <tr>\n",
              "      <th>470</th>\n",
              "      <td>MySQL</td>\n",
              "      <td>1</td>\n",
              "    </tr>\n",
              "    <tr>\n",
              "      <th>471</th>\n",
              "      <td>MySQL</td>\n",
              "      <td>1</td>\n",
              "    </tr>\n",
              "    <tr>\n",
              "      <th>472</th>\n",
              "      <td>MySQL</td>\n",
              "      <td>1</td>\n",
              "    </tr>\n",
              "    <tr>\n",
              "      <th>473</th>\n",
              "      <td>MySQL</td>\n",
              "      <td>1</td>\n",
              "    </tr>\n",
              "  </tbody>\n",
              "</table>\n",
              "<p>474 rows × 2 columns</p>\n",
              "</div>\n",
              "      <button class=\"colab-df-convert\" onclick=\"convertToInteractive('df-06eb90ca-99a6-4ffa-9cf8-2ff7a3fc05d3')\"\n",
              "              title=\"Convert this dataframe to an interactive table.\"\n",
              "              style=\"display:none;\">\n",
              "        \n",
              "  <svg xmlns=\"http://www.w3.org/2000/svg\" height=\"24px\"viewBox=\"0 0 24 24\"\n",
              "       width=\"24px\">\n",
              "    <path d=\"M0 0h24v24H0V0z\" fill=\"none\"/>\n",
              "    <path d=\"M18.56 5.44l.94 2.06.94-2.06 2.06-.94-2.06-.94-.94-2.06-.94 2.06-2.06.94zm-11 1L8.5 8.5l.94-2.06 2.06-.94-2.06-.94L8.5 2.5l-.94 2.06-2.06.94zm10 10l.94 2.06.94-2.06 2.06-.94-2.06-.94-.94-2.06-.94 2.06-2.06.94z\"/><path d=\"M17.41 7.96l-1.37-1.37c-.4-.4-.92-.59-1.43-.59-.52 0-1.04.2-1.43.59L10.3 9.45l-7.72 7.72c-.78.78-.78 2.05 0 2.83L4 21.41c.39.39.9.59 1.41.59.51 0 1.02-.2 1.41-.59l7.78-7.78 2.81-2.81c.8-.78.8-2.07 0-2.86zM5.41 20L4 18.59l7.72-7.72 1.47 1.35L5.41 20z\"/>\n",
              "  </svg>\n",
              "      </button>\n",
              "      \n",
              "  <style>\n",
              "    .colab-df-container {\n",
              "      display:flex;\n",
              "      flex-wrap:wrap;\n",
              "      gap: 12px;\n",
              "    }\n",
              "\n",
              "    .colab-df-convert {\n",
              "      background-color: #E8F0FE;\n",
              "      border: none;\n",
              "      border-radius: 50%;\n",
              "      cursor: pointer;\n",
              "      display: none;\n",
              "      fill: #1967D2;\n",
              "      height: 32px;\n",
              "      padding: 0 0 0 0;\n",
              "      width: 32px;\n",
              "    }\n",
              "\n",
              "    .colab-df-convert:hover {\n",
              "      background-color: #E2EBFA;\n",
              "      box-shadow: 0px 1px 2px rgba(60, 64, 67, 0.3), 0px 1px 3px 1px rgba(60, 64, 67, 0.15);\n",
              "      fill: #174EA6;\n",
              "    }\n",
              "\n",
              "    [theme=dark] .colab-df-convert {\n",
              "      background-color: #3B4455;\n",
              "      fill: #D2E3FC;\n",
              "    }\n",
              "\n",
              "    [theme=dark] .colab-df-convert:hover {\n",
              "      background-color: #434B5C;\n",
              "      box-shadow: 0px 1px 3px 1px rgba(0, 0, 0, 0.15);\n",
              "      filter: drop-shadow(0px 1px 2px rgba(0, 0, 0, 0.3));\n",
              "      fill: #FFFFFF;\n",
              "    }\n",
              "  </style>\n",
              "\n",
              "      <script>\n",
              "        const buttonEl =\n",
              "          document.querySelector('#df-06eb90ca-99a6-4ffa-9cf8-2ff7a3fc05d3 button.colab-df-convert');\n",
              "        buttonEl.style.display =\n",
              "          google.colab.kernel.accessAllowed ? 'block' : 'none';\n",
              "\n",
              "        async function convertToInteractive(key) {\n",
              "          const element = document.querySelector('#df-06eb90ca-99a6-4ffa-9cf8-2ff7a3fc05d3');\n",
              "          const dataTable =\n",
              "            await google.colab.kernel.invokeFunction('convertToInteractive',\n",
              "                                                     [key], {});\n",
              "          if (!dataTable) return;\n",
              "\n",
              "          const docLinkHtml = 'Like what you see? Visit the ' +\n",
              "            '<a target=\"_blank\" href=https://colab.research.google.com/notebooks/data_table.ipynb>data table notebook</a>'\n",
              "            + ' to learn more about interactive tables.';\n",
              "          element.innerHTML = '';\n",
              "          dataTable['output_type'] = 'display_data';\n",
              "          await google.colab.output.renderOutput(dataTable, element);\n",
              "          const docLink = document.createElement('div');\n",
              "          docLink.innerHTML = docLinkHtml;\n",
              "          element.appendChild(docLink);\n",
              "        }\n",
              "      </script>\n",
              "    </div>\n",
              "  </div>\n",
              "  "
            ]
          },
          "metadata": {},
          "execution_count": 19
        }
      ]
    },
    {
      "cell_type": "markdown",
      "metadata": {
        "id": "iXuDun1JT1gB"
      },
      "source": [
        "### Stacked Charts\n"
      ]
    },
    {
      "cell_type": "markdown",
      "metadata": {
        "id": "2nkiOlAnT1gB"
      },
      "source": [
        "Create a stacked chart of median `WorkWeekHrs` and `CodeRevHrs` for the age group 30 to 35.\n"
      ]
    },
    {
      "cell_type": "code",
      "execution_count": 35,
      "metadata": {
        "id": "DAHUPAdIT1gB",
        "colab": {
          "base_uri": "https://localhost:8080/",
          "height": 269
        },
        "outputId": "b8875baa-5f0c-475e-a824-fc71196b1ef9"
      },
      "outputs": [
        {
          "output_type": "execute_result",
          "data": {
            "text/plain": [
              "      WorkWeekHrs  CodeRevHrs\n",
              "Age                          \n",
              "30.0         40.0         5.0\n",
              "31.0          8.0         3.0\n",
              "32.0         40.0         2.0\n",
              "33.0         40.0         2.0\n",
              "34.0         40.0         2.0\n",
              "35.0         38.0         2.0"
            ],
            "text/html": [
              "\n",
              "  <div id=\"df-1735d564-5cf7-47a4-8eea-09d462235609\">\n",
              "    <div class=\"colab-df-container\">\n",
              "      <div>\n",
              "<style scoped>\n",
              "    .dataframe tbody tr th:only-of-type {\n",
              "        vertical-align: middle;\n",
              "    }\n",
              "\n",
              "    .dataframe tbody tr th {\n",
              "        vertical-align: top;\n",
              "    }\n",
              "\n",
              "    .dataframe thead th {\n",
              "        text-align: right;\n",
              "    }\n",
              "</style>\n",
              "<table border=\"1\" class=\"dataframe\">\n",
              "  <thead>\n",
              "    <tr style=\"text-align: right;\">\n",
              "      <th></th>\n",
              "      <th>WorkWeekHrs</th>\n",
              "      <th>CodeRevHrs</th>\n",
              "    </tr>\n",
              "    <tr>\n",
              "      <th>Age</th>\n",
              "      <th></th>\n",
              "      <th></th>\n",
              "    </tr>\n",
              "  </thead>\n",
              "  <tbody>\n",
              "    <tr>\n",
              "      <th>30.0</th>\n",
              "      <td>40.0</td>\n",
              "      <td>5.0</td>\n",
              "    </tr>\n",
              "    <tr>\n",
              "      <th>31.0</th>\n",
              "      <td>8.0</td>\n",
              "      <td>3.0</td>\n",
              "    </tr>\n",
              "    <tr>\n",
              "      <th>32.0</th>\n",
              "      <td>40.0</td>\n",
              "      <td>2.0</td>\n",
              "    </tr>\n",
              "    <tr>\n",
              "      <th>33.0</th>\n",
              "      <td>40.0</td>\n",
              "      <td>2.0</td>\n",
              "    </tr>\n",
              "    <tr>\n",
              "      <th>34.0</th>\n",
              "      <td>40.0</td>\n",
              "      <td>2.0</td>\n",
              "    </tr>\n",
              "    <tr>\n",
              "      <th>35.0</th>\n",
              "      <td>38.0</td>\n",
              "      <td>2.0</td>\n",
              "    </tr>\n",
              "  </tbody>\n",
              "</table>\n",
              "</div>\n",
              "      <button class=\"colab-df-convert\" onclick=\"convertToInteractive('df-1735d564-5cf7-47a4-8eea-09d462235609')\"\n",
              "              title=\"Convert this dataframe to an interactive table.\"\n",
              "              style=\"display:none;\">\n",
              "        \n",
              "  <svg xmlns=\"http://www.w3.org/2000/svg\" height=\"24px\"viewBox=\"0 0 24 24\"\n",
              "       width=\"24px\">\n",
              "    <path d=\"M0 0h24v24H0V0z\" fill=\"none\"/>\n",
              "    <path d=\"M18.56 5.44l.94 2.06.94-2.06 2.06-.94-2.06-.94-.94-2.06-.94 2.06-2.06.94zm-11 1L8.5 8.5l.94-2.06 2.06-.94-2.06-.94L8.5 2.5l-.94 2.06-2.06.94zm10 10l.94 2.06.94-2.06 2.06-.94-2.06-.94-.94-2.06-.94 2.06-2.06.94z\"/><path d=\"M17.41 7.96l-1.37-1.37c-.4-.4-.92-.59-1.43-.59-.52 0-1.04.2-1.43.59L10.3 9.45l-7.72 7.72c-.78.78-.78 2.05 0 2.83L4 21.41c.39.39.9.59 1.41.59.51 0 1.02-.2 1.41-.59l7.78-7.78 2.81-2.81c.8-.78.8-2.07 0-2.86zM5.41 20L4 18.59l7.72-7.72 1.47 1.35L5.41 20z\"/>\n",
              "  </svg>\n",
              "      </button>\n",
              "      \n",
              "  <style>\n",
              "    .colab-df-container {\n",
              "      display:flex;\n",
              "      flex-wrap:wrap;\n",
              "      gap: 12px;\n",
              "    }\n",
              "\n",
              "    .colab-df-convert {\n",
              "      background-color: #E8F0FE;\n",
              "      border: none;\n",
              "      border-radius: 50%;\n",
              "      cursor: pointer;\n",
              "      display: none;\n",
              "      fill: #1967D2;\n",
              "      height: 32px;\n",
              "      padding: 0 0 0 0;\n",
              "      width: 32px;\n",
              "    }\n",
              "\n",
              "    .colab-df-convert:hover {\n",
              "      background-color: #E2EBFA;\n",
              "      box-shadow: 0px 1px 2px rgba(60, 64, 67, 0.3), 0px 1px 3px 1px rgba(60, 64, 67, 0.15);\n",
              "      fill: #174EA6;\n",
              "    }\n",
              "\n",
              "    [theme=dark] .colab-df-convert {\n",
              "      background-color: #3B4455;\n",
              "      fill: #D2E3FC;\n",
              "    }\n",
              "\n",
              "    [theme=dark] .colab-df-convert:hover {\n",
              "      background-color: #434B5C;\n",
              "      box-shadow: 0px 1px 3px 1px rgba(0, 0, 0, 0.15);\n",
              "      filter: drop-shadow(0px 1px 2px rgba(0, 0, 0, 0.3));\n",
              "      fill: #FFFFFF;\n",
              "    }\n",
              "  </style>\n",
              "\n",
              "      <script>\n",
              "        const buttonEl =\n",
              "          document.querySelector('#df-1735d564-5cf7-47a4-8eea-09d462235609 button.colab-df-convert');\n",
              "        buttonEl.style.display =\n",
              "          google.colab.kernel.accessAllowed ? 'block' : 'none';\n",
              "\n",
              "        async function convertToInteractive(key) {\n",
              "          const element = document.querySelector('#df-1735d564-5cf7-47a4-8eea-09d462235609');\n",
              "          const dataTable =\n",
              "            await google.colab.kernel.invokeFunction('convertToInteractive',\n",
              "                                                     [key], {});\n",
              "          if (!dataTable) return;\n",
              "\n",
              "          const docLinkHtml = 'Like what you see? Visit the ' +\n",
              "            '<a target=\"_blank\" href=https://colab.research.google.com/notebooks/data_table.ipynb>data table notebook</a>'\n",
              "            + ' to learn more about interactive tables.';\n",
              "          element.innerHTML = '';\n",
              "          dataTable['output_type'] = 'display_data';\n",
              "          await google.colab.output.renderOutput(dataTable, element);\n",
              "          const docLink = document.createElement('div');\n",
              "          docLink.innerHTML = docLinkHtml;\n",
              "          element.appendChild(docLink);\n",
              "        }\n",
              "      </script>\n",
              "    </div>\n",
              "  </div>\n",
              "  "
            ]
          },
          "metadata": {},
          "execution_count": 35
        }
      ],
      "source": [
        "# your code goes here\n",
        "QUERY = \"\"\"\n",
        "SELECT WorkWeekHrs, CodeRevHrs, Age from master\n",
        "WHERE Age between 30 and 35\n",
        "GROUP BY Age\n",
        "\"\"\"\n",
        "\n",
        "stacked_chart_df = pd.read_sql_query(QUERY,conn)\n",
        "stacked_chart_df.set_index('Age', inplace=True)\n",
        "stacked_chart_df"
      ]
    },
    {
      "cell_type": "code",
      "source": [
        "stacked_chart_df.plot(kind='bar', stacked=True)"
      ],
      "metadata": {
        "colab": {
          "base_uri": "https://localhost:8080/",
          "height": 308
        },
        "id": "ti_SkKwsU5G7",
        "outputId": "2eb5917f-9f09-4a28-cb6b-41d8369fd720"
      },
      "execution_count": 37,
      "outputs": [
        {
          "output_type": "execute_result",
          "data": {
            "text/plain": [
              "<Axes: xlabel='Age'>"
            ]
          },
          "metadata": {},
          "execution_count": 37
        },
        {
          "output_type": "display_data",
          "data": {
            "text/plain": [
              "<Figure size 432x288 with 1 Axes>"
            ],
            "image/png": "[encoded data removed]"
          },
          "metadata": {
            "needs_background": "light"
          }
        }
      ]
    },
    {
      "cell_type": "code",
      "source": [
        "import numpy as np"
      ],
      "metadata": {
        "id": "5gY3-aAiQEML"
      },
      "execution_count": 36,
      "outputs": []
    },
    {
      "cell_type": "markdown",
      "metadata": {
        "id": "gWXXXyEmT1gC"
      },
      "source": [
        "## Visualizing comparison of data\n"
      ]
    },
    {
      "cell_type": "markdown",
      "metadata": {
        "id": "ofzQxOYVT1gC"
      },
      "source": [
        "### Line Chart\n"
      ]
    },
    {
      "cell_type": "markdown",
      "metadata": {
        "id": "6ZFetx_VT1gC"
      },
      "source": [
        "Plot the median `ConvertedComp` for all ages from 45 to 60.\n"
      ]
    },
    {
      "cell_type": "code",
      "execution_count": 44,
      "metadata": {
        "id": "KtEMR1MgT1gC",
        "colab": {
          "base_uri": "https://localhost:8080/",
          "height": 321
        },
        "outputId": "ed122b48-3529-414b-ce47-b7cdb53443ae"
      },
      "outputs": [
        {
          "output_type": "error",
          "ename": "AttributeError",
          "evalue": "ignored",
          "traceback": [
            "\u001b[0;31m---------------------------------------------------------------------------\u001b[0m",
            "\u001b[0;31mAttributeError\u001b[0m                            Traceback (most recent call last)",
            "\u001b[0;32m<ipython-input-44-dd48550592b4>\u001b[0m in \u001b[0;36m<module>\u001b[0;34m\u001b[0m\n\u001b[1;32m      5\u001b[0m \"\"\"\n\u001b[1;32m      6\u001b[0m \u001b[0mmedian_converted_comp_45_to_60\u001b[0m\u001b[0;34m=\u001b[0m\u001b[0mpd\u001b[0m\u001b[0;34m.\u001b[0m\u001b[0mread_sql_query\u001b[0m\u001b[0;34m(\u001b[0m\u001b[0mQUERY\u001b[0m\u001b[0;34m,\u001b[0m\u001b[0mconn\u001b[0m\u001b[0;34m)\u001b[0m\u001b[0;34m\u001b[0m\u001b[0;34m\u001b[0m\u001b[0m\n\u001b[0;32m----> 7\u001b[0;31m \u001b[0mmedian_converted_comp_45_to_60\u001b[0m\u001b[0;34m=\u001b[0m \u001b[0mmedian_converted_comp_45_to_60\u001b[0m\u001b[0;34m.\u001b[0m\u001b[0mgrouby\u001b[0m\u001b[0;34m(\u001b[0m\u001b[0mby\u001b[0m\u001b[0;34m=\u001b[0m\u001b[0;34m'Age'\u001b[0m\u001b[0;34m)\u001b[0m\u001b[0;34m[\u001b[0m\u001b[0;34m'ConvertedComp'\u001b[0m\u001b[0;34m]\u001b[0m\u001b[0;34m.\u001b[0m\u001b[0mmedian\u001b[0m\u001b[0;34m(\u001b[0m\u001b[0;34m)\u001b[0m\u001b[0;34m\u001b[0m\u001b[0;34m\u001b[0m\u001b[0m\n\u001b[0m",
            "\u001b[0;32m/usr/local/lib/python3.9/dist-packages/pandas/core/generic.py\u001b[0m in \u001b[0;36m__getattr__\u001b[0;34m(self, name)\u001b[0m\n\u001b[1;32m   5573\u001b[0m         ):\n\u001b[1;32m   5574\u001b[0m             \u001b[0;32mreturn\u001b[0m \u001b[0mself\u001b[0m\u001b[0;34m[\u001b[0m\u001b[0mname\u001b[0m\u001b[0;34m]\u001b[0m\u001b[0;34m\u001b[0m\u001b[0;34m\u001b[0m\u001b[0m\n\u001b[0;32m-> 5575\u001b[0;31m         \u001b[0;32mreturn\u001b[0m \u001b[0mobject\u001b[0m\u001b[0;34m.\u001b[0m\u001b[0m__getattribute__\u001b[0m\u001b[0;34m(\u001b[0m\u001b[0mself\u001b[0m\u001b[0;34m,\u001b[0m \u001b[0mname\u001b[0m\u001b[0;34m)\u001b[0m\u001b[0;34m\u001b[0m\u001b[0;34m\u001b[0m\u001b[0m\n\u001b[0m\u001b[1;32m   5576\u001b[0m \u001b[0;34m\u001b[0m\u001b[0m\n\u001b[1;32m   5577\u001b[0m     \u001b[0;32mdef\u001b[0m \u001b[0m__setattr__\u001b[0m\u001b[0;34m(\u001b[0m\u001b[0mself\u001b[0m\u001b[0;34m,\u001b[0m \u001b[0mname\u001b[0m\u001b[0;34m:\u001b[0m \u001b[0mstr\u001b[0m\u001b[0;34m,\u001b[0m \u001b[0mvalue\u001b[0m\u001b[0;34m)\u001b[0m \u001b[0;34m->\u001b[0m \u001b[0;32mNone\u001b[0m\u001b[0;34m:\u001b[0m\u001b[0;34m\u001b[0m\u001b[0;34m\u001b[0m\u001b[0m\n",
            "\u001b[0;31mAttributeError\u001b[0m: 'DataFrame' object has no attribute 'grouby'"
          ]
        }
      ],
      "source": [
        "# your code goes here\n",
        "QUERY = \"\"\"\n",
        "SELECT Age, ConvertedComp from master\n",
        "WHERE Age between 45 and 60\n",
        "GROUP BY Age\n",
        "\"\"\"\n",
        "median_converted_comp_45_to_60=pd.read_sql_query(QUERY,conn)\n",
        "median_converted_comp_45_to_60= median_converted_comp_45_to_60.grouby(by='Age')['ConvertedComp'].median()\n"
      ]
    },
    {
      "cell_type": "code",
      "source": [
        "#from discussion forum answer from staff\n",
        "QUERY = \"\"\"\n",
        "SELECT Age, ConvertedComp\n",
        "FROM master\n",
        "Where Age between 45 and 60\n",
        "\"\"\"\n",
        "\n",
        "df9 = pd.read_sql_query(QUERY,conn)\n",
        "df9 = df9.groupby(by='Age')['ConvertedComp'].median()\n",
        "df9.plot()"
      ],
      "metadata": {
        "colab": {
          "base_uri": "https://localhost:8080/",
          "height": 296
        },
        "id": "XWWOhr1UWpJU",
        "outputId": "856fe21d-ed59-47eb-9b07-b1aecb159fd1"
      },
      "execution_count": 43,
      "outputs": [
        {
          "output_type": "execute_result",
          "data": {
            "text/plain": [
              "<Axes: xlabel='Age'>"
            ]
          },
          "metadata": {},
          "execution_count": 43
        },
        {
          "output_type": "display_data",
          "data": {
            "text/plain": [
              "<Figure size 432x288 with 1 Axes>"
            ],
            "image/png": "[encoded data removed]"
          },
          "metadata": {
            "needs_background": "light"
          }
        }
      ]
    },
    {
      "cell_type": "code",
      "source": [
        "#for quiz\n",
        "QUERY = \"\"\"\n",
        "SELECT Age, ConvertedComp\n",
        "FROM master\n",
        "Where Age between 25 and 30\n",
        "\"\"\"\n",
        "\n",
        "df9 = pd.read_sql_query(QUERY,conn)\n",
        "df9 = df9.groupby(by='Age')['ConvertedComp'].median()\n",
        "df9.plot()"
      ],
      "metadata": {
        "colab": {
          "base_uri": "https://localhost:8080/",
          "height": 296
        },
        "id": "Cq3YBJ1gXVqd",
        "outputId": "42c4acd0-d791-4baa-a1f4-82135db544ec"
      },
      "execution_count": 45,
      "outputs": [
        {
          "output_type": "execute_result",
          "data": {
            "text/plain": [
              "<Axes: xlabel='Age'>"
            ]
          },
          "metadata": {},
          "execution_count": 45
        },
        {
          "output_type": "display_data",
          "data": {
            "text/plain": [
              "<Figure size 432x288 with 1 Axes>"
            ],
            "image/png": "[encoded data removed]"
          },
          "metadata": {
            "needs_background": "light"
          }
        }
      ]
    },
    {
      "cell_type": "markdown",
      "metadata": {
        "id": "svP7Lj5aT1gC"
      },
      "source": [
        "### Bar Chart\n"
      ]
    },
    {
      "cell_type": "markdown",
      "metadata": {
        "id": "0jy8KHg0T1gC"
      },
      "source": [
        "Create a horizontal bar chart using column `MainBranch.`\n"
      ]
    },
    {
      "cell_type": "code",
      "execution_count": 50,
      "metadata": {
        "id": "oqLL0FH2T1gC",
        "colab": {
          "base_uri": "https://localhost:8080/",
          "height": 282
        },
        "outputId": "1da5f6c7-f240-4647-fc24-56aadf8c9465"
      },
      "outputs": [
        {
          "output_type": "execute_result",
          "data": {
            "text/plain": [
              "<Axes: ylabel='MainBranch'>"
            ]
          },
          "metadata": {},
          "execution_count": 50
        },
        {
          "output_type": "display_data",
          "data": {
            "text/plain": [
              "<Figure size 432x288 with 1 Axes>"
            ],
            "image/png": "[encoded data removed]"
          },
          "metadata": {
            "needs_background": "light"
          }
        }
      ],
      "source": [
        "# your code goes here\n",
        "\n",
        "QUERY = \"\"\"\n",
        "SELECT MainBranch, COUNT(MainBranch) as count_of_MainBranch\n",
        "FROM master\n",
        "GROUP BY MainBranch\n",
        "ORDER BY count_of_MainBranch\n",
        "\"\"\"\n",
        "\n",
        "df10 = pd.read_sql_query(QUERY,conn)\n",
        "df10.plot(kind = 'barh', x='MainBranch')"
      ]
    },
    {
      "cell_type": "markdown",
      "metadata": {
        "id": "0WtTWN-jT1gD"
      },
      "source": [
        "Close the database connection.\n"
      ]
    },
    {
      "cell_type": "code",
      "source": [
        "#DevType\n",
        "QUERY =\"\"\"\n",
        "SELECT DevType FROM master\n",
        "\"\"\"\n",
        "df11=pd.read_sql_query(QUERY,conn)\n",
        "df11"
      ],
      "metadata": {
        "colab": {
          "base_uri": "https://localhost:8080/",
          "height": 467
        },
        "id": "yT9KhHEiYswI",
        "outputId": "94109ab6-1bf0-4a74-8744-c1cba92a8bd7"
      },
      "execution_count": 51,
      "outputs": [
        {
          "output_type": "error",
          "ename": "DatabaseError",
          "evalue": "ignored",
          "traceback": [
            "\u001b[0;31m---------------------------------------------------------------------------\u001b[0m",
            "\u001b[0;31mOperationalError\u001b[0m                          Traceback (most recent call last)",
            "\u001b[0;32m/usr/local/lib/python3.9/dist-packages/pandas/io/sql.py\u001b[0m in \u001b[0;36mexecute\u001b[0;34m(self, *args, **kwargs)\u001b[0m\n\u001b[1;32m   2022\u001b[0m         \u001b[0;32mtry\u001b[0m\u001b[0;34m:\u001b[0m\u001b[0;34m\u001b[0m\u001b[0;34m\u001b[0m\u001b[0m\n\u001b[0;32m-> 2023\u001b[0;31m             \u001b[0mcur\u001b[0m\u001b[0;34m.\u001b[0m\u001b[0mexecute\u001b[0m\u001b[0;34m(\u001b[0m\u001b[0;34m*\u001b[0m\u001b[0margs\u001b[0m\u001b[0;34m,\u001b[0m \u001b[0;34m**\u001b[0m\u001b[0mkwargs\u001b[0m\u001b[0;34m)\u001b[0m\u001b[0;34m\u001b[0m\u001b[0;34m\u001b[0m\u001b[0m\n\u001b[0m\u001b[1;32m   2024\u001b[0m             \u001b[0;32mreturn\u001b[0m \u001b[0mcur\u001b[0m\u001b[0;34m\u001b[0m\u001b[0;34m\u001b[0m\u001b[0m\n",
            "\u001b[0;31mOperationalError\u001b[0m: no such column: DevType",
            "\nThe above exception was the direct cause of the following exception:\n",
            "\u001b[0;31mDatabaseError\u001b[0m                             Traceback (most recent call last)",
            "\u001b[0;32m<ipython-input-51-2de6edfc9049>\u001b[0m in \u001b[0;36m<module>\u001b[0;34m\u001b[0m\n\u001b[1;32m      3\u001b[0m \u001b[0mSELECT\u001b[0m \u001b[0mDevType\u001b[0m \u001b[0mFROM\u001b[0m \u001b[0mmaster\u001b[0m\u001b[0;34m\u001b[0m\u001b[0;34m\u001b[0m\u001b[0m\n\u001b[1;32m      4\u001b[0m \"\"\"\n\u001b[0;32m----> 5\u001b[0;31m \u001b[0mdf11\u001b[0m\u001b[0;34m=\u001b[0m\u001b[0mpd\u001b[0m\u001b[0;34m.\u001b[0m\u001b[0mread_sql_query\u001b[0m\u001b[0;34m(\u001b[0m\u001b[0mQUERY\u001b[0m\u001b[0;34m,\u001b[0m\u001b[0mconn\u001b[0m\u001b[0;34m)\u001b[0m\u001b[0;34m\u001b[0m\u001b[0;34m\u001b[0m\u001b[0m\n\u001b[0m\u001b[1;32m      6\u001b[0m \u001b[0mdf11\u001b[0m\u001b[0;34m\u001b[0m\u001b[0;34m\u001b[0m\u001b[0m\n",
            "\u001b[0;32m/usr/local/lib/python3.9/dist-packages/pandas/io/sql.py\u001b[0m in \u001b[0;36mread_sql_query\u001b[0;34m(sql, con, index_col, coerce_float, params, parse_dates, chunksize, dtype)\u001b[0m\n\u001b[1;32m    398\u001b[0m     \"\"\"\n\u001b[1;32m    399\u001b[0m     \u001b[0mpandas_sql\u001b[0m \u001b[0;34m=\u001b[0m \u001b[0mpandasSQL_builder\u001b[0m\u001b[0;34m(\u001b[0m\u001b[0mcon\u001b[0m\u001b[0;34m)\u001b[0m\u001b[0;34m\u001b[0m\u001b[0;34m\u001b[0m\u001b[0m\n\u001b[0;32m--> 400\u001b[0;31m     return pandas_sql.read_query(\n\u001b[0m\u001b[1;32m    401\u001b[0m         \u001b[0msql\u001b[0m\u001b[0;34m,\u001b[0m\u001b[0;34m\u001b[0m\u001b[0;34m\u001b[0m\u001b[0m\n\u001b[1;32m    402\u001b[0m         \u001b[0mindex_col\u001b[0m\u001b[0;34m=\u001b[0m\u001b[0mindex_col\u001b[0m\u001b[0;34m,\u001b[0m\u001b[0;34m\u001b[0m\u001b[0;34m\u001b[0m\u001b[0m\n",
            "\u001b[0;32m/usr/local/lib/python3.9/dist-packages/pandas/io/sql.py\u001b[0m in \u001b[0;36mread_query\u001b[0;34m(self, sql, index_col, coerce_float, params, parse_dates, chunksize, dtype)\u001b[0m\n\u001b[1;32m   2081\u001b[0m \u001b[0;34m\u001b[0m\u001b[0m\n\u001b[1;32m   2082\u001b[0m         \u001b[0margs\u001b[0m \u001b[0;34m=\u001b[0m \u001b[0m_convert_params\u001b[0m\u001b[0;34m(\u001b[0m\u001b[0msql\u001b[0m\u001b[0;34m,\u001b[0m \u001b[0mparams\u001b[0m\u001b[0;34m)\u001b[0m\u001b[0;34m\u001b[0m\u001b[0;34m\u001b[0m\u001b[0m\n\u001b[0;32m-> 2083\u001b[0;31m         \u001b[0mcursor\u001b[0m \u001b[0;34m=\u001b[0m \u001b[0mself\u001b[0m\u001b[0;34m.\u001b[0m\u001b[0mexecute\u001b[0m\u001b[0;34m(\u001b[0m\u001b[0;34m*\u001b[0m\u001b[0margs\u001b[0m\u001b[0;34m)\u001b[0m\u001b[0;34m\u001b[0m\u001b[0;34m\u001b[0m\u001b[0m\n\u001b[0m\u001b[1;32m   2084\u001b[0m         \u001b[0mcolumns\u001b[0m \u001b[0;34m=\u001b[0m \u001b[0;34m[\u001b[0m\u001b[0mcol_desc\u001b[0m\u001b[0;34m[\u001b[0m\u001b[0;36m0\u001b[0m\u001b[0;34m]\u001b[0m \u001b[0;32mfor\u001b[0m \u001b[0mcol_desc\u001b[0m \u001b[0;32min\u001b[0m \u001b[0mcursor\u001b[0m\u001b[0;34m.\u001b[0m\u001b[0mdescription\u001b[0m\u001b[0;34m]\u001b[0m\u001b[0;34m\u001b[0m\u001b[0;34m\u001b[0m\u001b[0m\n\u001b[1;32m   2085\u001b[0m \u001b[0;34m\u001b[0m\u001b[0m\n",
            "\u001b[0;32m/usr/local/lib/python3.9/dist-packages/pandas/io/sql.py\u001b[0m in \u001b[0;36mexecute\u001b[0;34m(self, *args, **kwargs)\u001b[0m\n\u001b[1;32m   2033\u001b[0m \u001b[0;34m\u001b[0m\u001b[0m\n\u001b[1;32m   2034\u001b[0m             \u001b[0mex\u001b[0m \u001b[0;34m=\u001b[0m \u001b[0mDatabaseError\u001b[0m\u001b[0;34m(\u001b[0m\u001b[0;34mf\"Execution failed on sql '{args[0]}': {exc}\"\u001b[0m\u001b[0;34m)\u001b[0m\u001b[0;34m\u001b[0m\u001b[0;34m\u001b[0m\u001b[0m\n\u001b[0;32m-> 2035\u001b[0;31m             \u001b[0;32mraise\u001b[0m \u001b[0mex\u001b[0m \u001b[0;32mfrom\u001b[0m \u001b[0mexc\u001b[0m\u001b[0;34m\u001b[0m\u001b[0;34m\u001b[0m\u001b[0m\n\u001b[0m\u001b[1;32m   2036\u001b[0m \u001b[0;34m\u001b[0m\u001b[0m\n\u001b[1;32m   2037\u001b[0m     \u001b[0;34m@\u001b[0m\u001b[0mstaticmethod\u001b[0m\u001b[0;34m\u001b[0m\u001b[0;34m\u001b[0m\u001b[0m\n",
            "\u001b[0;31mDatabaseError\u001b[0m: Execution failed on sql '\nSELECT DevType FROM master\n': no such column: DevType"
          ]
        }
      ]
    },
    {
      "cell_type": "code",
      "execution_count": 52,
      "metadata": {
        "id": "b1QbTUd8T1gD"
      },
      "outputs": [],
      "source": [
        "conn.close()"
      ]
    },
    {
      "cell_type": "markdown",
      "metadata": {
        "id": "0oqvWO4ET1gD"
      },
      "source": [
        "## Authors\n"
      ]
    },
    {
      "cell_type": "markdown",
      "metadata": {
        "id": "X0SWbKN0T1gD"
      },
      "source": [
        "Ramesh Sannareddy\n"
      ]
    },
    {
      "cell_type": "markdown",
      "metadata": {
        "id": "VI0OKec5T1gD"
      },
      "source": [
        "### Other Contributors\n"
      ]
    },
    {
      "cell_type": "markdown",
      "metadata": {
        "id": "p5_wBkVoT1gD"
      },
      "source": [
        "Rav Ahuja\n"
      ]
    },
    {
      "cell_type": "markdown",
      "metadata": {
        "id": "s-wfuzdCT1gD"
      },
      "source": [
        "## Change Log\n"
      ]
    },
    {
      "cell_type": "markdown",
      "metadata": {
        "id": "NGKdyMgrT1gD"
      },
      "source": [
        "| Date (YYYY-MM-DD) | Version | Changed By        | Change Description                 |\n",
        "| ----------------- | ------- | ----------------- | ---------------------------------- |\n",
        "| 2020-10-17        | 0.1     | Ramesh Sannareddy | Created initial version of the lab |\n"
      ]
    },
    {
      "cell_type": "markdown",
      "metadata": {
        "id": "Hn_R-bC6T1gE"
      },
      "source": [
        "Copyright © 2020 IBM Corporation. This notebook and its source code are released under the terms of the [MIT License](https://cognitiveclass.ai/mit-license?utm_medium=Exinfluencer&utm_source=Exinfluencer&utm_content=000026UJ&utm_term=10006555&utm_id=NA-SkillsNetwork-Channel-SkillsNetworkCoursesIBMDA0321ENSkillsNetwork21426264-2022-01-01&cm_mmc=Email_Newsletter-\\_-Developer_Ed%2BTech-\\_-WW_WW-\\_-SkillsNetwork-Courses-IBM-DA0321EN-SkillsNetwork-21426264&cm_mmca1=000026UJ&cm_mmca2=10006555&cm_mmca3=M12345678&cvosrc=email.Newsletter.M12345678&cvo_campaign=000026UJ).\n"
      ]
    }
  ],
  "metadata": {
    "kernelspec": {
      "display_name": "Python 3",
      "language": "python",
      "name": "python3"
    },
    "language_info": {
      "codemirror_mode": {
        "name": "ipython",
        "version": 3
      },
      "file_extension": ".py",
      "mimetype": "text/x-python",
      "name": "python",
      "nbconvert_exporter": "python",
      "pygments_lexer": "ipython3",
      "version": "3.7.6"
    },
    "colab": {
      "provenance": []
    }
  },
  "nbformat": 4,
  "nbformat_minor": 0
}